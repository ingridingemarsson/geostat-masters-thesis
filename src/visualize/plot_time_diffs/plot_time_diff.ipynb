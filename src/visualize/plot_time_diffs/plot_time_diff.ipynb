{
 "cells": [
  {
   "cell_type": "code",
   "execution_count": 2,
   "id": "reliable-failing",
   "metadata": {},
   "outputs": [],
   "source": [
    "import numpy as np\n",
    "import os\n",
    "import datetime\n",
    "import matplotlib.pyplot as plt\n",
    "\n",
    "import xarray as xr"
   ]
  },
  {
   "cell_type": "code",
   "execution_count": 2,
   "id": "realistic-tiffany",
   "metadata": {},
   "outputs": [],
   "source": [
    "parentdir = '../downloads/Dataset/linkfile2017-12'#'../data/first_net_dataset/origin/train/linkfile2017-12'  #'/home/ingrid/Documents/Exjobb/Dendrite/UserAreas/Ingrid/Dataset/'\n",
    "\n",
    "time_diffs = []\n",
    "file_list = []\n",
    "for path, subdir, files in os.walk(parentdir):\n",
    "    for file in files:    \n",
    "        if file.endswith('.nc'):\n",
    "            file_list.append(os.path.join(path,file))\n",
    "            dataset = xr.open_dataset(os.path.join(path,file))\n",
    "            dataset.close()\n",
    "            \n",
    "            gpm_in_str = dataset.attrs['gpm_time_in']\n",
    "            gpm_in = datetime.datetime.strptime(gpm_in_str if len(gpm_in_str)==26 else gpm_in_str+'.000000', '%Y-%m-%d %H:%M:%S.%f')\n",
    "            gpm_out_str = dataset.attrs['gpm_time_out']\n",
    "            gpm_out = datetime.datetime.strptime(gpm_out_str if len(gpm_out_str)==26 else gpm_out_str+'.000000', '%Y-%m-%d %H:%M:%S.%f')\n",
    "            gpm_mid = gpm_in + datetime.timedelta(seconds=(gpm_out-gpm_in).total_seconds()/2)\n",
    "            \n",
    "            goes_in_str = dataset.attrs['goes_time_in']\n",
    "            goes_in = datetime.datetime.strptime(goes_in_str if len(goes_in_str)==26 else goes_in_str+'.000000', '%Y-%m-%d %H:%M:%S.%f')\n",
    "            goes_out_str = dataset.attrs['goes_time_out']\n",
    "            goes_out = datetime.datetime.strptime(goes_out_str if len(goes_out_str)==26 else goes_out_str+'.000000', '%Y-%m-%d %H:%M:%S.%f')\n",
    "            goes_mid = goes_in + datetime.timedelta(seconds=(goes_out-goes_in).total_seconds()/2)\n",
    "\n",
    "            time_diffs.append(np.abs((gpm_mid-goes_mid).total_seconds()))"
   ]
  },
  {
   "cell_type": "code",
   "execution_count": 3,
   "id": "destroyed-address",
   "metadata": {},
   "outputs": [
    {
     "name": "stdout",
     "output_type": "stream",
     "text": [
      "tolerance 480\n",
      "number of samples 106\n",
      "number of files exeeding time 0\n"
     ]
    }
   ],
   "source": [
    "time_diffs_np = np.array(time_diffs)\n",
    "file_list_np = np.array(file_list)\n",
    "diff_tol = 8*60 #5*60 \n",
    "print('tolerance', diff_tol)\n",
    "print('number of samples', len(file_list_np))\n",
    "print('number of files exeeding time', len(file_list_np[np.where(time_diffs_np>diff_tol)]))"
   ]
  },
  {
   "cell_type": "code",
   "execution_count": 5,
   "id": "covered-prairie",
   "metadata": {},
   "outputs": [
    {
     "data": {
      "text/plain": [
       "array([323.996   , 199.942   ,  35.792   , ..., 177.014501, 558.835999,\n",
       "       381.386   ])"
      ]
     },
     "execution_count": 5,
     "metadata": {},
     "output_type": "execute_result"
    }
   ],
   "source": [
    "#np.save('time_diffs_np_2017-12-old.npy', time_diffs_np)\n",
    "#np.save('file_list_np_2017-12-old.npy', file_list_np)'\n"
   ]
  },
  {
   "cell_type": "code",
   "execution_count": 8,
   "id": "hourly-seattle",
   "metadata": {},
   "outputs": [
    {
     "ename": "NameError",
     "evalue": "name 'file_list_np' is not defined",
     "output_type": "error",
     "traceback": [
      "\u001b[0;31m---------------------------------------------------------------------------\u001b[0m",
      "\u001b[0;31mNameError\u001b[0m                                 Traceback (most recent call last)",
      "\u001b[0;32m<ipython-input-8-d9fa18dc28d2>\u001b[0m in \u001b[0;36m<module>\u001b[0;34m\u001b[0m\n\u001b[0;32m----> 1\u001b[0;31m \u001b[0;32mfor\u001b[0m \u001b[0mfile\u001b[0m \u001b[0;32min\u001b[0m \u001b[0mfile_list_np\u001b[0m\u001b[0;34m[\u001b[0m\u001b[0mnp\u001b[0m\u001b[0;34m.\u001b[0m\u001b[0mwhere\u001b[0m\u001b[0;34m(\u001b[0m\u001b[0mtime_diffs_np\u001b[0m\u001b[0;34m>\u001b[0m\u001b[0mdiff_tol\u001b[0m\u001b[0;34m)\u001b[0m\u001b[0;34m]\u001b[0m\u001b[0;34m:\u001b[0m\u001b[0;34m\u001b[0m\u001b[0;34m\u001b[0m\u001b[0m\n\u001b[0m\u001b[1;32m      2\u001b[0m     \u001b[0mprint\u001b[0m\u001b[0;34m(\u001b[0m\u001b[0mos\u001b[0m\u001b[0;34m.\u001b[0m\u001b[0mpath\u001b[0m\u001b[0;34m.\u001b[0m\u001b[0mbasename\u001b[0m\u001b[0;34m(\u001b[0m\u001b[0mfile\u001b[0m\u001b[0;34m)\u001b[0m\u001b[0;34m)\u001b[0m\u001b[0;34m\u001b[0m\u001b[0;34m\u001b[0m\u001b[0m\n\u001b[1;32m      3\u001b[0m     \u001b[0mdataset\u001b[0m \u001b[0;34m=\u001b[0m \u001b[0mxr\u001b[0m\u001b[0;34m.\u001b[0m\u001b[0mopen_dataset\u001b[0m\u001b[0;34m(\u001b[0m\u001b[0mfile\u001b[0m\u001b[0;34m)\u001b[0m\u001b[0;34m\u001b[0m\u001b[0;34m\u001b[0m\u001b[0m\n\u001b[1;32m      4\u001b[0m     \u001b[0mdataset\u001b[0m\u001b[0;34m.\u001b[0m\u001b[0mclose\u001b[0m\u001b[0;34m(\u001b[0m\u001b[0;34m)\u001b[0m\u001b[0;34m\u001b[0m\u001b[0;34m\u001b[0m\u001b[0m\n\u001b[1;32m      5\u001b[0m     \u001b[0mprint\u001b[0m\u001b[0;34m(\u001b[0m\u001b[0mdataset\u001b[0m\u001b[0;34m)\u001b[0m\u001b[0;34m\u001b[0m\u001b[0;34m\u001b[0m\u001b[0m\n",
      "\u001b[0;31mNameError\u001b[0m: name 'file_list_np' is not defined"
     ]
    }
   ],
   "source": [
    "for file in file_list_np[np.where(time_diffs_np>diff_tol)]:\n",
    "    print(os.path.basename(file))\n",
    "    dataset = xr.open_dataset(file)\n",
    "    dataset.close()\n",
    "    print(dataset)"
   ]
  },
  {
   "cell_type": "code",
   "execution_count": 18,
   "id": "married-adoption",
   "metadata": {},
   "outputs": [
    {
     "name": "stdout",
     "output_type": "stream",
     "text": [
      "greatest timediff hrs  6.286568611111111\n",
      "smallest timediff seconds  0.0205\n"
     ]
    }
   ],
   "source": [
    "time_diffs=np.load('time_diffs_np.npy')\n",
    "print('greatest timediff hrs ', max(time_diffs)/(60*60))\n",
    "print('smallest timediff seconds ', min(time_diffs))"
   ]
  },
  {
   "cell_type": "code",
   "execution_count": 27,
   "id": "annoying-banana",
   "metadata": {},
   "outputs": [
    {
     "name": "stdout",
     "output_type": "stream",
     "text": [
      "[ 1504.168999  8353.121     8187.221     8005.9215    1291.594\n",
      "  1127.444499   949.294999  6932.569     7093.569     7266.819\n",
      "  1369.67      8301.755     8474.655     2650.664999  2819.364999\n",
      "  3008.7145    9343.962999  9512.662499  9702.362     2603.164\n",
      "  2768.014     2948.964     1573.945     1412.245     1241.445\n",
      "  1911.562     2073.612     2248.262    22631.647    22466.447\n",
      " 22287.247     5193.720999  5376.770999  2150.5035    2313.9535\n",
      "  2490.353     2329.336999  2491.386999  2664.2865  ]\n",
      "790\n",
      "8666\n"
     ]
    }
   ],
   "source": [
    "print(time_diffs[time_diffs>15*60])\n",
    "print(len(time_diffs[time_diffs>8*60]))\n",
    "print(len(time_diffs))"
   ]
  },
  {
   "cell_type": "code",
   "execution_count": 20,
   "id": "graduate-airfare",
   "metadata": {},
   "outputs": [
    {
     "data": {
      "image/png": "[encoded data removed]",
      "text/plain": [
       "<Figure size 432x288 with 1 Axes>"
      ]
     },
     "metadata": {
      "needs_background": "light"
     },
     "output_type": "display_data"
    }
   ],
   "source": [
    "plt.hist(np.array(time_diffs), bins=500)\n",
    "plt.show()"
   ]
  },
  {
   "cell_type": "code",
   "execution_count": 7,
   "id": "vocal-marijuana",
   "metadata": {},
   "outputs": [
    {
     "data": {
      "image/png": "[encoded data removed]",
      "text/plain": [
       "<Figure size 432x288 with 1 Axes>"
      ]
     },
     "metadata": {
      "needs_background": "light"
     },
     "output_type": "display_data"
    }
   ],
   "source": [
    "\n",
    "\n",
    "def plot_loghist(x, bins):\n",
    "  hist, bins = np.histogram(x, bins=bins)\n",
    "  logbins = np.logspace(np.log10(bins[0]),np.log10(bins[-1]),len(bins))\n",
    "  plt.hist(x, bins=logbins)\n",
    "  plt.xscale('log')\n",
    "  plt.xlabel('absolute time difference (seconds)')\n",
    "  plt.ylabel('counts')\n",
    "  plt.title('Log hist of center time difference between gpm and goes images')\n",
    "\n",
    "plot_loghist(time_diffs, 100)"
   ]
  },
  {
   "cell_type": "code",
   "execution_count": null,
   "id": "scheduled-shoulder",
   "metadata": {},
   "outputs": [],
   "source": []
  }
 ],
 "metadata": {
  "kernelspec": {
   "display_name": "Python 3",
   "language": "python",
   "name": "python3"
  },
  "language_info": {
   "codemirror_mode": {
    "name": "ipython",
    "version": 3
   },
   "file_extension": ".py",
   "mimetype": "text/x-python",
   "name": "python",
   "nbconvert_exporter": "python",
   "pygments_lexer": "ipython3",
   "version": "3.8.5"
  }
 },
 "nbformat": 4,
 "nbformat_minor": 5
}

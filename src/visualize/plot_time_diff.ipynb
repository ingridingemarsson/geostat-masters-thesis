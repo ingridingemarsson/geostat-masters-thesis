{
 "cells": [
  {
   "cell_type": "code",
   "execution_count": 1,
   "id": "reliable-failing",
   "metadata": {},
   "outputs": [],
   "source": [
    "import numpy as np\n",
    "import os\n",
    "import datetime\n",
    "import matplotlib.pyplot as plt\n",
    "\n",
    "import xarray as xr"
   ]
  },
  {
   "cell_type": "code",
   "execution_count": 2,
   "id": "realistic-tiffany",
   "metadata": {},
   "outputs": [],
   "source": [
    "parentdir = '../downloads/Dataset/linkfile2017-12'#'../data/first_net_dataset/origin/train/linkfile2017-12'  #'/home/ingrid/Documents/Exjobb/Dendrite/UserAreas/Ingrid/Dataset/'\n",
    "\n",
    "time_diffs = []\n",
    "file_list = []\n",
    "for path, subdir, files in os.walk(parentdir):\n",
    "    for file in files:    \n",
    "        if file.endswith('.nc'):\n",
    "            file_list.append(os.path.join(path,file))\n",
    "            dataset = xr.open_dataset(os.path.join(path,file))\n",
    "            dataset.close()\n",
    "            \n",
    "            gpm_in_str = dataset.attrs['gpm_time_in']\n",
    "            gpm_in = datetime.datetime.strptime(gpm_in_str if len(gpm_in_str)==26 else gpm_in_str+'.000000', '%Y-%m-%d %H:%M:%S.%f')\n",
    "            gpm_out_str = dataset.attrs['gpm_time_out']\n",
    "            gpm_out = datetime.datetime.strptime(gpm_out_str if len(gpm_out_str)==26 else gpm_out_str+'.000000', '%Y-%m-%d %H:%M:%S.%f')\n",
    "            gpm_mid = gpm_in + datetime.timedelta(seconds=(gpm_out-gpm_in).total_seconds()/2)\n",
    "            \n",
    "            goes_in_str = dataset.attrs['goes_time_in']\n",
    "            goes_in = datetime.datetime.strptime(goes_in_str if len(goes_in_str)==26 else goes_in_str+'.000000', '%Y-%m-%d %H:%M:%S.%f')\n",
    "            goes_out_str = dataset.attrs['goes_time_out']\n",
    "            goes_out = datetime.datetime.strptime(goes_out_str if len(goes_out_str)==26 else goes_out_str+'.000000', '%Y-%m-%d %H:%M:%S.%f')\n",
    "            goes_mid = goes_in + datetime.timedelta(seconds=(goes_out-goes_in).total_seconds()/2)\n",
    "\n",
    "            time_diffs.append(np.abs((gpm_mid-goes_mid).total_seconds()))"
   ]
  },
  {
   "cell_type": "code",
   "execution_count": 3,
   "id": "destroyed-address",
   "metadata": {},
   "outputs": [
    {
     "name": "stdout",
     "output_type": "stream",
     "text": [
      "tolerance 480\n",
      "number of samples 106\n",
      "number of files exeeding time 0\n"
     ]
    }
   ],
   "source": [
    "time_diffs_np = np.array(time_diffs)\n",
    "file_list_np = np.array(file_list)\n",
    "diff_tol = 8*60 #5*60 \n",
    "print('tolerance', diff_tol)\n",
    "print('number of samples', len(file_list_np))\n",
    "print('number of files exeeding time', len(file_list_np[np.where(time_diffs_np>diff_tol)]))"
   ]
  },
  {
   "cell_type": "code",
   "execution_count": 4,
   "id": "covered-prairie",
   "metadata": {},
   "outputs": [],
   "source": [
    "np.save('time_diffs_np_2017-12-old.npy', time_diffs_np)\n",
    "np.save('file_list_np_2017-12-old.npy', file_list_np)"
   ]
  },
  {
   "cell_type": "code",
   "execution_count": 5,
   "id": "hourly-seattle",
   "metadata": {},
   "outputs": [],
   "source": [
    "for file in file_list_np[np.where(time_diffs_np>diff_tol)]:\n",
    "    print(os.path.basename(file))\n",
    "    dataset = xr.open_dataset(file)\n",
    "    dataset.close()\n",
    "    print(dataset)"
   ]
  },
  {
   "cell_type": "code",
   "execution_count": 6,
   "id": "graduate-airfare",
   "metadata": {},
   "outputs": [
    {
     "data": {
      "image/png": "[encoded data removed]",
      "text/plain": [
       "<Figure size 432x288 with 1 Axes>"
      ]
     },
     "metadata": {
      "needs_background": "light"
     },
     "output_type": "display_data"
    }
   ],
   "source": [
    "plt.hist(np.array(time_diffs), bins=10)\n",
    "plt.show()"
   ]
  },
  {
   "cell_type": "code",
   "execution_count": 7,
   "id": "vocal-marijuana",
   "metadata": {},
   "outputs": [
    {
     "data": {
      "image/png": "[encoded data removed]",
      "text/plain": [
       "<Figure size 432x288 with 1 Axes>"
      ]
     },
     "metadata": {
      "needs_background": "light"
     },
     "output_type": "display_data"
    }
   ],
   "source": [
    "\n",
    "\n",
    "def plot_loghist(x, bins):\n",
    "  hist, bins = np.histogram(x, bins=bins)\n",
    "  logbins = np.logspace(np.log10(bins[0]),np.log10(bins[-1]),len(bins))\n",
    "  plt.hist(x, bins=logbins)\n",
    "  plt.xscale('log')\n",
    "  plt.xlabel('absolute time difference (seconds)')\n",
    "  plt.ylabel('counts')\n",
    "  plt.title('Log hist of center time difference between gpm and goes images')\n",
    "\n",
    "plot_loghist(time_diffs, 100)"
   ]
  },
  {
   "cell_type": "code",
   "execution_count": null,
   "id": "scheduled-shoulder",
   "metadata": {},
   "outputs": [],
   "source": []
  }
 ],
 "metadata": {
  "kernelspec": {
   "display_name": "Python 3",
   "language": "python",
   "name": "python3"
  },
  "language_info": {
   "codemirror_mode": {
    "name": "ipython",
    "version": 3
   },
   "file_extension": ".py",
   "mimetype": "text/x-python",
   "name": "python",
   "nbconvert_exporter": "python",
   "pygments_lexer": "ipython3",
   "version": "3.8.5"
  }
 },
 "nbformat": 4,
 "nbformat_minor": 5
}

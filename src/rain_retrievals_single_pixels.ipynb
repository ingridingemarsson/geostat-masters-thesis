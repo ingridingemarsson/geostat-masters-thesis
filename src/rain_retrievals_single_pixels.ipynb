{
 "cells": [
  {
   "cell_type": "code",
   "execution_count": 1,
   "id": "drawn-sociology",
   "metadata": {},
   "outputs": [
    {
     "name": "stderr",
     "output_type": "stream",
     "text": [
      "/home/ingrid/anaconda3/envs/geostat/lib/python3.8/site-packages/torch/cuda/__init__.py:52: UserWarning: CUDA initialization: Found no NVIDIA driver on your system. Please check that you have an NVIDIA GPU and installed a driver from http://www.nvidia.com/Download/index.aspx (Triggered internally at  /opt/conda/conda-bld/pytorch_1603729062494/work/c10/cuda/CUDAFunctions.cpp:100.)\n",
      "  return torch._C._cuda_getDeviceCount() > 0\n"
     ]
    },
    {
     "name": "stdout",
     "output_type": "stream",
     "text": [
      "device:  cpu\n"
     ]
    }
   ],
   "source": [
    "%load_ext autoreload\n",
    "%autoreload 2\n",
    "%matplotlib inline\n",
    "import numpy as np\n",
    "import torch\n",
    "from torch.utils.tensorboard import SummaryWriter\n",
    "from torch.utils.data import Dataset, DataLoader\n",
    "from torchvision import transforms, utils\n",
    "from torch.optim import SGD, Adam\n",
    "from torch.optim.lr_scheduler import CosineAnnealingLR\n",
    "import os\n",
    "import warnings\n",
    "from pathlib import Path\n",
    "from datetime import datetime\n",
    "from tqdm import tqdm\n",
    "\n",
    "device = torch.device('cuda' if torch.cuda.is_available() else 'cpu')\n",
    "print('device: ', device)\n",
    "\n",
    "from quantnn.qrnn import QRNN\n",
    "from quantnn.models.pytorch import BatchedDataset\n",
    "from quantnn.models.pytorch.logging import TensorBoardLogger\n",
    "\n",
    "from models.singles_fc import Net"
   ]
  },
  {
   "cell_type": "code",
   "execution_count": 2,
   "id": "entitled-thanksgiving",
   "metadata": {},
   "outputs": [],
   "source": [
    "# SETUP\n",
    "channels = [8, 13]\n",
    "fillvalue = -1\n",
    "\n",
    "n_epochs = 20\n",
    "BATCH_SIZE = 16\n",
    "\n",
    "quantiles = np.linspace(0.01, 0.99, 99)\n"
   ]
  },
  {
   "cell_type": "code",
   "execution_count": 3,
   "id": "simple-mambo",
   "metadata": {},
   "outputs": [],
   "source": [
    "path_to_data = 'data/first_net_dataset/singles/'\n",
    "X_train = np.load(path_to_data+'train/X_singles_dataset.npy')\n",
    "y_train = np.load(path_to_data+'train/y_singles_dataset.npy')\n",
    "X_val = np.load(path_to_data+'validation/X_singles_dataset.npy')\n",
    "y_val = np.load(path_to_data+'validation/y_singles_dataset.npy')"
   ]
  },
  {
   "cell_type": "code",
   "execution_count": 4,
   "id": "aware-literature",
   "metadata": {},
   "outputs": [],
   "source": [
    "subs = 100000\n",
    "X_train = X_train[:subs].astype(np.float32)\n",
    "y_train = y_train[:subs].astype(np.float32)\n",
    "X_val = X_val[:subs].astype(np.float32)\n",
    "y_val = y_val[:subs].astype(np.float32)"
   ]
  },
  {
   "cell_type": "code",
   "execution_count": 5,
   "id": "hired-cliff",
   "metadata": {},
   "outputs": [],
   "source": [
    "def Standardize(X, path_to_data):\n",
    "    stats = np.load(path_to_data+'train/X_singles_stats.npy')\n",
    "    return (X-stats[0,:])/stats[1,:]"
   ]
  },
  {
   "cell_type": "code",
   "execution_count": 6,
   "id": "classified-registration",
   "metadata": {},
   "outputs": [],
   "source": [
    "X_train = Standardize(X_train, path_to_data).astype(np.float32)\n",
    "X_val = Standardize(X_val, path_to_data).astype(np.float32)"
   ]
  },
  {
   "cell_type": "code",
   "execution_count": 7,
   "id": "minute-studio",
   "metadata": {},
   "outputs": [],
   "source": [
    "model_fc = Net(len(quantiles), len(channels))\n",
    "qrnn_fc = QRNN(quantiles=quantiles, model=model_fc)"
   ]
  },
  {
   "cell_type": "code",
   "execution_count": 8,
   "id": "identified-interaction",
   "metadata": {},
   "outputs": [],
   "source": [
    "training_data = BatchedDataset((X_train, y_train), 32)\n",
    "validation_data = BatchedDataset((X_val, y_val), 32)\n",
    "optimizer = SGD(model_fc.parameters(), lr=0.1, momentum=0.9)"
   ]
  },
  {
   "cell_type": "code",
   "execution_count": 9,
   "id": "local-light",
   "metadata": {},
   "outputs": [],
   "source": [
    "log_directory = None\n",
    "logger = TensorBoardLogger(n_epochs, log_directory=log_directory)"
   ]
  },
  {
   "cell_type": "code",
   "execution_count": 10,
   "id": "regular-register",
   "metadata": {},
   "outputs": [
    {
     "name": "stdout",
     "output_type": "stream",
     "text": [
      "Epoch  1 / 20: train. loss = 0.0741, val. loss = 0.0236, lr. = 0.1000, time = 10.821497 s\n",
      "Epoch  2 / 20: train. loss = 0.0724, val. loss = 0.0233, lr. = 0.0978, time = 11.617771 s\n",
      "Epoch  3 / 20: train. loss = 0.0721, val. loss = 0.0234, lr. = 0.0914, time = 11.799776 s\n",
      "Epoch  4 / 20: train. loss = 0.0719, val. loss = 0.0245, lr. = 0.0815, time = 11.67407 s\n",
      "Epoch  5 / 20: train. loss = 0.0717, val. loss = 0.0236, lr. = 0.0689, time = 12.204987 s\n",
      "Epoch  6 / 20: train. loss = 0.0716, val. loss = 0.0234, lr. = 0.0550, time = 12.465506 s\n",
      "Epoch  7 / 20: train. loss = 0.0715, val. loss = 0.0236, lr. = 0.0411, time = 12.07947 s\n",
      "Epoch  8 / 20: train. loss = 0.0715, val. loss = 0.0236, lr. = 0.0285, time = 11.953191 s\n",
      "Epoch  9 / 20: train. loss = 0.0714, val. loss = 0.0233, lr. = 0.0186, time = 12.19803 s\n",
      "Epoch 10 / 20: train. loss = 0.0714, val. loss = 0.0234, lr. = 0.0122, time = 12.082507 s\n",
      "Epoch 11 / 20: train. loss = 0.0715, val. loss = 0.0235, lr. = 0.1000, time = 11.929167 s\n",
      "Epoch 12 / 20: train. loss = 0.0715, val. loss = 0.0236, lr. = 0.0994, time = 11.93158 s\n",
      "Epoch 13 / 20: train. loss = 0.0714, val. loss = 0.0234, lr. = 0.0976, time = 12.135166 s\n",
      "Epoch 14 / 20: train. loss = 0.0713, val. loss = 0.0247, lr. = 0.0946, time = 11.991747 s\n",
      "Epoch 15 / 20: train. loss = 0.0713, val. loss = 0.0244, lr. = 0.0905, time = 14.263105 s\n",
      "Epoch 16 / 20: train. loss = 0.0713, val. loss = 0.0237, lr. = 0.0855, time = 11.985577 s\n",
      "Epoch 17 / 20: train. loss = 0.0710, val. loss = 0.0235, lr. = 0.0796, time = 13.517136 s\n",
      "Epoch 18 / 20: train. loss = 0.0707, val. loss = 0.0232, lr. = 0.0730, time = 12.262179 s\n",
      "Epoch 19 / 20: train. loss = 0.0706, val. loss = 0.0239, lr. = 0.0658, time = 12.037402 s\n",
      "Epoch 20 / 20: train. loss = 0.0705, val. loss = 0.0231, lr. = 0.0582, time = 12.373969 s\n",
      "Epoch 21 / 20: train. loss = 0.0705, val. loss = 0.0231, lr. = 0.0505, time = 12.732498 s\n",
      "Epoch 22 / 20: train. loss = 0.0705, val. loss = 0.0237, lr. = 0.0428, time = 12.783234 s\n",
      "Epoch 23 / 20: train. loss = 0.0704, val. loss = 0.0233, lr. = 0.0352, time = 12.348657 s\n",
      "Epoch 24 / 20: train. loss = 0.0703, val. loss = 0.0234, lr. = 0.0280, time = 11.998714 s\n",
      "Epoch 25 / 20: train. loss = 0.0703, val. loss = 0.0233, lr. = 0.0214, time = 12.438273 s\n",
      "Epoch 26 / 20: train. loss = 0.0703, val. loss = 0.0232, lr. = 0.0155, time = 12.265533 s\n",
      "Epoch 27 / 20: train. loss = 0.0702, val. loss = 0.0235, lr. = 0.0105, time = 12.257063 s\n",
      "Epoch 28 / 20: train. loss = 0.0702, val. loss = 0.0234, lr. = 0.0064, time = 12.359753 s\n",
      "Epoch 29 / 20: train. loss = 0.0702, val. loss = 0.0232, lr. = 0.0034, time = 12.272732 s\n",
      "Epoch 30 / 20: train. loss = 0.0702, val. loss = 0.0232, lr. = 0.0016, time = 12.182313 s\n",
      "Epoch 31 / 20: train. loss = 0.0707, val. loss = 0.0232, lr. = 0.1000, time = 12.385322 s\n",
      "Epoch 32 / 20: train. loss = 0.0707, val. loss = 0.0233, lr. = 0.0998, time = 12.168752 s\n",
      "Epoch 33 / 20: train. loss = 0.0706, val. loss = 0.0232, lr. = 0.0994, time = 12.156029 s\n",
      "Epoch 34 / 20: train. loss = 0.0706, val. loss = 0.0232, lr. = 0.0986, time = 12.431602 s\n",
      "Epoch 35 / 20: train. loss = 0.0706, val. loss = 0.0234, lr. = 0.0976, time = 12.488022 s\n",
      "Epoch 36 / 20: train. loss = 0.0706, val. loss = 0.0231, lr. = 0.0962, time = 12.137852 s\n",
      "Epoch 37 / 20: train. loss = 0.0706, val. loss = 0.0235, lr. = 0.0946, time = 12.330038 s\n",
      "Epoch 38 / 20: train. loss = 0.0705, val. loss = 0.0236, lr. = 0.0926, time = 12.531926 s\n",
      "Epoch 39 / 20: train. loss = 0.0705, val. loss = 0.0239, lr. = 0.0905, time = 12.78359 s\n",
      "Epoch 40 / 20: train. loss = 0.0703, val. loss = 0.0235, lr. = 0.0880, time = 12.45281 s\n",
      "Epoch 41 / 20: train. loss = 0.0703, val. loss = 0.0236, lr. = 0.0854, time = 12.336739 s\n",
      "Epoch 42 / 20: train. loss = 0.0703, val. loss = 0.0235, lr. = 0.0825, time = 12.465565 s\n",
      "Epoch 43 / 20: train. loss = 0.0703, val. loss = 0.0231, lr. = 0.0794, time = 12.685676 s\n",
      "Epoch 44 / 20: train. loss = 0.0702, val. loss = 0.0231, lr. = 0.0761, time = 12.415036 s\n",
      "Epoch 45 / 20: train. loss = 0.0702, val. loss = 0.0233, lr. = 0.0727, time = 12.437811 s\n",
      "Epoch 46 / 20: train. loss = 0.0702, val. loss = 0.0240, lr. = 0.0692, time = 12.478844 s\n",
      "Epoch 47 / 20: train. loss = 0.0702, val. loss = 0.0232, lr. = 0.0655, time = 12.608471 s\n",
      "Epoch 48 / 20: train. loss = 0.0702, val. loss = 0.0236, lr. = 0.0617, time = 12.279508 s\n",
      "Epoch 49 / 20: train. loss = 0.0701, val. loss = 0.0234, lr. = 0.0579, time = 12.236643 s\n",
      "Epoch 50 / 20: train. loss = 0.0701, val. loss = 0.0231, lr. = 0.0540, time = 12.464578 s\n",
      "Epoch 51 / 20: train. loss = 0.0701, val. loss = 0.0231, lr. = 0.0501, time = 12.503798 s\n",
      "Epoch 52 / 20: train. loss = 0.0700, val. loss = 0.0233, lr. = 0.0461, time = 12.534429 s\n",
      "Epoch 53 / 20: train. loss = 0.0700, val. loss = 0.0235, lr. = 0.0422, time = 12.409558 s\n",
      "Epoch 54 / 20: train. loss = 0.0700, val. loss = 0.0234, lr. = 0.0384, time = 12.630101 s\n",
      "Epoch 55 / 20: train. loss = 0.0700, val. loss = 0.0231, lr. = 0.0346, time = 12.590088 s\n",
      "Epoch 56 / 20: train. loss = 0.0699, val. loss = 0.0233, lr. = 0.0309, time = 12.432024 s\n",
      "Epoch 57 / 20: train. loss = 0.0699, val. loss = 0.0231, lr. = 0.0274, time = 12.647471 s\n",
      "Epoch 58 / 20: train. loss = 0.0699, val. loss = 0.0234, lr. = 0.0240, time = 13.32937 s\n",
      "Epoch 59 / 20: train. loss = 0.0699, val. loss = 0.0232, lr. = 0.0207, time = 13.637765 s\n",
      "Epoch 60 / 20: train. loss = 0.0699, val. loss = 0.0232, lr. = 0.0176, time = 13.25489 s\n",
      "Epoch 61 / 20: train. loss = 0.0698, val. loss = 0.0233, lr. = 0.0147, time = 13.05734 s\n",
      "Epoch 62 / 20: train. loss = 0.0698, val. loss = 0.0233, lr. = 0.0121, time = 13.024581 s\n",
      "Epoch 63 / 20: train. loss = 0.0698, val. loss = 0.0233, lr. = 0.0096, time = 12.7599 s\n",
      "Epoch 64 / 20: train. loss = 0.0698, val. loss = 0.0233, lr. = 0.0075, time = 12.747248 s\n",
      "Epoch 65 / 20: train. loss = 0.0697, val. loss = 0.0232, lr. = 0.0055, time = 12.971603 s\n",
      "Epoch 66 / 20: train. loss = 0.0697, val. loss = 0.0232, lr. = 0.0039, time = 13.169823 s\n",
      "Epoch 67 / 20: train. loss = 0.0697, val. loss = 0.0232, lr. = 0.0025, time = 13.171211 s\n",
      "Epoch 68 / 20: train. loss = 0.0697, val. loss = 0.0232, lr. = 0.0015, time = 12.936098 s\n",
      "Epoch 69 / 20: train. loss = 0.0697, val. loss = 0.0232, lr. = 0.0007, time = 14.616449 s\n",
      "Epoch 70 / 20: train. loss = 0.0697, val. loss = 0.0232, lr. = 0.0003, time = 12.278775 s\n"
     ]
    }
   ],
   "source": [
    "n_epochs = 10\n",
    "scheduler = CosineAnnealingLR(optimizer, n_epochs, 0.01)\n",
    "qrnn_fc.train(training_data=training_data,\n",
    "              validation_data=validation_data,\n",
    "              n_epochs=n_epochs,\n",
    "              optimizer=optimizer,\n",
    "              scheduler=scheduler,\n",
    "              mask=-1,\n",
    "              device=device,\n",
    "              logger=logger);\n",
    "\n",
    "n_epochs = 20\n",
    "scheduler = CosineAnnealingLR(optimizer, n_epochs, 0.001)\n",
    "qrnn_fc.train(training_data=training_data,\n",
    "              validation_data=validation_data,\n",
    "              n_epochs=n_epochs,\n",
    "              optimizer=optimizer,\n",
    "              scheduler=scheduler,\n",
    "              mask=-1,\n",
    "              device=device,\n",
    "              logger=logger);\n",
    "\n",
    "n_epochs = 40\n",
    "scheduler = CosineAnnealingLR(optimizer, n_epochs, 0.0001)\n",
    "qrnn_fc.train(training_data=training_data,\n",
    "              validation_data=validation_data,\n",
    "              n_epochs=n_epochs,\n",
    "              optimizer=optimizer,\n",
    "              scheduler=scheduler,\n",
    "              mask=-1,\n",
    "              device=device,\n",
    "              logger=logger);"
   ]
  },
  {
   "cell_type": "code",
   "execution_count": 11,
   "id": "wanted-textbook",
   "metadata": {},
   "outputs": [],
   "source": [
    "torch.cuda.empty_cache()\n",
    "validation_data = BatchedDataset((X_val, y_val), 32)\n",
    "\n",
    "y_true = []\n",
    "y_pred_fc = []\n",
    "for x, y in validation_data:\n",
    "  y_true += [y.detach().numpy()]\n",
    "  y_pred_fc += [qrnn_fc.posterior_mean(x=x).cpu().detach().numpy()]\n",
    "y_true = np.concatenate(y_true, axis=0)\n",
    "y_pred_fc = np.concatenate(y_pred_fc, axis=0)"
   ]
  },
  {
   "cell_type": "code",
   "execution_count": 12,
   "id": "royal-williams",
   "metadata": {},
   "outputs": [],
   "source": [
    "bins = np.logspace(-2, 2, 41)\n",
    "indices = y_true >= 0.0\n",
    "freqs_fc, _, _ = np.histogram2d(y_true[indices], y_pred_fc[indices], bins=bins)"
   ]
  },
  {
   "cell_type": "code",
   "execution_count": 32,
   "id": "bearing-unknown",
   "metadata": {},
   "outputs": [
    {
     "data": {
      "image/png": "[encoded data removed]",
      "text/plain": [
       "<Figure size 576x648 with 2 Axes>"
      ]
     },
     "metadata": {
      "needs_background": "light"
     },
     "output_type": "display_data"
    }
   ],
   "source": [
    "import matplotlib.pyplot as plt\n",
    "from matplotlib.colors import Normalize\n",
    "#norm = Normalize(0, 400)\n",
    "indices = y_val >= 0.0\n",
    "\n",
    "\n",
    "f, ax = plt.subplots(figsize=(8, 9))\n",
    "\n",
    "\n",
    "p = ax.pcolormesh(bins, bins, freqs_fc.T, \n",
    "              #norm=norm\n",
    "             )\n",
    "ax.set_xlim([1e-2, 1e2])\n",
    "ax.set_ylim([1e-2, 1e2])\n",
    "ax.set_xscale(\"log\")\n",
    "ax.set_yscale(\"log\")\n",
    "ax.set_xlabel(\"Reference rain rate [mm / h]\")\n",
    "ax.set_ylabel(\"Predicted rain rate [mm / h]\")\n",
    "ax.set_title(\"(a) Fully-connected\", loc=\"left\")\n",
    "ax.plot(bins, bins, c=\"grey\", ls=\"--\")\n",
    "f.colorbar(p, ax=ax, orientation=\"horizontal\", label=\"Surface precipitation [mm / h]\")\n",
    "ax.set_aspect(1.0)\n",
    "\n",
    "\n",
    "plt.tight_layout()"
   ]
  }
 ],
 "metadata": {
  "kernelspec": {
   "display_name": "Python 3",
   "language": "python",
   "name": "python3"
  },
  "language_info": {
   "codemirror_mode": {
    "name": "ipython",
    "version": 3
   },
   "file_extension": ".py",
   "mimetype": "text/x-python",
   "name": "python",
   "nbconvert_exporter": "python",
   "pygments_lexer": "ipython3",
   "version": "3.8.5"
  }
 },
 "nbformat": 4,
 "nbformat_minor": 5
}

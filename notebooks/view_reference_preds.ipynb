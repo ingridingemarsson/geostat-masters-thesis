{
 "cells": [
  {
   "cell_type": "code",
   "execution_count": 1,
   "id": "brave-soundtrack",
   "metadata": {},
   "outputs": [],
   "source": [
    "import numpy as np\n",
    "import matplotlib.pyplot as plt\n",
    "import torch\n",
    "\n",
    "import quantnn"
   ]
  },
  {
   "cell_type": "code",
   "execution_count": 2,
   "id": "labeled-accuracy",
   "metadata": {},
   "outputs": [],
   "source": [
    "data = np.load('../reference/rain_gauge_preds/2020030222.npy')"
   ]
  },
  {
   "cell_type": "code",
   "execution_count": 3,
   "id": "similar-circuit",
   "metadata": {},
   "outputs": [
    {
     "data": {
      "text/plain": [
       "array([[ 1.09700264e-04,  1.21421808e-04,  1.25300418e-04, ...,\n",
       "         9.75014254e-04,  9.90924115e-04,  1.00959995e-03],\n",
       "       [ 9.87185970e-05,  1.20258403e-04,  1.27284477e-04, ...,\n",
       "         9.73960055e-04,  9.89095638e-04,  9.96536187e-04],\n",
       "       [-3.03889077e-05,  1.26242383e-04, -4.31165907e-04, ...,\n",
       "         9.94624332e-01,  1.37394257e+00,  2.18587229e+00],\n",
       "       ...,\n",
       "       [ 9.95960472e-05,  1.17814076e-04,  1.48253130e-04, ...,\n",
       "         9.62500635e-04,  9.94926105e-04,  1.03314318e-03],\n",
       "       [ 1.05950711e-04,  1.03076454e-04,  1.39425375e-04, ...,\n",
       "         9.78861101e-04,  9.79172590e-04,  1.03069811e-03],\n",
       "       [ 1.11040295e-04,  1.28592092e-04,  1.19128332e-04, ...,\n",
       "         9.70707246e-04,  9.92652058e-04,  9.85418408e-04]])"
      ]
     },
     "execution_count": 3,
     "metadata": {},
     "output_type": "execute_result"
    }
   ],
   "source": [
    "data"
   ]
  },
  {
   "cell_type": "code",
   "execution_count": 20,
   "id": "exclusive-department",
   "metadata": {},
   "outputs": [
    {
     "name": "stdout",
     "output_type": "stream",
     "text": [
      "tensor([0.0100, 0.0200, 0.0300, 0.0400, 0.0500, 0.0600, 0.0700, 0.0800, 0.0900,\n",
      "        0.1000, 0.1100, 0.1200, 0.1300, 0.1400, 0.1500, 0.1600, 0.1700, 0.1800,\n",
      "        0.1900, 0.2000, 0.2100, 0.2200, 0.2300, 0.2400, 0.2500, 0.2600, 0.2700,\n",
      "        0.2800, 0.2900, 0.3000, 0.3100, 0.3200, 0.3300, 0.3400, 0.3500, 0.3600,\n",
      "        0.3700, 0.3800, 0.3900, 0.4000, 0.4100, 0.4200, 0.4300, 0.4400, 0.4500,\n",
      "        0.4600, 0.4700, 0.4800, 0.4900, 0.5000, 0.5100, 0.5200, 0.5300, 0.5400,\n",
      "        0.5500, 0.5600, 0.5700, 0.5800, 0.5900, 0.6000, 0.6100, 0.6200, 0.6300,\n",
      "        0.6400, 0.6500, 0.6600, 0.6700, 0.6800, 0.6900, 0.7000, 0.7100, 0.7200,\n",
      "        0.7300, 0.7400, 0.7500, 0.7600, 0.7700, 0.7800, 0.7900, 0.8000, 0.8100,\n",
      "        0.8200, 0.8300, 0.8400, 0.8500, 0.8600, 0.8700, 0.8800, 0.8900, 0.9000,\n",
      "        0.9100, 0.9200, 0.9300, 0.9400, 0.9500, 0.9600, 0.9700, 0.9800, 0.9900],\n",
      "       dtype=torch.float64)\n"
     ]
    }
   ],
   "source": [
    "quantiles = torch.tensor(np.linspace(0.01, 0.99, 99))\n",
    "print(quantiles)"
   ]
  },
  {
   "cell_type": "code",
   "execution_count": 28,
   "id": "placed-digest",
   "metadata": {},
   "outputs": [
    {
     "data": {
      "text/plain": [
       "tensor(0.1000, dtype=torch.float64)"
      ]
     },
     "execution_count": 28,
     "metadata": {},
     "output_type": "execute_result"
    }
   ],
   "source": [
    "quantiles[89]\n",
    "quantiles[9]"
   ]
  },
  {
   "cell_type": "code",
   "execution_count": 21,
   "id": "declared-container",
   "metadata": {},
   "outputs": [
    {
     "data": {
      "text/plain": [
       "<matplotlib.collections.PathCollection at 0x7fb065d6e5b0>"
      ]
     },
     "execution_count": 21,
     "metadata": {},
     "output_type": "execute_result"
    },
    {
     "data": {
      "image/png": "[encoded data removed]",
      "text/plain": [
       "<Figure size 432x288 with 1 Axes>"
      ]
     },
     "metadata": {
      "needs_background": "light"
     },
     "output_type": "display_data"
    }
   ],
   "source": [
    "d = torch.tensor(data)\n",
    "m = quantnn.quantiles.posterior_mean(d, quantiles)\n",
    "plt.scatter(range(len(m)), m, s=2)"
   ]
  },
  {
   "cell_type": "code",
   "execution_count": 30,
   "id": "refined-ceramic",
   "metadata": {},
   "outputs": [
    {
     "data": {
      "text/plain": [
       "<matplotlib.collections.PathCollection at 0x7fb065ca24c0>"
      ]
     },
     "execution_count": 30,
     "metadata": {},
     "output_type": "execute_result"
    },
    {
     "data": {
      "image/png": "[encoded data removed]",
      "text/plain": [
       "<Figure size 432x288 with 1 Axes>"
      ]
     },
     "metadata": {
      "needs_background": "light"
     },
     "output_type": "display_data"
    }
   ],
   "source": [
    "plt.scatter(range(len(data[:,89])), data[:,89], s=2, color='red')"
   ]
  },
  {
   "cell_type": "code",
   "execution_count": 32,
   "id": "toxic-nicaragua",
   "metadata": {},
   "outputs": [
    {
     "data": {
      "text/plain": [
       "<matplotlib.collections.PathCollection at 0x7fb065f66ac0>"
      ]
     },
     "execution_count": 32,
     "metadata": {},
     "output_type": "execute_result"
    },
    {
     "data": {
      "image/png": "[encoded data removed]",
      "text/plain": [
       "<Figure size 432x288 with 1 Axes>"
      ]
     },
     "metadata": {
      "needs_background": "light"
     },
     "output_type": "display_data"
    }
   ],
   "source": [
    "plt.scatter(range(len(data[:,9])), data[:,9], s=2, color='green')"
   ]
  },
  {
   "cell_type": "code",
   "execution_count": 41,
   "id": "automatic-platinum",
   "metadata": {},
   "outputs": [
    {
     "data": {
      "text/plain": [
       "[<matplotlib.lines.Line2D at 0x7fb0651a5820>]"
      ]
     },
     "execution_count": 41,
     "metadata": {},
     "output_type": "execute_result"
    },
    {
     "data": {
      "image/png": "[encoded data removed]",
      "text/plain": [
       "<Figure size 432x288 with 1 Axes>"
      ]
     },
     "metadata": {
      "needs_background": "light"
     },
     "output_type": "display_data"
    }
   ],
   "source": [
    "plt.plot(data[4])"
   ]
  }
 ],
 "metadata": {
  "kernelspec": {
   "display_name": "Python 3",
   "language": "python",
   "name": "python3"
  },
  "language_info": {
   "codemirror_mode": {
    "name": "ipython",
    "version": 3
   },
   "file_extension": ".py",
   "mimetype": "text/x-python",
   "name": "python",
   "nbconvert_exporter": "python",
   "pygments_lexer": "ipython3",
   "version": "3.8.5"
  }
 },
 "nbformat": 4,
 "nbformat_minor": 5
}

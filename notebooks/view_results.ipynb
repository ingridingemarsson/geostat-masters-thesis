{
 "cells": [
  {
   "cell_type": "code",
   "execution_count": 1,
   "id": "czech-youth",
   "metadata": {},
   "outputs": [
    {
     "name": "stdout",
     "output_type": "stream",
     "text": [
      "device:  cpu\n"
     ]
    },
    {
     "name": "stderr",
     "output_type": "stream",
     "text": [
      "/home/ingrid/anaconda3/envs/geostat/lib/python3.8/site-packages/torch/cuda/__init__.py:52: UserWarning: CUDA initialization: Found no NVIDIA driver on your system. Please check that you have an NVIDIA GPU and installed a driver from http://www.nvidia.com/Download/index.aspx (Triggered internally at  /opt/conda/conda-bld/pytorch_1603729062494/work/c10/cuda/CUDAFunctions.cpp:100.)\n",
      "  return torch._C._cuda_getDeviceCount() > 0\n"
     ]
    }
   ],
   "source": [
    "%load_ext autoreload\n",
    "%autoreload 2\n",
    "%matplotlib inline\n",
    "import numpy as np\n",
    "import os\n",
    "import argparse\n",
    "from pathlib import Path\n",
    "import matplotlib.pyplot as plt\n",
    "from matplotlib.colors import LogNorm\n",
    "from matplotlib.gridspec import GridSpec\n",
    "from matplotlib.colors import Normalize\n",
    "import torch\n",
    "from torch.utils.data import Dataset, DataLoader\n",
    "from torchvision import transforms, utils\n",
    "from torch.optim import SGD, Adam\n",
    "from torch.optim.lr_scheduler import CosineAnnealingLR\n",
    "\n",
    "from quantnn.qrnn import QRNN\n",
    "\n",
    "import sys\n",
    "sys.path.append('../visualize')\n",
    "from sample_plots import plotRandomSample\n",
    "sys.path.append('../src')\n",
    "from load_data import GOESRETRIEVALSDataset, RandomLog, Mask, RandomCrop, Standardize, ToTensor\n",
    "\n",
    "\n",
    "device = torch.device('cuda' if torch.cuda.is_available() else 'cpu')\n",
    "print('device: ', device)"
   ]
  },
  {
   "cell_type": "code",
   "execution_count": 2,
   "id": "joint-robin",
   "metadata": {},
   "outputs": [],
   "source": [
    "channels = list(range(8,17))\n",
    "channels.remove(12)\n",
    "fillvalue = -1\n",
    "quantiles = np.linspace(0.01, 0.99, 99)"
   ]
  },
  {
   "cell_type": "code",
   "execution_count": 3,
   "id": "thousand-example",
   "metadata": {},
   "outputs": [
    {
     "name": "stdout",
     "output_type": "stream",
     "text": [
      "boxes_oneTrue256\n"
     ]
    }
   ],
   "source": [
    "net_name = 'boxes_one'#'xception' #'boxes_one_modified' \n",
    "BATCH_SIZE = 256 #64 #256\n",
    "uselog = True #True\n",
    "n_epochs = 10\n",
    "lr = 0.001\n",
    "filename_extension ='_'+str(n_epochs)+'_'+str(lr)\n",
    "filename = net_name + str(uselog) + str(BATCH_SIZE) \n",
    "print(filename)"
   ]
  },
  {
   "cell_type": "code",
   "execution_count": 4,
   "id": "charged-coupon",
   "metadata": {},
   "outputs": [],
   "source": [
    "if (net_name == 'boxes_one'):\n",
    "\tfrom models.boxes_one import Net\n",
    "\tnet = Net(len(quantiles), len(channels))\n",
    "elif (net_name == 'xception'):\n",
    "\tfrom quantnn.models.pytorch.xception import XceptionFpn\n",
    "\tnet =  XceptionFpn(len(channels), quantiles.size, n_features=128)"
   ]
  },
  {
   "cell_type": "code",
   "execution_count": 5,
   "id": "bacterial-bishop",
   "metadata": {},
   "outputs": [],
   "source": [
    "channels = list(range(8,17))\n",
    "channels.remove(12)\n",
    "\n",
    "quantiles = np.linspace(0.01, 0.99, 99)\n",
    "\n",
    "fillvalue = -1\n",
    "\n",
    "path_to_val_data = '../dataset/data/dataset-boxes/validation/npy_files'\n",
    "path_to_stats = '../dataset/data/dataset-boxes/train/stats.npy'\n",
    "path_to_results = '../results'"
   ]
  },
  {
   "cell_type": "code",
   "execution_count": 6,
   "id": "rubber-beast",
   "metadata": {
    "scrolled": true
   },
   "outputs": [
    {
     "ename": "AttributeError",
     "evalue": "cannot set attribute '_close' on a 'Dataset' object. Use __setitem__ styleassignment (e.g., `ds['name'] = ...`) instead of assigning variables.",
     "output_type": "error",
     "traceback": [
      "\u001b[0;31m---------------------------------------------------------------------------\u001b[0m",
      "\u001b[0;31mAttributeError\u001b[0m                            Traceback (most recent call last)",
      "\u001b[0;32m~/anaconda3/envs/geostat/lib/python3.8/site-packages/xarray/core/common.py\u001b[0m in \u001b[0;36m__setattr__\u001b[0;34m(self, name, value)\u001b[0m\n\u001b[1;32m    256\u001b[0m         \u001b[0;32mtry\u001b[0m\u001b[0;34m:\u001b[0m\u001b[0;34m\u001b[0m\u001b[0;34m\u001b[0m\u001b[0m\n\u001b[0;32m--> 257\u001b[0;31m             \u001b[0mobject\u001b[0m\u001b[0;34m.\u001b[0m\u001b[0m__setattr__\u001b[0m\u001b[0;34m(\u001b[0m\u001b[0mself\u001b[0m\u001b[0;34m,\u001b[0m \u001b[0mname\u001b[0m\u001b[0;34m,\u001b[0m \u001b[0mvalue\u001b[0m\u001b[0;34m)\u001b[0m\u001b[0;34m\u001b[0m\u001b[0;34m\u001b[0m\u001b[0m\n\u001b[0m\u001b[1;32m    258\u001b[0m         \u001b[0;32mexcept\u001b[0m \u001b[0mAttributeError\u001b[0m \u001b[0;32mas\u001b[0m \u001b[0me\u001b[0m\u001b[0;34m:\u001b[0m\u001b[0;34m\u001b[0m\u001b[0;34m\u001b[0m\u001b[0m\n",
      "\u001b[0;31mAttributeError\u001b[0m: 'Dataset' object has no attribute '_close'",
      "\nThe above exception was the direct cause of the following exception:\n",
      "\u001b[0;31mAttributeError\u001b[0m                            Traceback (most recent call last)",
      "\u001b[0;32m<ipython-input-6-e65deec7136c>\u001b[0m in \u001b[0;36m<module>\u001b[0;34m\u001b[0m\n\u001b[0;32m----> 1\u001b[0;31m \u001b[0mqrnn_model\u001b[0m \u001b[0;34m=\u001b[0m \u001b[0mQRNN\u001b[0m\u001b[0;34m.\u001b[0m\u001b[0mload\u001b[0m\u001b[0;34m(\u001b[0m\u001b[0mos\u001b[0m\u001b[0;34m.\u001b[0m\u001b[0mpath\u001b[0m\u001b[0;34m.\u001b[0m\u001b[0mjoin\u001b[0m\u001b[0;34m(\u001b[0m\u001b[0mpath_to_results\u001b[0m\u001b[0;34m,\u001b[0m \u001b[0mfilename\u001b[0m\u001b[0;34m,\u001b[0m \u001b[0;34m'saved_models'\u001b[0m\u001b[0;34m,\u001b[0m \u001b[0mfilename\u001b[0m\u001b[0;34m+\u001b[0m \u001b[0mfilename_extension\u001b[0m\u001b[0;34m+\u001b[0m\u001b[0;34m'.pckl'\u001b[0m\u001b[0;34m)\u001b[0m\u001b[0;34m)\u001b[0m\u001b[0;34m\u001b[0m\u001b[0;34m\u001b[0m\u001b[0m\n\u001b[0m\u001b[1;32m      2\u001b[0m \u001b[0mY\u001b[0m \u001b[0;34m=\u001b[0m \u001b[0mnp\u001b[0m\u001b[0;34m.\u001b[0m\u001b[0mloadtxt\u001b[0m\u001b[0;34m(\u001b[0m\u001b[0mos\u001b[0m\u001b[0;34m.\u001b[0m\u001b[0mpath\u001b[0m\u001b[0;34m.\u001b[0m\u001b[0mjoin\u001b[0m\u001b[0;34m(\u001b[0m\u001b[0mpath_to_results\u001b[0m\u001b[0;34m,\u001b[0m \u001b[0mfilename\u001b[0m\u001b[0;34m,\u001b[0m \u001b[0;34m'preds'\u001b[0m\u001b[0;34m,\u001b[0m \u001b[0mfilename\u001b[0m\u001b[0;34m+\u001b[0m\u001b[0mfilename_extension\u001b[0m\u001b[0;34m+\u001b[0m\u001b[0;34m'.txt'\u001b[0m\u001b[0;34m)\u001b[0m\u001b[0;34m)\u001b[0m\u001b[0;34m\u001b[0m\u001b[0;34m\u001b[0m\u001b[0m\n",
      "\u001b[0;32m~/Documents/Git/quantnn/quantnn/neural_network_model.py\u001b[0m in \u001b[0;36mload\u001b[0;34m(path)\u001b[0m\n\u001b[1;32m    243\u001b[0m         \"\"\"\n\u001b[1;32m    244\u001b[0m         \u001b[0;32mwith\u001b[0m \u001b[0mopen\u001b[0m\u001b[0;34m(\u001b[0m\u001b[0mpath\u001b[0m\u001b[0;34m,\u001b[0m \u001b[0;34m'rb'\u001b[0m\u001b[0;34m)\u001b[0m \u001b[0;32mas\u001b[0m \u001b[0mfile\u001b[0m\u001b[0;34m:\u001b[0m\u001b[0;34m\u001b[0m\u001b[0;34m\u001b[0m\u001b[0m\n\u001b[0;32m--> 245\u001b[0;31m             \u001b[0mqrnn\u001b[0m \u001b[0;34m=\u001b[0m \u001b[0mpickle\u001b[0m\u001b[0;34m.\u001b[0m\u001b[0mload\u001b[0m\u001b[0;34m(\u001b[0m\u001b[0mfile\u001b[0m\u001b[0;34m)\u001b[0m\u001b[0;34m\u001b[0m\u001b[0;34m\u001b[0m\u001b[0m\n\u001b[0m\u001b[1;32m    246\u001b[0m             \u001b[0mbackend\u001b[0m \u001b[0;34m=\u001b[0m \u001b[0mimportlib\u001b[0m\u001b[0;34m.\u001b[0m\u001b[0mimport_module\u001b[0m\u001b[0;34m(\u001b[0m\u001b[0mqrnn\u001b[0m\u001b[0;34m.\u001b[0m\u001b[0mbackend\u001b[0m\u001b[0;34m)\u001b[0m\u001b[0;34m\u001b[0m\u001b[0;34m\u001b[0m\u001b[0m\n\u001b[1;32m    247\u001b[0m             \u001b[0mqrnn\u001b[0m\u001b[0;34m.\u001b[0m\u001b[0mbackend\u001b[0m \u001b[0;34m=\u001b[0m \u001b[0mbackend\u001b[0m\u001b[0;34m\u001b[0m\u001b[0;34m\u001b[0m\u001b[0m\n",
      "\u001b[0;32m~/anaconda3/envs/geostat/lib/python3.8/site-packages/xarray/core/common.py\u001b[0m in \u001b[0;36m__setattr__\u001b[0;34m(self, name, value)\u001b[0m\n\u001b[1;32m    263\u001b[0m             ):\n\u001b[1;32m    264\u001b[0m                 \u001b[0;32mraise\u001b[0m\u001b[0;34m\u001b[0m\u001b[0;34m\u001b[0m\u001b[0m\n\u001b[0;32m--> 265\u001b[0;31m             raise AttributeError(\n\u001b[0m\u001b[1;32m    266\u001b[0m                 \u001b[0;34m\"cannot set attribute %r on a %r object. Use __setitem__ style\"\u001b[0m\u001b[0;34m\u001b[0m\u001b[0;34m\u001b[0m\u001b[0m\n\u001b[1;32m    267\u001b[0m                 \u001b[0;34m\"assignment (e.g., `ds['name'] = ...`) instead of assigning variables.\"\u001b[0m\u001b[0;34m\u001b[0m\u001b[0;34m\u001b[0m\u001b[0m\n",
      "\u001b[0;31mAttributeError\u001b[0m: cannot set attribute '_close' on a 'Dataset' object. Use __setitem__ styleassignment (e.g., `ds['name'] = ...`) instead of assigning variables."
     ]
    }
   ],
   "source": [
    "qrnn_model = QRNN.load(os.path.join(path_to_results, filename, 'saved_models', filename+ filename_extension+'.pckl'))\n",
    "Y = np.loadtxt(os.path.join(path_to_results, filename, 'preds', filename+filename_extension+'.txt'))"
   ]
  },
  {
   "cell_type": "code",
   "execution_count": null,
   "id": "decreased-horizon",
   "metadata": {},
   "outputs": [],
   "source": [
    "def plotPerformance(y_true, y_pred, uselog, save=None):\n",
    "\n",
    "    bins = np.logspace(-2, 2, 100)\n",
    "    if uselog:\n",
    "        y_true = np.exp(y_true)\n",
    "        y_pred = np.exp(y_pred)\n",
    "    freqs, _, _ = np.histogram2d(y_true, y_pred, bins=bins)\n",
    "\n",
    "    f, ax = plt.subplots(figsize=(8, 9))\n",
    "\n",
    "    p = ax.pcolormesh(bins, bins, freqs.T)\n",
    "    ax.set_xlim([1e-2, 1e2])\n",
    "    ax.set_ylim([1e-2, 1e2])\n",
    "    ax.set_xscale(\"log\")\n",
    "    ax.set_yscale(\"log\")\n",
    "    ax.set_xlabel(\"Reference rain rate [mm / h]\")\n",
    "    ax.set_ylabel(\"Predicted rain rate [mm / h]\")\n",
    "    ax.plot(bins, bins, c=\"grey\", ls=\"--\")\n",
    "    f.colorbar(p, ax=ax, orientation=\"horizontal\", label=\"Surface precipitation [mm / h]\")\n",
    "    ax.set_aspect(1.0)\n",
    "\n",
    "    plt.tight_layout()\n",
    "    if not save == None:\n",
    "        plt.savefig(save)\n",
    "    plt.show()\n"
   ]
  },
  {
   "cell_type": "code",
   "execution_count": null,
   "id": "proud-championship",
   "metadata": {
    "scrolled": true
   },
   "outputs": [],
   "source": [
    "plotPerformance(Y[:,0], Y[:,1], uselog, \n",
    "                os.path.join(path_to_results, 'images', filename+ filename_extension+'.png'))"
   ]
  },
  {
   "cell_type": "code",
   "execution_count": null,
   "id": "fantastic-dinner",
   "metadata": {},
   "outputs": [],
   "source": [
    "plt.hist(np.exp(Y[:,0]), bins=500)\n",
    "plt.show()"
   ]
  },
  {
   "cell_type": "code",
   "execution_count": null,
   "id": "smooth-membership",
   "metadata": {},
   "outputs": [],
   "source": [
    "def importData(channels, BATCH_SIZE, path_to_data, path_to_stats, uselog):\n",
    "    tran = [Mask()]\n",
    "    if uselog:\n",
    "        tran.append(RandomLog())\n",
    "    tran.extend([RandomCrop(128), Standardize(path_to_data, path_to_stats, channels), ToTensor()])\n",
    "    dataset = GOESRETRIEVALSDataset(\n",
    "        path_to_data = path_to_data,\n",
    "        channels = channels, \n",
    "        transform = transforms.Compose(tran))\n",
    "    \n",
    "    dataloader = DataLoader(dataset, batch_size=BATCH_SIZE, shuffle=True, num_workers=0)\n",
    "    return(dataset, dataloader)\n",
    "\n",
    "validation_dataset, validation_data  = importData(channels, BATCH_SIZE, \n",
    "                                                  path_to_val_data, path_to_stats, uselog)\n"
   ]
  },
  {
   "cell_type": "code",
   "execution_count": null,
   "id": "expanded-mountain",
   "metadata": {},
   "outputs": [],
   "source": [
    "plotRandomSample(validation_dataset,  channels=channels, qrnn=qrnn_model,\n",
    "                 device=device, cha=[8, 13], uselog=uselog)"
   ]
  }
 ],
 "metadata": {
  "kernelspec": {
   "display_name": "Python 3",
   "language": "python",
   "name": "python3"
  },
  "language_info": {
   "codemirror_mode": {
    "name": "ipython",
    "version": 3
   },
   "file_extension": ".py",
   "mimetype": "text/x-python",
   "name": "python",
   "nbconvert_exporter": "python",
   "pygments_lexer": "ipython3",
   "version": "3.8.5"
  }
 },
 "nbformat": 4,
 "nbformat_minor": 5
}

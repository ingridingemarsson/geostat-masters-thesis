{
 "cells": [
  {
   "cell_type": "code",
   "execution_count": 1,
   "id": "flush-screen",
   "metadata": {},
   "outputs": [],
   "source": [
    "import numpy as np"
   ]
  },
  {
   "cell_type": "code",
   "execution_count": 2,
   "id": "bearing-pitch",
   "metadata": {},
   "outputs": [],
   "source": [
    "quantiles = np.array([0.25, 0.5, 0.75])"
   ]
  },
  {
   "cell_type": "code",
   "execution_count": 3,
   "id": "approved-switzerland",
   "metadata": {},
   "outputs": [],
   "source": [
    "y_true = np.array([3., 6. , 11., 0.])"
   ]
  },
  {
   "cell_type": "code",
   "execution_count": 6,
   "id": "charming-generator",
   "metadata": {},
   "outputs": [],
   "source": [
    "y_pred = np.array([[1., 2.5, 4.], [4., 4.6, 6.], [9., 11.1, 13.], [-1., 0., 0.1]])"
   ]
  },
  {
   "cell_type": "code",
   "execution_count": 7,
   "id": "compressed-sally",
   "metadata": {},
   "outputs": [
    {
     "data": {
      "text/plain": [
       "array([[ 1. ,  2.5,  4. ],\n",
       "       [ 4. ,  4.6,  6. ],\n",
       "       [ 9. , 11.1, 13. ],\n",
       "       [-1. ,  0. ,  0.1]])"
      ]
     },
     "execution_count": 7,
     "metadata": {},
     "output_type": "execute_result"
    }
   ],
   "source": [
    "y_pred"
   ]
  },
  {
   "cell_type": "code",
   "execution_count": 9,
   "id": "rising-grade",
   "metadata": {},
   "outputs": [],
   "source": [
    "cal = np.zeros(len(quantiles))\n",
    "N = len(y_true)"
   ]
  },
  {
   "cell_type": "code",
   "execution_count": 14,
   "id": "finnish-rough",
   "metadata": {},
   "outputs": [
    {
     "name": "stdout",
     "output_type": "stream",
     "text": [
      "[False False False False]\n",
      "0\n",
      "[False False  True False]\n",
      "1\n",
      "[ True False  True  True]\n",
      "3\n"
     ]
    }
   ],
   "source": [
    "for i in range(len(quantiles)):\n",
    "    print((y_true < y_pred[:,i]))\n",
    "    print((y_true < y_pred[:,i]).sum())\n",
    "    cal[i] = (y_true < y_pred[:,i]).sum() / N"
   ]
  },
  {
   "cell_type": "code",
   "execution_count": 15,
   "id": "indonesian-automation",
   "metadata": {},
   "outputs": [
    {
     "data": {
      "text/plain": [
       "array([0.  , 0.25, 0.75])"
      ]
     },
     "execution_count": 15,
     "metadata": {},
     "output_type": "execute_result"
    }
   ],
   "source": [
    "cal"
   ]
  },
  {
   "cell_type": "code",
   "execution_count": 16,
   "id": "gothic-insulation",
   "metadata": {},
   "outputs": [
    {
     "data": {
      "text/plain": [
       "[<matplotlib.lines.Line2D at 0x7fdcaafc2310>]"
      ]
     },
     "execution_count": 16,
     "metadata": {},
     "output_type": "execute_result"
    },
    {
     "data": {
      "image/png": "[encoded data removed]",
      "text/plain": [
       "<Figure size 432x288 with 1 Axes>"
      ]
     },
     "metadata": {
      "needs_background": "light"
     },
     "output_type": "display_data"
    }
   ],
   "source": [
    "import matplotlib.pyplot as plt\n",
    "plt.plot(quantiles, cal)"
   ]
  },
  {
   "cell_type": "code",
   "execution_count": 23,
   "id": "second-secretary",
   "metadata": {},
   "outputs": [
    {
     "data": {
      "text/plain": [
       "0.5"
      ]
     },
     "execution_count": 23,
     "metadata": {},
     "output_type": "execute_result"
    }
   ],
   "source": [
    "np.nanmedian([0.4, 1., .5, np.nan])"
   ]
  },
  {
   "cell_type": "code",
   "execution_count": 24,
   "id": "designed-engineering",
   "metadata": {},
   "outputs": [],
   "source": [
    "from matplotlib.colors import Normalize\n",
    "from matplotlib.colors import ListedColormap\n",
    "from matplotlib import cm\n",
    "big = cm.get_cmap('autumn_r', 1024)\n",
    "newcmp = ListedColormap(big(np.linspace(0.1, 1, 512)))\n",
    "\n",
    "import matplotlib\n",
    "import matplotlib.pyplot as plt\n",
    "from mpl_toolkits.axes_grid1 import make_axes_locatable\n",
    "plt.style.use('seaborn-whitegrid')\n",
    "matplotlib.rcParams['mathtext.fontset'] = 'cm'\n",
    "matplotlib.rcParams['font.family'] = 'STIXGeneral'\n",
    "\n",
    "SMALL_SIZE = 12 #8\n",
    "MEDIUM_SIZE = 14 #10\n",
    "BIGGER_SIZE = 16 #12\n",
    "matplotlib.rc('font', size=SMALL_SIZE)          # controls default text sizes\n",
    "matplotlib.rc('axes', titlesize=SMALL_SIZE)     # fontsize of the axes title\n",
    "matplotlib.rc('axes', labelsize=MEDIUM_SIZE)    # fontsize of the x and y labels\n",
    "matplotlib.rc('xtick', labelsize=SMALL_SIZE)    # fontsize of the tick labels\n",
    "matplotlib.rc('ytick', labelsize=SMALL_SIZE)    # fontsize of the tick labels\n",
    "matplotlib.rc('legend', fontsize=SMALL_SIZE)    # legend fontsize\n",
    "matplotlib.rc('figure', titlesize=BIGGER_SIZE)  # fontsize of the figure title\n"
   ]
  },
  {
   "cell_type": "code",
   "execution_count": 119,
   "id": "split-collective",
   "metadata": {},
   "outputs": [],
   "source": [
    "\n",
    "def Hist2D(y_true, y_pred):\n",
    "\n",
    "    #norm = Normalize(0, 100)\n",
    "    bins = np.logspace(-3, 3, 101)\n",
    "    freqs, _, _ = np.histogram2d(y_true, y_pred, bins=bins)\n",
    "    \n",
    "    freqs[freqs==0.0] = np.nan\n",
    "    \n",
    "    freqs = freqs/np.nansum(freqs)\n",
    "    \n",
    "    f, ax = plt.subplots(figsize=(8, 8))\n",
    "    \n",
    "    import matplotlib.colors as colors\n",
    "    bounds = np.linspace(0, 1, 9)\n",
    "    norm = colors.BoundaryNorm(boundaries=bounds, ncolors=256, extend='both')\n",
    "\n",
    "    m = ax.pcolormesh(bins, bins, freqs.T,  norm=norm)#, cmap=newcmp)#, norm=norm)\n",
    "    ax.set_xlim([1e-3, 1e3])\n",
    "    ax.set_ylim([1e-3, 1e3])\n",
    "    ax.set_xscale(\"log\")\n",
    "    ax.set_yscale(\"log\")\n",
    "    ax.set_xlabel(\"Reference rain rate [mm / h]\")\n",
    "    ax.set_ylabel(\"Predicted rain rate [mm / h]\")\n",
    "    ax.plot(bins, bins, c=\"grey\", ls=\"--\")\n",
    "    ax.set_aspect(1.0)\n",
    "\n",
    "    divider = make_axes_locatable(ax)\n",
    "    cax = divider.append_axes(\"right\", size=\"5%\", pad=0.07)\n",
    "    plt.colorbar(m, cax=cax)\n",
    "\n",
    "    plt.tight_layout()\n",
    "    plt.plot()"
   ]
  },
  {
   "cell_type": "code",
   "execution_count": 127,
   "id": "accredited-powell",
   "metadata": {},
   "outputs": [],
   "source": [
    "y = np.random.uniform(1e-3,1e2,1000)"
   ]
  },
  {
   "cell_type": "code",
   "execution_count": 128,
   "id": "macro-florida",
   "metadata": {},
   "outputs": [],
   "source": [
    "y_p = y + np.random.uniform(-100,100, 1000)"
   ]
  },
  {
   "cell_type": "code",
   "execution_count": 134,
   "id": "instant-terror",
   "metadata": {},
   "outputs": [
    {
     "data": {
      "image/png": "[encoded data removed]",
      "text/plain": [
       "<Figure size 576x576 with 1 Axes>"
      ]
     },
     "metadata": {},
     "output_type": "display_data"
    }
   ],
   "source": [
    "Density2D(y, y_p)"
   ]
  },
  {
   "cell_type": "code",
   "execution_count": null,
   "id": "proof-combine",
   "metadata": {},
   "outputs": [],
   "source": []
  },
  {
   "cell_type": "code",
   "execution_count": null,
   "id": "warming-conservation",
   "metadata": {},
   "outputs": [],
   "source": []
  }
 ],
 "metadata": {
  "kernelspec": {
   "display_name": "Python 3",
   "language": "python",
   "name": "python3"
  },
  "language_info": {
   "codemirror_mode": {
    "name": "ipython",
    "version": 3
   },
   "file_extension": ".py",
   "mimetype": "text/x-python",
   "name": "python",
   "nbconvert_exporter": "python",
   "pygments_lexer": "ipython3",
   "version": "3.8.5"
  }
 },
 "nbformat": 4,
 "nbformat_minor": 5
}

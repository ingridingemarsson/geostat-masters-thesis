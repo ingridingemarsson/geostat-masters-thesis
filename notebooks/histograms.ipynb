{
 "cells": [
  {
   "cell_type": "code",
   "execution_count": 1,
   "id": "norwegian-viewer",
   "metadata": {},
   "outputs": [],
   "source": [
    "import numpy as np\n",
    "import os\n",
    "import datetime\n",
    "import matplotlib.pyplot as plt\n",
    "\n",
    "import xarray as xr\n",
    "import sys\n",
    "sys.path.append('../dataset')\n",
    "from data.common import  CreateListOfLinkfilesInSpan"
   ]
  },
  {
   "cell_type": "code",
   "execution_count": 2,
   "id": "diverse-istanbul",
   "metadata": {},
   "outputs": [],
   "source": [
    "y_train = np.load('../dataset/data/dataset-singles/train/y_singles_dataset.npy')\n",
    "y_val = np.load('../dataset/data/dataset-singles/validation/y_singles_dataset.npy')"
   ]
  },
  {
   "cell_type": "code",
   "execution_count": 3,
   "id": "traditional-comedy",
   "metadata": {},
   "outputs": [],
   "source": [
    "def view_label(y):\n",
    "    tot = len(y)\n",
    "    rain = len(y[y != 0.0])\n",
    "    print('rain fraction', rain/tot)\n",
    "    fig, ax = plt.subplots(figsize = (8,5))\n",
    "    ax.hist(y[y > 0.0], bins = 100)\n",
    "    plt.show()\n",
    "    print('smallest non-zero value', min(y[y > 0.0]))"
   ]
  },
  {
   "cell_type": "code",
   "execution_count": 4,
   "id": "catholic-stack",
   "metadata": {},
   "outputs": [
    {
     "name": "stdout",
     "output_type": "stream",
     "text": [
      "rain fraction 0.058323028814720235\n"
     ]
    },
    {
     "data": {
      "image/png": "[encoded data removed]",
      "text/plain": [
       "<Figure size 576x360 with 1 Axes>"
      ]
     },
     "metadata": {
      "needs_background": "light"
     },
     "output_type": "display_data"
    },
    {
     "name": "stdout",
     "output_type": "stream",
     "text": [
      "smallest non-zero value 0.027613955\n"
     ]
    }
   ],
   "source": [
    "view_label(y_train)"
   ]
  },
  {
   "cell_type": "code",
   "execution_count": 5,
   "id": "finite-tomato",
   "metadata": {},
   "outputs": [
    {
     "name": "stdout",
     "output_type": "stream",
     "text": [
      "rain fraction 0.065166383468563\n"
     ]
    },
    {
     "data": {
      "image/png": "[encoded data removed]",
      "text/plain": [
       "<Figure size 576x360 with 1 Axes>"
      ]
     },
     "metadata": {
      "needs_background": "light"
     },
     "output_type": "display_data"
    },
    {
     "name": "stdout",
     "output_type": "stream",
     "text": [
      "smallest non-zero value 0.046734374\n"
     ]
    }
   ],
   "source": [
    "view_label(y_val)"
   ]
  }
 ],
 "metadata": {
  "kernelspec": {
   "display_name": "Python 3",
   "language": "python",
   "name": "python3"
  },
  "language_info": {
   "codemirror_mode": {
    "name": "ipython",
    "version": 3
   },
   "file_extension": ".py",
   "mimetype": "text/x-python",
   "name": "python",
   "nbconvert_exporter": "python",
   "pygments_lexer": "ipython3",
   "version": "3.8.5"
  }
 },
 "nbformat": 4,
 "nbformat_minor": 5
}

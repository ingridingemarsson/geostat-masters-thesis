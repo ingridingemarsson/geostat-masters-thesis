{
 "cells": [
  {
   "cell_type": "code",
   "execution_count": 1,
   "id": "sexual-cartridge",
   "metadata": {},
   "outputs": [],
   "source": [
    "import numpy as np\n",
    "import os\n",
    "import datetime\n",
    "import matplotlib.pyplot as plt\n",
    "\n",
    "import xarray as xr\n",
    "import sys\n",
    "sys.path.append('../dataset')\n",
    "from data.common import  CreateListOfLinkfilesInSpan"
   ]
  },
  {
   "cell_type": "code",
   "execution_count": 2,
   "id": "blank-convenience",
   "metadata": {},
   "outputs": [],
   "source": [
    "def extractGPMtime(dataset, attrstr):\n",
    "    t_str = dataset.attrs['gpm_time_'+attrstr]\n",
    "    t_dt = datetime.datetime.strptime(t_str if len(t_str)==26 else t_str+'.000000', '%Y-%m-%d %H:%M:%S.%f')\n",
    "    \n",
    "    return(t_dt)\n",
    "\n",
    "def extractGOEStime(dataset, attrstr, ind):\n",
    "    t_str = dataset.attrs['goes_time_'+attrstr][ind]\n",
    "    t_dt = datetime.datetime.strptime(t_str if len(t_str)==26 else t_str+'.000000', '%Y-%m-%d %H:%M:%S.%f')\n",
    "    \n",
    "    return(t_dt)\n",
    "\n",
    "def midTime(t_in, t_out):\n",
    "    mid = t_in + datetime.timedelta(seconds=(t_out-t_in).total_seconds()/2)\n",
    "    return(mid)\n",
    "\n",
    "def timeDiff(t2, t1):\n",
    "    time_diff = (t2-t1).total_seconds()\n",
    "    return(time_diff)"
   ]
  },
  {
   "cell_type": "code",
   "execution_count": 3,
   "id": "binary-trick",
   "metadata": {},
   "outputs": [],
   "source": [
    "num_goes = 8"
   ]
  },
  {
   "cell_type": "code",
   "execution_count": 4,
   "id": "supported-region",
   "metadata": {},
   "outputs": [
    {
     "name": "stdout",
     "output_type": "stream",
     "text": [
      "linkfile2017-12\n",
      "12\n",
      "linkfile2018-01\n",
      "1\n",
      "linkfile2018-02\n",
      "2\n",
      "linkfile2018-03\n",
      "3\n",
      "linkfile2018-04\n",
      "4\n",
      "linkfile2018-05\n",
      "5\n",
      "linkfile2018-06\n",
      "6\n",
      "linkfile2018-07\n",
      "7\n",
      "linkfile2018-08\n",
      "8\n",
      "linkfile2018-09\n",
      "9\n",
      "linkfile2018-10\n",
      "10\n",
      "linkfile2018-11\n",
      "11\n",
      "linkfile2018-12\n",
      "12\n"
     ]
    }
   ],
   "source": [
    "linkdirs = CreateListOfLinkfilesInSpan(17, 12, 18, 12)\n",
    "parentdirs = ['../dataset/origin/' + linkdir + '/' for linkdir in linkdirs]"
   ]
  },
  {
   "cell_type": "code",
   "execution_count": 5,
   "id": "celtic-horse",
   "metadata": {},
   "outputs": [],
   "source": [
    "file_list = []\n",
    "gpm_len = []\n",
    "goes_len_mean = []\n",
    "goes_len_std = []\n",
    "max_time_diffs = []\n",
    "\n",
    "for parentdir in parentdirs:\n",
    "    for path, subdir, files in os.walk(parentdir):\n",
    "        for file in files:    \n",
    "            if file.endswith('.nc'):\n",
    "                file_list.append(os.path.join(path,file))\n",
    "                dataset = xr.open_dataset(os.path.join(path,file))\n",
    "                dataset.close()\n",
    "\n",
    "                gpm_in = extractGPMtime(dataset, 'in')\n",
    "                gpm_out = extractGPMtime(dataset, 'out')\n",
    "\n",
    "                goes_ins = [extractGOEStime(dataset, 'in', i) for i in range(num_goes)]\n",
    "                goes_outs = [extractGOEStime(dataset, 'out', i) for i in range(num_goes)]\n",
    "\n",
    "                gpm_len.append(timeDiff(gpm_out,gpm_in))\n",
    "                goes_diff = [timeDiff(goes_out,goes_in) for goes_in, goes_out in zip(goes_ins, goes_outs)]\n",
    "                goes_len_mean.append(np.mean(goes_diff))\n",
    "                goes_len_std.append(np.std(goes_diff))\n",
    "\n",
    "                gpm_mid = midTime(gpm_in, gpm_out)\n",
    "                goes_mids = [midTime(goes_in, goes_out) for goes_in, goes_out in zip(goes_ins, goes_outs)]\n",
    "\n",
    "                time_diff = [timeDiff(gpm_mid, goes_mid) for goes_mid in goes_mids]\n",
    "                maxabsind = np.argmax(np.abs(np.array(time_diff)))\n",
    "                max_time_diffs.append(time_diff[maxabsind])\n"
   ]
  },
  {
   "cell_type": "code",
   "execution_count": 6,
   "id": "jewish-career",
   "metadata": {},
   "outputs": [
    {
     "name": "stdout",
     "output_type": "stream",
     "text": [
      "number of samples:  2822\n"
     ]
    }
   ],
   "source": [
    "print('number of samples: ', len(file_list))"
   ]
  },
  {
   "cell_type": "code",
   "execution_count": 7,
   "id": "accessory-phoenix",
   "metadata": {},
   "outputs": [
    {
     "name": "stdout",
     "output_type": "stream",
     "text": [
      "min 2.8699999999999997\n",
      "max 3.896666666666667\n"
     ]
    },
    {
     "data": {
      "image/png": "[encoded data removed]",
      "text/plain": [
       "<Figure size 576x576 with 1 Axes>"
      ]
     },
     "metadata": {
      "needs_background": "light"
     },
     "output_type": "display_data"
    }
   ],
   "source": [
    "gpm_len_arr = np.array(gpm_len)/60\n",
    "print('min', min(gpm_len_arr))\n",
    "print('max', max(gpm_len_arr))\n",
    "fig, ax = plt.subplots(figsize=(8,8))\n",
    "ax.hist(gpm_len_arr, bins=10)\n",
    "ax.set_xlabel('minutes')\n",
    "plt.show()"
   ]
  },
  {
   "cell_type": "code",
   "execution_count": 8,
   "id": "backed-diameter",
   "metadata": {},
   "outputs": [
    {
     "data": {
      "image/png": "[encoded data removed]",
      "text/plain": [
       "<Figure size 576x576 with 1 Axes>"
      ]
     },
     "metadata": {
      "needs_background": "light"
     },
     "output_type": "display_data"
    }
   ],
   "source": [
    "fig, ax = plt.subplots(figsize=(8,8))\n",
    "ax.hist(np.array(goes_len_mean)/60, bins=10)\n",
    "ax.set_xlabel('minutes')\n",
    "plt.show()"
   ]
  },
  {
   "cell_type": "code",
   "execution_count": 9,
   "id": "close-moses",
   "metadata": {},
   "outputs": [
    {
     "data": {
      "image/png": "[encoded data removed]",
      "text/plain": [
       "<Figure size 576x576 with 1 Axes>"
      ]
     },
     "metadata": {
      "needs_background": "light"
     },
     "output_type": "display_data"
    }
   ],
   "source": [
    "fig, ax = plt.subplots(figsize=(8,8))\n",
    "ax.hist(np.array(goes_len_std), bins=10)\n",
    "ax.set_xlabel('seconds')\n",
    "plt.show()"
   ]
  },
  {
   "cell_type": "code",
   "execution_count": 10,
   "id": "meaningful-soviet",
   "metadata": {},
   "outputs": [
    {
     "name": "stdout",
     "output_type": "stream",
     "text": [
      "min -7.15738335\n",
      "max 7.99341665\n"
     ]
    },
    {
     "data": {
      "image/png": "[encoded data removed]",
      "text/plain": [
       "<Figure size 576x576 with 1 Axes>"
      ]
     },
     "metadata": {
      "needs_background": "light"
     },
     "output_type": "display_data"
    }
   ],
   "source": [
    "bins = range(-9,10)\n",
    "max_time_diff_arr = np.array(max_time_diffs)/60\n",
    "print('min', min(max_time_diff_arr))\n",
    "print('max', max(max_time_diff_arr))\n",
    "fig, ax = plt.subplots(figsize=(8,8))\n",
    "ax.hist(max_time_diff_arr, bins=bins)\n",
    "ax.set_title('Greatest time difference between gpm and goes time stamps in sample')\n",
    "ax.set_ylabel('sample count')\n",
    "ax.set_xlabel('time difference (minutes)')\n",
    "ax.set_xticks(bins)\n",
    "plt.show()"
   ]
  }
 ],
 "metadata": {
  "kernelspec": {
   "display_name": "Python 3",
   "language": "python",
   "name": "python3"
  },
  "language_info": {
   "codemirror_mode": {
    "name": "ipython",
    "version": 3
   },
   "file_extension": ".py",
   "mimetype": "text/x-python",
   "name": "python",
   "nbconvert_exporter": "python",
   "pygments_lexer": "ipython3",
   "version": "3.8.5"
  }
 },
 "nbformat": 4,
 "nbformat_minor": 5
}

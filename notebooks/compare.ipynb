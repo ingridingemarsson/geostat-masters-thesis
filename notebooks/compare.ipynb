{
 "cells": [
  {
   "cell_type": "code",
   "execution_count": 1,
   "id": "catholic-torture",
   "metadata": {},
   "outputs": [],
   "source": [
    "import numpy as np\n",
    "import matplotlib.pyplot as plt\n",
    "from matplotlib.colors import LogNorm\n",
    "import torch\n",
    "import xarray as xr\n",
    "import pandas as pd\n",
    "import os\n",
    "import datetime\n",
    "import seaborn as sns\n",
    "\n",
    "import cartopy\n",
    "import cartopy.crs as ccrs\n",
    "from pyresample import load_area, geometry\n",
    "\n",
    "import quantnn"
   ]
  },
  {
   "cell_type": "code",
   "execution_count": 2,
   "id": "former-silicon",
   "metadata": {},
   "outputs": [],
   "source": [
    "f = open('../path_to_data.txt', \"r\")\n",
    "path_to_dataset = os.path.join(f.readline().rstrip(\"\\n\"))\n",
    "f.close() "
   ]
  },
  {
   "cell_type": "code",
   "execution_count": 5,
   "id": "stretch-coordinate",
   "metadata": {},
   "outputs": [],
   "source": [
    "combined = xr.open_dataset(os.path.join(path_to_dataset,'combined.nc'))"
   ]
  },
  {
   "cell_type": "code",
   "execution_count": 8,
   "id": "finite-organization",
   "metadata": {},
   "outputs": [
    {
     "data": {
      "text/html": [
       "<div><svg style=\"position: absolute; width: 0; height: 0; overflow: hidden\">\n",
       "<defs>\n",
       "<symbol id=\"icon-database\" viewBox=\"0 0 32 32\">\n",
       "<path d=\"M16 0c-8.837 0-16 2.239-16 5v4c0 2.761 7.163 5 16 5s16-2.239 16-5v-4c0-2.761-7.163-5-16-5z\"></path>\n",
       "<path d=\"M16 17c-8.837 0-16-2.239-16-5v6c0 2.761 7.163 5 16 5s16-2.239 16-5v-6c0 2.761-7.163 5-16 5z\"></path>\n",
       "<path d=\"M16 26c-8.837 0-16-2.239-16-5v6c0 2.761 7.163 5 16 5s16-2.239 16-5v-6c0 2.761-7.163 5-16 5z\"></path>\n",
       "</symbol>\n",
       "<symbol id=\"icon-file-text2\" viewBox=\"0 0 32 32\">\n",
       "<path d=\"M28.681 7.159c-0.694-0.947-1.662-2.053-2.724-3.116s-2.169-2.030-3.116-2.724c-1.612-1.182-2.393-1.319-2.841-1.319h-15.5c-1.378 0-2.5 1.121-2.5 2.5v27c0 1.378 1.122 2.5 2.5 2.5h23c1.378 0 2.5-1.122 2.5-2.5v-19.5c0-0.448-0.137-1.23-1.319-2.841zM24.543 5.457c0.959 0.959 1.712 1.825 2.268 2.543h-4.811v-4.811c0.718 0.556 1.584 1.309 2.543 2.268zM28 29.5c0 0.271-0.229 0.5-0.5 0.5h-23c-0.271 0-0.5-0.229-0.5-0.5v-27c0-0.271 0.229-0.5 0.5-0.5 0 0 15.499-0 15.5 0v7c0 0.552 0.448 1 1 1h7v19.5z\"></path>\n",
       "<path d=\"M23 26h-14c-0.552 0-1-0.448-1-1s0.448-1 1-1h14c0.552 0 1 0.448 1 1s-0.448 1-1 1z\"></path>\n",
       "<path d=\"M23 22h-14c-0.552 0-1-0.448-1-1s0.448-1 1-1h14c0.552 0 1 0.448 1 1s-0.448 1-1 1z\"></path>\n",
       "<path d=\"M23 18h-14c-0.552 0-1-0.448-1-1s0.448-1 1-1h14c0.552 0 1 0.448 1 1s-0.448 1-1 1z\"></path>\n",
       "</symbol>\n",
       "</defs>\n",
       "</svg>\n",
       "<style>/* CSS stylesheet for displaying xarray objects in jupyterlab.\n",
       " *\n",
       " */\n",
       "\n",
       ":root {\n",
       "  --xr-font-color0: var(--jp-content-font-color0, rgba(0, 0, 0, 1));\n",
       "  --xr-font-color2: var(--jp-content-font-color2, rgba(0, 0, 0, 0.54));\n",
       "  --xr-font-color3: var(--jp-content-font-color3, rgba(0, 0, 0, 0.38));\n",
       "  --xr-border-color: var(--jp-border-color2, #e0e0e0);\n",
       "  --xr-disabled-color: var(--jp-layout-color3, #bdbdbd);\n",
       "  --xr-background-color: var(--jp-layout-color0, white);\n",
       "  --xr-background-color-row-even: var(--jp-layout-color1, white);\n",
       "  --xr-background-color-row-odd: var(--jp-layout-color2, #eeeeee);\n",
       "}\n",
       "\n",
       "html[theme=dark],\n",
       "body.vscode-dark {\n",
       "  --xr-font-color0: rgba(255, 255, 255, 1);\n",
       "  --xr-font-color2: rgba(255, 255, 255, 0.54);\n",
       "  --xr-font-color3: rgba(255, 255, 255, 0.38);\n",
       "  --xr-border-color: #1F1F1F;\n",
       "  --xr-disabled-color: #515151;\n",
       "  --xr-background-color: #111111;\n",
       "  --xr-background-color-row-even: #111111;\n",
       "  --xr-background-color-row-odd: #313131;\n",
       "}\n",
       "\n",
       ".xr-wrap {\n",
       "  display: block;\n",
       "  min-width: 300px;\n",
       "  max-width: 700px;\n",
       "}\n",
       "\n",
       ".xr-text-repr-fallback {\n",
       "  /* fallback to plain text repr when CSS is not injected (untrusted notebook) */\n",
       "  display: none;\n",
       "}\n",
       "\n",
       ".xr-header {\n",
       "  padding-top: 6px;\n",
       "  padding-bottom: 6px;\n",
       "  margin-bottom: 4px;\n",
       "  border-bottom: solid 1px var(--xr-border-color);\n",
       "}\n",
       "\n",
       ".xr-header > div,\n",
       ".xr-header > ul {\n",
       "  display: inline;\n",
       "  margin-top: 0;\n",
       "  margin-bottom: 0;\n",
       "}\n",
       "\n",
       ".xr-obj-type,\n",
       ".xr-array-name {\n",
       "  margin-left: 2px;\n",
       "  margin-right: 10px;\n",
       "}\n",
       "\n",
       ".xr-obj-type {\n",
       "  color: var(--xr-font-color2);\n",
       "}\n",
       "\n",
       ".xr-sections {\n",
       "  padding-left: 0 !important;\n",
       "  display: grid;\n",
       "  grid-template-columns: 150px auto auto 1fr 20px 20px;\n",
       "}\n",
       "\n",
       ".xr-section-item {\n",
       "  display: contents;\n",
       "}\n",
       "\n",
       ".xr-section-item input {\n",
       "  display: none;\n",
       "}\n",
       "\n",
       ".xr-section-item input + label {\n",
       "  color: var(--xr-disabled-color);\n",
       "}\n",
       "\n",
       ".xr-section-item input:enabled + label {\n",
       "  cursor: pointer;\n",
       "  color: var(--xr-font-color2);\n",
       "}\n",
       "\n",
       ".xr-section-item input:enabled + label:hover {\n",
       "  color: var(--xr-font-color0);\n",
       "}\n",
       "\n",
       ".xr-section-summary {\n",
       "  grid-column: 1;\n",
       "  color: var(--xr-font-color2);\n",
       "  font-weight: 500;\n",
       "}\n",
       "\n",
       ".xr-section-summary > span {\n",
       "  display: inline-block;\n",
       "  padding-left: 0.5em;\n",
       "}\n",
       "\n",
       ".xr-section-summary-in:disabled + label {\n",
       "  color: var(--xr-font-color2);\n",
       "}\n",
       "\n",
       ".xr-section-summary-in + label:before {\n",
       "  display: inline-block;\n",
       "  content: '►';\n",
       "  font-size: 11px;\n",
       "  width: 15px;\n",
       "  text-align: center;\n",
       "}\n",
       "\n",
       ".xr-section-summary-in:disabled + label:before {\n",
       "  color: var(--xr-disabled-color);\n",
       "}\n",
       "\n",
       ".xr-section-summary-in:checked + label:before {\n",
       "  content: '▼';\n",
       "}\n",
       "\n",
       ".xr-section-summary-in:checked + label > span {\n",
       "  display: none;\n",
       "}\n",
       "\n",
       ".xr-section-summary,\n",
       ".xr-section-inline-details {\n",
       "  padding-top: 4px;\n",
       "  padding-bottom: 4px;\n",
       "}\n",
       "\n",
       ".xr-section-inline-details {\n",
       "  grid-column: 2 / -1;\n",
       "}\n",
       "\n",
       ".xr-section-details {\n",
       "  display: none;\n",
       "  grid-column: 1 / -1;\n",
       "  margin-bottom: 5px;\n",
       "}\n",
       "\n",
       ".xr-section-summary-in:checked ~ .xr-section-details {\n",
       "  display: contents;\n",
       "}\n",
       "\n",
       ".xr-array-wrap {\n",
       "  grid-column: 1 / -1;\n",
       "  display: grid;\n",
       "  grid-template-columns: 20px auto;\n",
       "}\n",
       "\n",
       ".xr-array-wrap > label {\n",
       "  grid-column: 1;\n",
       "  vertical-align: top;\n",
       "}\n",
       "\n",
       ".xr-preview {\n",
       "  color: var(--xr-font-color3);\n",
       "}\n",
       "\n",
       ".xr-array-preview,\n",
       ".xr-array-data {\n",
       "  padding: 0 5px !important;\n",
       "  grid-column: 2;\n",
       "}\n",
       "\n",
       ".xr-array-data,\n",
       ".xr-array-in:checked ~ .xr-array-preview {\n",
       "  display: none;\n",
       "}\n",
       "\n",
       ".xr-array-in:checked ~ .xr-array-data,\n",
       ".xr-array-preview {\n",
       "  display: inline-block;\n",
       "}\n",
       "\n",
       ".xr-dim-list {\n",
       "  display: inline-block !important;\n",
       "  list-style: none;\n",
       "  padding: 0 !important;\n",
       "  margin: 0;\n",
       "}\n",
       "\n",
       ".xr-dim-list li {\n",
       "  display: inline-block;\n",
       "  padding: 0;\n",
       "  margin: 0;\n",
       "}\n",
       "\n",
       ".xr-dim-list:before {\n",
       "  content: '(';\n",
       "}\n",
       "\n",
       ".xr-dim-list:after {\n",
       "  content: ')';\n",
       "}\n",
       "\n",
       ".xr-dim-list li:not(:last-child):after {\n",
       "  content: ',';\n",
       "  padding-right: 5px;\n",
       "}\n",
       "\n",
       ".xr-has-index {\n",
       "  font-weight: bold;\n",
       "}\n",
       "\n",
       ".xr-var-list,\n",
       ".xr-var-item {\n",
       "  display: contents;\n",
       "}\n",
       "\n",
       ".xr-var-item > div,\n",
       ".xr-var-item label,\n",
       ".xr-var-item > .xr-var-name span {\n",
       "  background-color: var(--xr-background-color-row-even);\n",
       "  margin-bottom: 0;\n",
       "}\n",
       "\n",
       ".xr-var-item > .xr-var-name:hover span {\n",
       "  padding-right: 5px;\n",
       "}\n",
       "\n",
       ".xr-var-list > li:nth-child(odd) > div,\n",
       ".xr-var-list > li:nth-child(odd) > label,\n",
       ".xr-var-list > li:nth-child(odd) > .xr-var-name span {\n",
       "  background-color: var(--xr-background-color-row-odd);\n",
       "}\n",
       "\n",
       ".xr-var-name {\n",
       "  grid-column: 1;\n",
       "}\n",
       "\n",
       ".xr-var-dims {\n",
       "  grid-column: 2;\n",
       "}\n",
       "\n",
       ".xr-var-dtype {\n",
       "  grid-column: 3;\n",
       "  text-align: right;\n",
       "  color: var(--xr-font-color2);\n",
       "}\n",
       "\n",
       ".xr-var-preview {\n",
       "  grid-column: 4;\n",
       "}\n",
       "\n",
       ".xr-var-name,\n",
       ".xr-var-dims,\n",
       ".xr-var-dtype,\n",
       ".xr-preview,\n",
       ".xr-attrs dt {\n",
       "  white-space: nowrap;\n",
       "  overflow: hidden;\n",
       "  text-overflow: ellipsis;\n",
       "  padding-right: 10px;\n",
       "}\n",
       "\n",
       ".xr-var-name:hover,\n",
       ".xr-var-dims:hover,\n",
       ".xr-var-dtype:hover,\n",
       ".xr-attrs dt:hover {\n",
       "  overflow: visible;\n",
       "  width: auto;\n",
       "  z-index: 1;\n",
       "}\n",
       "\n",
       ".xr-var-attrs,\n",
       ".xr-var-data {\n",
       "  display: none;\n",
       "  background-color: var(--xr-background-color) !important;\n",
       "  padding-bottom: 5px !important;\n",
       "}\n",
       "\n",
       ".xr-var-attrs-in:checked ~ .xr-var-attrs,\n",
       ".xr-var-data-in:checked ~ .xr-var-data {\n",
       "  display: block;\n",
       "}\n",
       "\n",
       ".xr-var-data > table {\n",
       "  float: right;\n",
       "}\n",
       "\n",
       ".xr-var-name span,\n",
       ".xr-var-data,\n",
       ".xr-attrs {\n",
       "  padding-left: 25px !important;\n",
       "}\n",
       "\n",
       ".xr-attrs,\n",
       ".xr-var-attrs,\n",
       ".xr-var-data {\n",
       "  grid-column: 1 / -1;\n",
       "}\n",
       "\n",
       "dl.xr-attrs {\n",
       "  padding: 0;\n",
       "  margin: 0;\n",
       "  display: grid;\n",
       "  grid-template-columns: 125px auto;\n",
       "}\n",
       "\n",
       ".xr-attrs dt,\n",
       ".xr-attrs dd {\n",
       "  padding: 0;\n",
       "  margin: 0;\n",
       "  float: left;\n",
       "  padding-right: 10px;\n",
       "  width: auto;\n",
       "}\n",
       "\n",
       ".xr-attrs dt {\n",
       "  font-weight: normal;\n",
       "  grid-column: 1;\n",
       "}\n",
       "\n",
       ".xr-attrs dt:hover span {\n",
       "  display: inline-block;\n",
       "  background: var(--xr-background-color);\n",
       "  padding-right: 10px;\n",
       "}\n",
       "\n",
       ".xr-attrs dd {\n",
       "  grid-column: 2;\n",
       "  white-space: pre-wrap;\n",
       "  word-break: break-all;\n",
       "}\n",
       "\n",
       ".xr-icon-database,\n",
       ".xr-icon-file-text2 {\n",
       "  display: inline-block;\n",
       "  vertical-align: middle;\n",
       "  width: 1em;\n",
       "  height: 1.5em !important;\n",
       "  stroke-width: 0;\n",
       "  stroke: currentColor;\n",
       "  fill: currentColor;\n",
       "}\n",
       "</style><pre class='xr-text-repr-fallback'>&lt;xarray.Dataset&gt;\n",
       "Dimensions:                  (location: 609, time: 738)\n",
       "Coordinates:\n",
       "  * location                 (location) int64 0 1 2 3 4 ... 604 605 606 607 608\n",
       "  * time                     (time) datetime64[ns] 2020-12-01T01:00:00 ... 20...\n",
       "Data variables:\n",
       "    xception_posterior_mean  (time, location) float32 ...\n",
       "    xception_Q0.95           (time, location) float32 ...\n",
       "    xception_Q0.99           (time, location) float32 ...\n",
       "    mlp_posterior_mean       (time, location) float32 ...\n",
       "    mlp_Q0.95                (time, location) float32 ...\n",
       "    mlp_Q0.99                (time, location) float32 ...\n",
       "    HE_precip                (time, location) float64 ...\n",
       "    gauge_precip             (time, location) float64 ...</pre><div class='xr-wrap' hidden><div class='xr-header'><div class='xr-obj-type'>xarray.Dataset</div></div><ul class='xr-sections'><li class='xr-section-item'><input id='section-97d2886c-cd6d-4fa8-824e-a428a37228f5' class='xr-section-summary-in' type='checkbox' disabled ><label for='section-97d2886c-cd6d-4fa8-824e-a428a37228f5' class='xr-section-summary'  title='Expand/collapse section'>Dimensions:</label><div class='xr-section-inline-details'><ul class='xr-dim-list'><li><span class='xr-has-index'>location</span>: 609</li><li><span class='xr-has-index'>time</span>: 738</li></ul></div><div class='xr-section-details'></div></li><li class='xr-section-item'><input id='section-58ff0370-f976-4528-a1a7-a8d07e52ff6d' class='xr-section-summary-in' type='checkbox'  checked><label for='section-58ff0370-f976-4528-a1a7-a8d07e52ff6d' class='xr-section-summary' >Coordinates: <span>(2)</span></label><div class='xr-section-inline-details'></div><div class='xr-section-details'><ul class='xr-var-list'><li class='xr-var-item'><div class='xr-var-name'><span class='xr-has-index'>location</span></div><div class='xr-var-dims'>(location)</div><div class='xr-var-dtype'>int64</div><div class='xr-var-preview xr-preview'>0 1 2 3 4 5 ... 604 605 606 607 608</div><input id='attrs-7aca4f9e-2ead-4208-9918-b3891a1952a4' class='xr-var-attrs-in' type='checkbox' disabled><label for='attrs-7aca4f9e-2ead-4208-9918-b3891a1952a4' title='Show/Hide attributes'><svg class='icon xr-icon-file-text2'><use xlink:href='#icon-file-text2'></use></svg></label><input id='data-f0abe01c-7453-4de6-aea6-010f59dd4fa1' class='xr-var-data-in' type='checkbox'><label for='data-f0abe01c-7453-4de6-aea6-010f59dd4fa1' title='Show/Hide data repr'><svg class='icon xr-icon-database'><use xlink:href='#icon-database'></use></svg></label><div class='xr-var-attrs'><dl class='xr-attrs'></dl></div><div class='xr-var-data'><pre>array([  0,   1,   2, ..., 606, 607, 608])</pre></div></li><li class='xr-var-item'><div class='xr-var-name'><span class='xr-has-index'>time</span></div><div class='xr-var-dims'>(time)</div><div class='xr-var-dtype'>datetime64[ns]</div><div class='xr-var-preview xr-preview'>2020-12-01T01:00:00 ... 2020-12-...</div><input id='attrs-1c057651-1f00-4732-a991-6bfb20c8607b' class='xr-var-attrs-in' type='checkbox' disabled><label for='attrs-1c057651-1f00-4732-a991-6bfb20c8607b' title='Show/Hide attributes'><svg class='icon xr-icon-file-text2'><use xlink:href='#icon-file-text2'></use></svg></label><input id='data-4e712804-f1d7-4dfd-972f-f208bc5af567' class='xr-var-data-in' type='checkbox'><label for='data-4e712804-f1d7-4dfd-972f-f208bc5af567' title='Show/Hide data repr'><svg class='icon xr-icon-database'><use xlink:href='#icon-database'></use></svg></label><div class='xr-var-attrs'><dl class='xr-attrs'></dl></div><div class='xr-var-data'><pre>array([&#x27;2020-12-01T01:00:00.000000000&#x27;, &#x27;2020-12-01T02:00:00.000000000&#x27;,\n",
       "       &#x27;2020-12-01T03:00:00.000000000&#x27;, ..., &#x27;2020-12-31T16:00:00.000000000&#x27;,\n",
       "       &#x27;2020-12-31T17:00:00.000000000&#x27;, &#x27;2020-12-31T18:00:00.000000000&#x27;],\n",
       "      dtype=&#x27;datetime64[ns]&#x27;)</pre></div></li></ul></div></li><li class='xr-section-item'><input id='section-8d6e41bb-5c59-4dbe-b346-7490d7789bfb' class='xr-section-summary-in' type='checkbox'  checked><label for='section-8d6e41bb-5c59-4dbe-b346-7490d7789bfb' class='xr-section-summary' >Data variables: <span>(8)</span></label><div class='xr-section-inline-details'></div><div class='xr-section-details'><ul class='xr-var-list'><li class='xr-var-item'><div class='xr-var-name'><span>xception_posterior_mean</span></div><div class='xr-var-dims'>(time, location)</div><div class='xr-var-dtype'>float32</div><div class='xr-var-preview xr-preview'>...</div><input id='attrs-c13471c3-5090-47c9-b5f0-82a10fd7a15d' class='xr-var-attrs-in' type='checkbox' disabled><label for='attrs-c13471c3-5090-47c9-b5f0-82a10fd7a15d' title='Show/Hide attributes'><svg class='icon xr-icon-file-text2'><use xlink:href='#icon-file-text2'></use></svg></label><input id='data-19a109d7-e1cc-40de-b246-b73a9e4c18da' class='xr-var-data-in' type='checkbox'><label for='data-19a109d7-e1cc-40de-b246-b73a9e4c18da' title='Show/Hide data repr'><svg class='icon xr-icon-database'><use xlink:href='#icon-database'></use></svg></label><div class='xr-var-attrs'><dl class='xr-attrs'></dl></div><div class='xr-var-data'><pre>[449442 values with dtype=float32]</pre></div></li><li class='xr-var-item'><div class='xr-var-name'><span>xception_Q0.95</span></div><div class='xr-var-dims'>(time, location)</div><div class='xr-var-dtype'>float32</div><div class='xr-var-preview xr-preview'>...</div><input id='attrs-d8b519c7-0a55-4e7b-bd33-b42efab282a9' class='xr-var-attrs-in' type='checkbox' disabled><label for='attrs-d8b519c7-0a55-4e7b-bd33-b42efab282a9' title='Show/Hide attributes'><svg class='icon xr-icon-file-text2'><use xlink:href='#icon-file-text2'></use></svg></label><input id='data-5e2b48c3-4b53-4d66-9c73-c1dd409008c4' class='xr-var-data-in' type='checkbox'><label for='data-5e2b48c3-4b53-4d66-9c73-c1dd409008c4' title='Show/Hide data repr'><svg class='icon xr-icon-database'><use xlink:href='#icon-database'></use></svg></label><div class='xr-var-attrs'><dl class='xr-attrs'></dl></div><div class='xr-var-data'><pre>[449442 values with dtype=float32]</pre></div></li><li class='xr-var-item'><div class='xr-var-name'><span>xception_Q0.99</span></div><div class='xr-var-dims'>(time, location)</div><div class='xr-var-dtype'>float32</div><div class='xr-var-preview xr-preview'>...</div><input id='attrs-b5679d6a-9a02-493c-a637-5b5d1dd58e34' class='xr-var-attrs-in' type='checkbox' disabled><label for='attrs-b5679d6a-9a02-493c-a637-5b5d1dd58e34' title='Show/Hide attributes'><svg class='icon xr-icon-file-text2'><use xlink:href='#icon-file-text2'></use></svg></label><input id='data-9b83b65b-daf9-4db1-95e1-e1dd2398b6d8' class='xr-var-data-in' type='checkbox'><label for='data-9b83b65b-daf9-4db1-95e1-e1dd2398b6d8' title='Show/Hide data repr'><svg class='icon xr-icon-database'><use xlink:href='#icon-database'></use></svg></label><div class='xr-var-attrs'><dl class='xr-attrs'></dl></div><div class='xr-var-data'><pre>[449442 values with dtype=float32]</pre></div></li><li class='xr-var-item'><div class='xr-var-name'><span>mlp_posterior_mean</span></div><div class='xr-var-dims'>(time, location)</div><div class='xr-var-dtype'>float32</div><div class='xr-var-preview xr-preview'>...</div><input id='attrs-58333c7a-00a0-4dcb-9c31-f9702ffc1e10' class='xr-var-attrs-in' type='checkbox' disabled><label for='attrs-58333c7a-00a0-4dcb-9c31-f9702ffc1e10' title='Show/Hide attributes'><svg class='icon xr-icon-file-text2'><use xlink:href='#icon-file-text2'></use></svg></label><input id='data-fec2291d-e751-46ff-a950-989709eee277' class='xr-var-data-in' type='checkbox'><label for='data-fec2291d-e751-46ff-a950-989709eee277' title='Show/Hide data repr'><svg class='icon xr-icon-database'><use xlink:href='#icon-database'></use></svg></label><div class='xr-var-attrs'><dl class='xr-attrs'></dl></div><div class='xr-var-data'><pre>[449442 values with dtype=float32]</pre></div></li><li class='xr-var-item'><div class='xr-var-name'><span>mlp_Q0.95</span></div><div class='xr-var-dims'>(time, location)</div><div class='xr-var-dtype'>float32</div><div class='xr-var-preview xr-preview'>...</div><input id='attrs-7d64a200-e7ee-4b07-a33f-2dacc64659ea' class='xr-var-attrs-in' type='checkbox' disabled><label for='attrs-7d64a200-e7ee-4b07-a33f-2dacc64659ea' title='Show/Hide attributes'><svg class='icon xr-icon-file-text2'><use xlink:href='#icon-file-text2'></use></svg></label><input id='data-9cb7071c-b851-472c-8351-59d5416e44d3' class='xr-var-data-in' type='checkbox'><label for='data-9cb7071c-b851-472c-8351-59d5416e44d3' title='Show/Hide data repr'><svg class='icon xr-icon-database'><use xlink:href='#icon-database'></use></svg></label><div class='xr-var-attrs'><dl class='xr-attrs'></dl></div><div class='xr-var-data'><pre>[449442 values with dtype=float32]</pre></div></li><li class='xr-var-item'><div class='xr-var-name'><span>mlp_Q0.99</span></div><div class='xr-var-dims'>(time, location)</div><div class='xr-var-dtype'>float32</div><div class='xr-var-preview xr-preview'>...</div><input id='attrs-63c18ab6-9f71-4f6f-845f-f5ceb5e43d17' class='xr-var-attrs-in' type='checkbox' disabled><label for='attrs-63c18ab6-9f71-4f6f-845f-f5ceb5e43d17' title='Show/Hide attributes'><svg class='icon xr-icon-file-text2'><use xlink:href='#icon-file-text2'></use></svg></label><input id='data-b94c6211-1135-47d1-84c1-79eb205f3fbc' class='xr-var-data-in' type='checkbox'><label for='data-b94c6211-1135-47d1-84c1-79eb205f3fbc' title='Show/Hide data repr'><svg class='icon xr-icon-database'><use xlink:href='#icon-database'></use></svg></label><div class='xr-var-attrs'><dl class='xr-attrs'></dl></div><div class='xr-var-data'><pre>[449442 values with dtype=float32]</pre></div></li><li class='xr-var-item'><div class='xr-var-name'><span>HE_precip</span></div><div class='xr-var-dims'>(time, location)</div><div class='xr-var-dtype'>float64</div><div class='xr-var-preview xr-preview'>...</div><input id='attrs-eedb772d-c1ff-4204-9d9b-0eae60e93d4d' class='xr-var-attrs-in' type='checkbox' disabled><label for='attrs-eedb772d-c1ff-4204-9d9b-0eae60e93d4d' title='Show/Hide attributes'><svg class='icon xr-icon-file-text2'><use xlink:href='#icon-file-text2'></use></svg></label><input id='data-cdd5bf77-0be7-4055-a8be-d9483f813f2f' class='xr-var-data-in' type='checkbox'><label for='data-cdd5bf77-0be7-4055-a8be-d9483f813f2f' title='Show/Hide data repr'><svg class='icon xr-icon-database'><use xlink:href='#icon-database'></use></svg></label><div class='xr-var-attrs'><dl class='xr-attrs'></dl></div><div class='xr-var-data'><pre>[449442 values with dtype=float64]</pre></div></li><li class='xr-var-item'><div class='xr-var-name'><span>gauge_precip</span></div><div class='xr-var-dims'>(time, location)</div><div class='xr-var-dtype'>float64</div><div class='xr-var-preview xr-preview'>...</div><input id='attrs-6b61fb53-ef43-411a-b6d8-1f1c85d81dd1' class='xr-var-attrs-in' type='checkbox' disabled><label for='attrs-6b61fb53-ef43-411a-b6d8-1f1c85d81dd1' title='Show/Hide attributes'><svg class='icon xr-icon-file-text2'><use xlink:href='#icon-file-text2'></use></svg></label><input id='data-d6da6fa9-d579-42ec-96ee-1b46201bf369' class='xr-var-data-in' type='checkbox'><label for='data-d6da6fa9-d579-42ec-96ee-1b46201bf369' title='Show/Hide data repr'><svg class='icon xr-icon-database'><use xlink:href='#icon-database'></use></svg></label><div class='xr-var-attrs'><dl class='xr-attrs'></dl></div><div class='xr-var-data'><pre>[449442 values with dtype=float64]</pre></div></li></ul></div></li><li class='xr-section-item'><input id='section-bc64b795-c768-475a-a0fc-637872ecf9c6' class='xr-section-summary-in' type='checkbox' disabled ><label for='section-bc64b795-c768-475a-a0fc-637872ecf9c6' class='xr-section-summary'  title='Expand/collapse section'>Attributes: <span>(0)</span></label><div class='xr-section-inline-details'></div><div class='xr-section-details'><dl class='xr-attrs'></dl></div></li></ul></div></div>"
      ],
      "text/plain": [
       "<xarray.Dataset>\n",
       "Dimensions:                  (location: 609, time: 738)\n",
       "Coordinates:\n",
       "  * location                 (location) int64 0 1 2 3 4 ... 604 605 606 607 608\n",
       "  * time                     (time) datetime64[ns] 2020-12-01T01:00:00 ... 20...\n",
       "Data variables:\n",
       "    xception_posterior_mean  (time, location) float32 ...\n",
       "    xception_Q0.95           (time, location) float32 ...\n",
       "    xception_Q0.99           (time, location) float32 ...\n",
       "    mlp_posterior_mean       (time, location) float32 ...\n",
       "    mlp_Q0.95                (time, location) float32 ...\n",
       "    mlp_Q0.99                (time, location) float32 ...\n",
       "    HE_precip                (time, location) float64 ...\n",
       "    gauge_precip             (time, location) float64 ..."
      ]
     },
     "execution_count": 8,
     "metadata": {},
     "output_type": "execute_result"
    }
   ],
   "source": [
    "combined"
   ]
  },
  {
   "cell_type": "code",
   "execution_count": 7,
   "id": "peripheral-analyst",
   "metadata": {},
   "outputs": [
    {
     "name": "stdout",
     "output_type": "stream",
     "text": [
      "391\n"
     ]
    },
    {
     "data": {
      "text/plain": [
       "<matplotlib.legend.Legend at 0x7ff537267a00>"
      ]
     },
     "execution_count": 7,
     "metadata": {},
     "output_type": "execute_result"
    },
    {
     "data": {
      "image/png": "[encoded data removed]",
      "text/plain": [
       "<Figure size 1152x576 with 1 Axes>"
      ]
     },
     "metadata": {},
     "output_type": "display_data"
    }
   ],
   "source": [
    "sns.set_style('whitegrid')\n",
    "ind = 391 \n",
    "print(ind)\n",
    "\n",
    "fig, ax = plt.subplots(figsize=(16,8))\n",
    "plt.plot(combined.time, combined.mlp_posterior_mean[:, ind], label='mlp')\n",
    "plt.plot(combined.time, combined.xception_posterior_mean[:, ind], label='cnn')\n",
    "plt.plot(combined.time, combined.HE_precip[:, ind], label='HE')\n",
    "plt.plot(combined.time, combined.gauge_precip[:, ind], label='gauge')\n",
    "\n",
    "ax.set_ylabel('rain (mm)')\n",
    "ax.set_xlabel('datetime (hour)')\n",
    "ax.legend()"
   ]
  },
  {
   "cell_type": "code",
   "execution_count": 21,
   "id": "important-associate",
   "metadata": {},
   "outputs": [
    {
     "data": {
      "text/plain": [
       "-0.10395083635324988"
      ]
     },
     "execution_count": 21,
     "metadata": {},
     "output_type": "execute_result"
    }
   ],
   "source": [
    "np.nanmean(combined.gauge_precip-combined.HE_precip)"
   ]
  },
  {
   "cell_type": "code",
   "execution_count": 23,
   "id": "adverse-strength",
   "metadata": {},
   "outputs": [
    {
     "data": {
      "text/plain": [
       "-0.004699792821834452"
      ]
     },
     "execution_count": 23,
     "metadata": {},
     "output_type": "execute_result"
    }
   ],
   "source": [
    "np.nanmean(combined.gauge_precip-combined.xception_posterior_mean)"
   ]
  },
  {
   "cell_type": "code",
   "execution_count": 24,
   "id": "satisfactory-syria",
   "metadata": {},
   "outputs": [
    {
     "data": {
      "text/plain": [
       "0.020730019446901584"
      ]
     },
     "execution_count": 24,
     "metadata": {},
     "output_type": "execute_result"
    }
   ],
   "source": [
    "np.nanmean(combined.gauge_precip-combined.mlp_posterior_mean)"
   ]
  },
  {
   "cell_type": "code",
   "execution_count": 33,
   "id": "transparent-price",
   "metadata": {},
   "outputs": [
    {
     "data": {
      "text/plain": [
       "3.940874754925588"
      ]
     },
     "execution_count": 33,
     "metadata": {},
     "output_type": "execute_result"
    }
   ],
   "source": [
    "np.nanmean(np.square(np.subtract(combined.gauge_precip.values, combined.HE_precip.values)))"
   ]
  },
  {
   "cell_type": "code",
   "execution_count": 36,
   "id": "seven-visit",
   "metadata": {},
   "outputs": [
    {
     "data": {
      "text/plain": [
       "1.7017950619618278"
      ]
     },
     "execution_count": 36,
     "metadata": {},
     "output_type": "execute_result"
    }
   ],
   "source": [
    "np.nanmean(np.square(np.subtract(combined.gauge_precip.values, combined.xception_posterior_mean.values)))"
   ]
  },
  {
   "cell_type": "code",
   "execution_count": 35,
   "id": "communist-nickname",
   "metadata": {},
   "outputs": [
    {
     "data": {
      "text/plain": [
       "2.04128937113025"
      ]
     },
     "execution_count": 35,
     "metadata": {},
     "output_type": "execute_result"
    }
   ],
   "source": [
    "np.nanmean(np.square(np.subtract(combined.gauge_precip.values, combined.mlp_posterior_mean.values)))"
   ]
  }
 ],
 "metadata": {
  "kernelspec": {
   "display_name": "Python 3",
   "language": "python",
   "name": "python3"
  },
  "language_info": {
   "codemirror_mode": {
    "name": "ipython",
    "version": 3
   },
   "file_extension": ".py",
   "mimetype": "text/x-python",
   "name": "python",
   "nbconvert_exporter": "python",
   "pygments_lexer": "ipython3",
   "version": "3.8.5"
  }
 },
 "nbformat": 4,
 "nbformat_minor": 5
}

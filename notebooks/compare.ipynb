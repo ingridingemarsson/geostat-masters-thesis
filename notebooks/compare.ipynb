{
 "cells": [
  {
   "cell_type": "code",
   "execution_count": 1,
   "id": "loaded-photograph",
   "metadata": {},
   "outputs": [],
   "source": [
    "import numpy as np\n",
    "import matplotlib.pyplot as plt\n",
    "from matplotlib.colors import LogNorm\n",
    "import torch\n",
    "import xarray as xr\n",
    "import pandas as pd\n",
    "import os\n",
    "import datetime\n",
    "import seaborn as sns\n",
    "\n",
    "import cartopy\n",
    "import cartopy.crs as ccrs\n",
    "from pyresample import load_area, geometry\n",
    "\n",
    "import quantnn"
   ]
  },
  {
   "cell_type": "code",
   "execution_count": 2,
   "id": "ambient-fellow",
   "metadata": {},
   "outputs": [],
   "source": [
    "f = open('../path_to_data.txt', \"r\")\n",
    "path_to_dataset = os.path.join(f.readline().rstrip(\"\\n\"))\n",
    "f.close() "
   ]
  },
  {
   "cell_type": "code",
   "execution_count": 5,
   "id": "confused-semester",
   "metadata": {},
   "outputs": [],
   "source": [
    "combined = xr.open_dataset(os.path.join(path_to_dataset,'combined.nc'))"
   ]
  },
  {
   "cell_type": "code",
   "execution_count": 8,
   "id": "million-winter",
   "metadata": {},
   "outputs": [
    {
     "data": {
      "text/html": [
       "<div><svg style=\"position: absolute; width: 0; height: 0; overflow: hidden\">\n",
       "<defs>\n",
       "<symbol id=\"icon-database\" viewBox=\"0 0 32 32\">\n",
       "<path d=\"M16 0c-8.837 0-16 2.239-16 5v4c0 2.761 7.163 5 16 5s16-2.239 16-5v-4c0-2.761-7.163-5-16-5z\"></path>\n",
       "<path d=\"M16 17c-8.837 0-16-2.239-16-5v6c0 2.761 7.163 5 16 5s16-2.239 16-5v-6c0 2.761-7.163 5-16 5z\"></path>\n",
       "<path d=\"M16 26c-8.837 0-16-2.239-16-5v6c0 2.761 7.163 5 16 5s16-2.239 16-5v-6c0 2.761-7.163 5-16 5z\"></path>\n",
       "</symbol>\n",
       "<symbol id=\"icon-file-text2\" viewBox=\"0 0 32 32\">\n",
       "<path d=\"M28.681 7.159c-0.694-0.947-1.662-2.053-2.724-3.116s-2.169-2.030-3.116-2.724c-1.612-1.182-2.393-1.319-2.841-1.319h-15.5c-1.378 0-2.5 1.121-2.5 2.5v27c0 1.378 1.122 2.5 2.5 2.5h23c1.378 0 2.5-1.122 2.5-2.5v-19.5c0-0.448-0.137-1.23-1.319-2.841zM24.543 5.457c0.959 0.959 1.712 1.825 2.268 2.543h-4.811v-4.811c0.718 0.556 1.584 1.309 2.543 2.268zM28 29.5c0 0.271-0.229 0.5-0.5 0.5h-23c-0.271 0-0.5-0.229-0.5-0.5v-27c0-0.271 0.229-0.5 0.5-0.5 0 0 15.499-0 15.5 0v7c0 0.552 0.448 1 1 1h7v19.5z\"></path>\n",
       "<path d=\"M23 26h-14c-0.552 0-1-0.448-1-1s0.448-1 1-1h14c0.552 0 1 0.448 1 1s-0.448 1-1 1z\"></path>\n",
       "<path d=\"M23 22h-14c-0.552 0-1-0.448-1-1s0.448-1 1-1h14c0.552 0 1 0.448 1 1s-0.448 1-1 1z\"></path>\n",
       "<path d=\"M23 18h-14c-0.552 0-1-0.448-1-1s0.448-1 1-1h14c0.552 0 1 0.448 1 1s-0.448 1-1 1z\"></path>\n",
       "</symbol>\n",
       "</defs>\n",
       "</svg>\n",
       "<style>/* CSS stylesheet for displaying xarray objects in jupyterlab.\n",
       " *\n",
       " */\n",
       "\n",
       ":root {\n",
       "  --xr-font-color0: var(--jp-content-font-color0, rgba(0, 0, 0, 1));\n",
       "  --xr-font-color2: var(--jp-content-font-color2, rgba(0, 0, 0, 0.54));\n",
       "  --xr-font-color3: var(--jp-content-font-color3, rgba(0, 0, 0, 0.38));\n",
       "  --xr-border-color: var(--jp-border-color2, #e0e0e0);\n",
       "  --xr-disabled-color: var(--jp-layout-color3, #bdbdbd);\n",
       "  --xr-background-color: var(--jp-layout-color0, white);\n",
       "  --xr-background-color-row-even: var(--jp-layout-color1, white);\n",
       "  --xr-background-color-row-odd: var(--jp-layout-color2, #eeeeee);\n",
       "}\n",
       "\n",
       "html[theme=dark],\n",
       "body.vscode-dark {\n",
       "  --xr-font-color0: rgba(255, 255, 255, 1);\n",
       "  --xr-font-color2: rgba(255, 255, 255, 0.54);\n",
       "  --xr-font-color3: rgba(255, 255, 255, 0.38);\n",
       "  --xr-border-color: #1F1F1F;\n",
       "  --xr-disabled-color: #515151;\n",
       "  --xr-background-color: #111111;\n",
       "  --xr-background-color-row-even: #111111;\n",
       "  --xr-background-color-row-odd: #313131;\n",
       "}\n",
       "\n",
       ".xr-wrap {\n",
       "  display: block;\n",
       "  min-width: 300px;\n",
       "  max-width: 700px;\n",
       "}\n",
       "\n",
       ".xr-text-repr-fallback {\n",
       "  /* fallback to plain text repr when CSS is not injected (untrusted notebook) */\n",
       "  display: none;\n",
       "}\n",
       "\n",
       ".xr-header {\n",
       "  padding-top: 6px;\n",
       "  padding-bottom: 6px;\n",
       "  margin-bottom: 4px;\n",
       "  border-bottom: solid 1px var(--xr-border-color);\n",
       "}\n",
       "\n",
       ".xr-header > div,\n",
       ".xr-header > ul {\n",
       "  display: inline;\n",
       "  margin-top: 0;\n",
       "  margin-bottom: 0;\n",
       "}\n",
       "\n",
       ".xr-obj-type,\n",
       ".xr-array-name {\n",
       "  margin-left: 2px;\n",
       "  margin-right: 10px;\n",
       "}\n",
       "\n",
       ".xr-obj-type {\n",
       "  color: var(--xr-font-color2);\n",
       "}\n",
       "\n",
       ".xr-sections {\n",
       "  padding-left: 0 !important;\n",
       "  display: grid;\n",
       "  grid-template-columns: 150px auto auto 1fr 20px 20px;\n",
       "}\n",
       "\n",
       ".xr-section-item {\n",
       "  display: contents;\n",
       "}\n",
       "\n",
       ".xr-section-item input {\n",
       "  display: none;\n",
       "}\n",
       "\n",
       ".xr-section-item input + label {\n",
       "  color: var(--xr-disabled-color);\n",
       "}\n",
       "\n",
       ".xr-section-item input:enabled + label {\n",
       "  cursor: pointer;\n",
       "  color: var(--xr-font-color2);\n",
       "}\n",
       "\n",
       ".xr-section-item input:enabled + label:hover {\n",
       "  color: var(--xr-font-color0);\n",
       "}\n",
       "\n",
       ".xr-section-summary {\n",
       "  grid-column: 1;\n",
       "  color: var(--xr-font-color2);\n",
       "  font-weight: 500;\n",
       "}\n",
       "\n",
       ".xr-section-summary > span {\n",
       "  display: inline-block;\n",
       "  padding-left: 0.5em;\n",
       "}\n",
       "\n",
       ".xr-section-summary-in:disabled + label {\n",
       "  color: var(--xr-font-color2);\n",
       "}\n",
       "\n",
       ".xr-section-summary-in + label:before {\n",
       "  display: inline-block;\n",
       "  content: '►';\n",
       "  font-size: 11px;\n",
       "  width: 15px;\n",
       "  text-align: center;\n",
       "}\n",
       "\n",
       ".xr-section-summary-in:disabled + label:before {\n",
       "  color: var(--xr-disabled-color);\n",
       "}\n",
       "\n",
       ".xr-section-summary-in:checked + label:before {\n",
       "  content: '▼';\n",
       "}\n",
       "\n",
       ".xr-section-summary-in:checked + label > span {\n",
       "  display: none;\n",
       "}\n",
       "\n",
       ".xr-section-summary,\n",
       ".xr-section-inline-details {\n",
       "  padding-top: 4px;\n",
       "  padding-bottom: 4px;\n",
       "}\n",
       "\n",
       ".xr-section-inline-details {\n",
       "  grid-column: 2 / -1;\n",
       "}\n",
       "\n",
       ".xr-section-details {\n",
       "  display: none;\n",
       "  grid-column: 1 / -1;\n",
       "  margin-bottom: 5px;\n",
       "}\n",
       "\n",
       ".xr-section-summary-in:checked ~ .xr-section-details {\n",
       "  display: contents;\n",
       "}\n",
       "\n",
       ".xr-array-wrap {\n",
       "  grid-column: 1 / -1;\n",
       "  display: grid;\n",
       "  grid-template-columns: 20px auto;\n",
       "}\n",
       "\n",
       ".xr-array-wrap > label {\n",
       "  grid-column: 1;\n",
       "  vertical-align: top;\n",
       "}\n",
       "\n",
       ".xr-preview {\n",
       "  color: var(--xr-font-color3);\n",
       "}\n",
       "\n",
       ".xr-array-preview,\n",
       ".xr-array-data {\n",
       "  padding: 0 5px !important;\n",
       "  grid-column: 2;\n",
       "}\n",
       "\n",
       ".xr-array-data,\n",
       ".xr-array-in:checked ~ .xr-array-preview {\n",
       "  display: none;\n",
       "}\n",
       "\n",
       ".xr-array-in:checked ~ .xr-array-data,\n",
       ".xr-array-preview {\n",
       "  display: inline-block;\n",
       "}\n",
       "\n",
       ".xr-dim-list {\n",
       "  display: inline-block !important;\n",
       "  list-style: none;\n",
       "  padding: 0 !important;\n",
       "  margin: 0;\n",
       "}\n",
       "\n",
       ".xr-dim-list li {\n",
       "  display: inline-block;\n",
       "  padding: 0;\n",
       "  margin: 0;\n",
       "}\n",
       "\n",
       ".xr-dim-list:before {\n",
       "  content: '(';\n",
       "}\n",
       "\n",
       ".xr-dim-list:after {\n",
       "  content: ')';\n",
       "}\n",
       "\n",
       ".xr-dim-list li:not(:last-child):after {\n",
       "  content: ',';\n",
       "  padding-right: 5px;\n",
       "}\n",
       "\n",
       ".xr-has-index {\n",
       "  font-weight: bold;\n",
       "}\n",
       "\n",
       ".xr-var-list,\n",
       ".xr-var-item {\n",
       "  display: contents;\n",
       "}\n",
       "\n",
       ".xr-var-item > div,\n",
       ".xr-var-item label,\n",
       ".xr-var-item > .xr-var-name span {\n",
       "  background-color: var(--xr-background-color-row-even);\n",
       "  margin-bottom: 0;\n",
       "}\n",
       "\n",
       ".xr-var-item > .xr-var-name:hover span {\n",
       "  padding-right: 5px;\n",
       "}\n",
       "\n",
       ".xr-var-list > li:nth-child(odd) > div,\n",
       ".xr-var-list > li:nth-child(odd) > label,\n",
       ".xr-var-list > li:nth-child(odd) > .xr-var-name span {\n",
       "  background-color: var(--xr-background-color-row-odd);\n",
       "}\n",
       "\n",
       ".xr-var-name {\n",
       "  grid-column: 1;\n",
       "}\n",
       "\n",
       ".xr-var-dims {\n",
       "  grid-column: 2;\n",
       "}\n",
       "\n",
       ".xr-var-dtype {\n",
       "  grid-column: 3;\n",
       "  text-align: right;\n",
       "  color: var(--xr-font-color2);\n",
       "}\n",
       "\n",
       ".xr-var-preview {\n",
       "  grid-column: 4;\n",
       "}\n",
       "\n",
       ".xr-var-name,\n",
       ".xr-var-dims,\n",
       ".xr-var-dtype,\n",
       ".xr-preview,\n",
       ".xr-attrs dt {\n",
       "  white-space: nowrap;\n",
       "  overflow: hidden;\n",
       "  text-overflow: ellipsis;\n",
       "  padding-right: 10px;\n",
       "}\n",
       "\n",
       ".xr-var-name:hover,\n",
       ".xr-var-dims:hover,\n",
       ".xr-var-dtype:hover,\n",
       ".xr-attrs dt:hover {\n",
       "  overflow: visible;\n",
       "  width: auto;\n",
       "  z-index: 1;\n",
       "}\n",
       "\n",
       ".xr-var-attrs,\n",
       ".xr-var-data {\n",
       "  display: none;\n",
       "  background-color: var(--xr-background-color) !important;\n",
       "  padding-bottom: 5px !important;\n",
       "}\n",
       "\n",
       ".xr-var-attrs-in:checked ~ .xr-var-attrs,\n",
       ".xr-var-data-in:checked ~ .xr-var-data {\n",
       "  display: block;\n",
       "}\n",
       "\n",
       ".xr-var-data > table {\n",
       "  float: right;\n",
       "}\n",
       "\n",
       ".xr-var-name span,\n",
       ".xr-var-data,\n",
       ".xr-attrs {\n",
       "  padding-left: 25px !important;\n",
       "}\n",
       "\n",
       ".xr-attrs,\n",
       ".xr-var-attrs,\n",
       ".xr-var-data {\n",
       "  grid-column: 1 / -1;\n",
       "}\n",
       "\n",
       "dl.xr-attrs {\n",
       "  padding: 0;\n",
       "  margin: 0;\n",
       "  display: grid;\n",
       "  grid-template-columns: 125px auto;\n",
       "}\n",
       "\n",
       ".xr-attrs dt,\n",
       ".xr-attrs dd {\n",
       "  padding: 0;\n",
       "  margin: 0;\n",
       "  float: left;\n",
       "  padding-right: 10px;\n",
       "  width: auto;\n",
       "}\n",
       "\n",
       ".xr-attrs dt {\n",
       "  font-weight: normal;\n",
       "  grid-column: 1;\n",
       "}\n",
       "\n",
       ".xr-attrs dt:hover span {\n",
       "  display: inline-block;\n",
       "  background: var(--xr-background-color);\n",
       "  padding-right: 10px;\n",
       "}\n",
       "\n",
       ".xr-attrs dd {\n",
       "  grid-column: 2;\n",
       "  white-space: pre-wrap;\n",
       "  word-break: break-all;\n",
       "}\n",
       "\n",
       ".xr-icon-database,\n",
       ".xr-icon-file-text2 {\n",
       "  display: inline-block;\n",
       "  vertical-align: middle;\n",
       "  width: 1em;\n",
       "  height: 1.5em !important;\n",
       "  stroke-width: 0;\n",
       "  stroke: currentColor;\n",
       "  fill: currentColor;\n",
       "}\n",
       "</style><pre class='xr-text-repr-fallback'>&lt;xarray.Dataset&gt;\n",
       "Dimensions:                  (location: 609, time: 738)\n",
       "Coordinates:\n",
       "  * location                 (location) int64 0 1 2 3 4 ... 604 605 606 607 608\n",
       "  * time                     (time) datetime64[ns] 2020-12-01T01:00:00 ... 20...\n",
       "Data variables:\n",
       "    xception_posterior_mean  (time, location) float32 ...\n",
       "    xception_Q0.95           (time, location) float32 ...\n",
       "    xception_Q0.99           (time, location) float32 ...\n",
       "    mlp_posterior_mean       (time, location) float32 ...\n",
       "    mlp_Q0.95                (time, location) float32 ...\n",
       "    mlp_Q0.99                (time, location) float32 ...\n",
       "    HE_precip                (time, location) float64 ...\n",
       "    gauge_precip             (time, location) float64 ...</pre><div class='xr-wrap' hidden><div class='xr-header'><div class='xr-obj-type'>xarray.Dataset</div></div><ul class='xr-sections'><li class='xr-section-item'><input id='section-97d2886c-cd6d-4fa8-824e-a428a37228f5' class='xr-section-summary-in' type='checkbox' disabled ><label for='section-97d2886c-cd6d-4fa8-824e-a428a37228f5' class='xr-section-summary'  title='Expand/collapse section'>Dimensions:</label><div class='xr-section-inline-details'><ul class='xr-dim-list'><li><span class='xr-has-index'>location</span>: 609</li><li><span class='xr-has-index'>time</span>: 738</li></ul></div><div class='xr-section-details'></div></li><li class='xr-section-item'><input id='section-58ff0370-f976-4528-a1a7-a8d07e52ff6d' class='xr-section-summary-in' type='checkbox'  checked><label for='section-58ff0370-f976-4528-a1a7-a8d07e52ff6d' class='xr-section-summary' >Coordinates: <span>(2)</span></label><div class='xr-section-inline-details'></div><div class='xr-section-details'><ul class='xr-var-list'><li class='xr-var-item'><div class='xr-var-name'><span class='xr-has-index'>location</span></div><div class='xr-var-dims'>(location)</div><div class='xr-var-dtype'>int64</div><div class='xr-var-preview xr-preview'>0 1 2 3 4 5 ... 604 605 606 607 608</div><input id='attrs-7aca4f9e-2ead-4208-9918-b3891a1952a4' class='xr-var-attrs-in' type='checkbox' disabled><label for='attrs-7aca4f9e-2ead-4208-9918-b3891a1952a4' title='Show/Hide attributes'><svg class='icon xr-icon-file-text2'><use xlink:href='#icon-file-text2'></use></svg></label><input id='data-f0abe01c-7453-4de6-aea6-010f59dd4fa1' class='xr-var-data-in' type='checkbox'><label for='data-f0abe01c-7453-4de6-aea6-010f59dd4fa1' title='Show/Hide data repr'><svg class='icon xr-icon-database'><use xlink:href='#icon-database'></use></svg></label><div class='xr-var-attrs'><dl class='xr-attrs'></dl></div><div class='xr-var-data'><pre>array([  0,   1,   2, ..., 606, 607, 608])</pre></div></li><li class='xr-var-item'><div class='xr-var-name'><span class='xr-has-index'>time</span></div><div class='xr-var-dims'>(time)</div><div class='xr-var-dtype'>datetime64[ns]</div><div class='xr-var-preview xr-preview'>2020-12-01T01:00:00 ... 2020-12-...</div><input id='attrs-1c057651-1f00-4732-a991-6bfb20c8607b' class='xr-var-attrs-in' type='checkbox' disabled><label for='attrs-1c057651-1f00-4732-a991-6bfb20c8607b' title='Show/Hide attributes'><svg class='icon xr-icon-file-text2'><use xlink:href='#icon-file-text2'></use></svg></label><input id='data-4e712804-f1d7-4dfd-972f-f208bc5af567' class='xr-var-data-in' type='checkbox'><label for='data-4e712804-f1d7-4dfd-972f-f208bc5af567' title='Show/Hide data repr'><svg class='icon xr-icon-database'><use xlink:href='#icon-database'></use></svg></label><div class='xr-var-attrs'><dl class='xr-attrs'></dl></div><div class='xr-var-data'><pre>array([&#x27;2020-12-01T01:00:00.000000000&#x27;, &#x27;2020-12-01T02:00:00.000000000&#x27;,\n",
       "       &#x27;2020-12-01T03:00:00.000000000&#x27;, ..., &#x27;2020-12-31T16:00:00.000000000&#x27;,\n",
       "       &#x27;2020-12-31T17:00:00.000000000&#x27;, &#x27;2020-12-31T18:00:00.000000000&#x27;],\n",
       "      dtype=&#x27;datetime64[ns]&#x27;)</pre></div></li></ul></div></li><li class='xr-section-item'><input id='section-8d6e41bb-5c59-4dbe-b346-7490d7789bfb' class='xr-section-summary-in' type='checkbox'  checked><label for='section-8d6e41bb-5c59-4dbe-b346-7490d7789bfb' class='xr-section-summary' >Data variables: <span>(8)</span></label><div class='xr-section-inline-details'></div><div class='xr-section-details'><ul class='xr-var-list'><li class='xr-var-item'><div class='xr-var-name'><span>xception_posterior_mean</span></div><div class='xr-var-dims'>(time, location)</div><div class='xr-var-dtype'>float32</div><div class='xr-var-preview xr-preview'>...</div><input id='attrs-c13471c3-5090-47c9-b5f0-82a10fd7a15d' class='xr-var-attrs-in' type='checkbox' disabled><label for='attrs-c13471c3-5090-47c9-b5f0-82a10fd7a15d' title='Show/Hide attributes'><svg class='icon xr-icon-file-text2'><use xlink:href='#icon-file-text2'></use></svg></label><input id='data-19a109d7-e1cc-40de-b246-b73a9e4c18da' class='xr-var-data-in' type='checkbox'><label for='data-19a109d7-e1cc-40de-b246-b73a9e4c18da' title='Show/Hide data repr'><svg class='icon xr-icon-database'><use xlink:href='#icon-database'></use></svg></label><div class='xr-var-attrs'><dl class='xr-attrs'></dl></div><div class='xr-var-data'><pre>[449442 values with dtype=float32]</pre></div></li><li class='xr-var-item'><div class='xr-var-name'><span>xception_Q0.95</span></div><div class='xr-var-dims'>(time, location)</div><div class='xr-var-dtype'>float32</div><div class='xr-var-preview xr-preview'>...</div><input id='attrs-d8b519c7-0a55-4e7b-bd33-b42efab282a9' class='xr-var-attrs-in' type='checkbox' disabled><label for='attrs-d8b519c7-0a55-4e7b-bd33-b42efab282a9' title='Show/Hide attributes'><svg class='icon xr-icon-file-text2'><use xlink:href='#icon-file-text2'></use></svg></label><input id='data-5e2b48c3-4b53-4d66-9c73-c1dd409008c4' class='xr-var-data-in' type='checkbox'><label for='data-5e2b48c3-4b53-4d66-9c73-c1dd409008c4' title='Show/Hide data repr'><svg class='icon xr-icon-database'><use xlink:href='#icon-database'></use></svg></label><div class='xr-var-attrs'><dl class='xr-attrs'></dl></div><div class='xr-var-data'><pre>[449442 values with dtype=float32]</pre></div></li><li class='xr-var-item'><div class='xr-var-name'><span>xception_Q0.99</span></div><div class='xr-var-dims'>(time, location)</div><div class='xr-var-dtype'>float32</div><div class='xr-var-preview xr-preview'>...</div><input id='attrs-b5679d6a-9a02-493c-a637-5b5d1dd58e34' class='xr-var-attrs-in' type='checkbox' disabled><label for='attrs-b5679d6a-9a02-493c-a637-5b5d1dd58e34' title='Show/Hide attributes'><svg class='icon xr-icon-file-text2'><use xlink:href='#icon-file-text2'></use></svg></label><input id='data-9b83b65b-daf9-4db1-95e1-e1dd2398b6d8' class='xr-var-data-in' type='checkbox'><label for='data-9b83b65b-daf9-4db1-95e1-e1dd2398b6d8' title='Show/Hide data repr'><svg class='icon xr-icon-database'><use xlink:href='#icon-database'></use></svg></label><div class='xr-var-attrs'><dl class='xr-attrs'></dl></div><div class='xr-var-data'><pre>[449442 values with dtype=float32]</pre></div></li><li class='xr-var-item'><div class='xr-var-name'><span>mlp_posterior_mean</span></div><div class='xr-var-dims'>(time, location)</div><div class='xr-var-dtype'>float32</div><div class='xr-var-preview xr-preview'>...</div><input id='attrs-58333c7a-00a0-4dcb-9c31-f9702ffc1e10' class='xr-var-attrs-in' type='checkbox' disabled><label for='attrs-58333c7a-00a0-4dcb-9c31-f9702ffc1e10' title='Show/Hide attributes'><svg class='icon xr-icon-file-text2'><use xlink:href='#icon-file-text2'></use></svg></label><input id='data-fec2291d-e751-46ff-a950-989709eee277' class='xr-var-data-in' type='checkbox'><label for='data-fec2291d-e751-46ff-a950-989709eee277' title='Show/Hide data repr'><svg class='icon xr-icon-database'><use xlink:href='#icon-database'></use></svg></label><div class='xr-var-attrs'><dl class='xr-attrs'></dl></div><div class='xr-var-data'><pre>[449442 values with dtype=float32]</pre></div></li><li class='xr-var-item'><div class='xr-var-name'><span>mlp_Q0.95</span></div><div class='xr-var-dims'>(time, location)</div><div class='xr-var-dtype'>float32</div><div class='xr-var-preview xr-preview'>...</div><input id='attrs-7d64a200-e7ee-4b07-a33f-2dacc64659ea' class='xr-var-attrs-in' type='checkbox' disabled><label for='attrs-7d64a200-e7ee-4b07-a33f-2dacc64659ea' title='Show/Hide attributes'><svg class='icon xr-icon-file-text2'><use xlink:href='#icon-file-text2'></use></svg></label><input id='data-9cb7071c-b851-472c-8351-59d5416e44d3' class='xr-var-data-in' type='checkbox'><label for='data-9cb7071c-b851-472c-8351-59d5416e44d3' title='Show/Hide data repr'><svg class='icon xr-icon-database'><use xlink:href='#icon-database'></use></svg></label><div class='xr-var-attrs'><dl class='xr-attrs'></dl></div><div class='xr-var-data'><pre>[449442 values with dtype=float32]</pre></div></li><li class='xr-var-item'><div class='xr-var-name'><span>mlp_Q0.99</span></div><div class='xr-var-dims'>(time, location)</div><div class='xr-var-dtype'>float32</div><div class='xr-var-preview xr-preview'>...</div><input id='attrs-63c18ab6-9f71-4f6f-845f-f5ceb5e43d17' class='xr-var-attrs-in' type='checkbox' disabled><label for='attrs-63c18ab6-9f71-4f6f-845f-f5ceb5e43d17' title='Show/Hide attributes'><svg class='icon xr-icon-file-text2'><use xlink:href='#icon-file-text2'></use></svg></label><input id='data-b94c6211-1135-47d1-84c1-79eb205f3fbc' class='xr-var-data-in' type='checkbox'><label for='data-b94c6211-1135-47d1-84c1-79eb205f3fbc' title='Show/Hide data repr'><svg class='icon xr-icon-database'><use xlink:href='#icon-database'></use></svg></label><div class='xr-var-attrs'><dl class='xr-attrs'></dl></div><div class='xr-var-data'><pre>[449442 values with dtype=float32]</pre></div></li><li class='xr-var-item'><div class='xr-var-name'><span>HE_precip</span></div><div class='xr-var-dims'>(time, location)</div><div class='xr-var-dtype'>float64</div><div class='xr-var-preview xr-preview'>...</div><input id='attrs-eedb772d-c1ff-4204-9d9b-0eae60e93d4d' class='xr-var-attrs-in' type='checkbox' disabled><label for='attrs-eedb772d-c1ff-4204-9d9b-0eae60e93d4d' title='Show/Hide attributes'><svg class='icon xr-icon-file-text2'><use xlink:href='#icon-file-text2'></use></svg></label><input id='data-cdd5bf77-0be7-4055-a8be-d9483f813f2f' class='xr-var-data-in' type='checkbox'><label for='data-cdd5bf77-0be7-4055-a8be-d9483f813f2f' title='Show/Hide data repr'><svg class='icon xr-icon-database'><use xlink:href='#icon-database'></use></svg></label><div class='xr-var-attrs'><dl class='xr-attrs'></dl></div><div class='xr-var-data'><pre>[449442 values with dtype=float64]</pre></div></li><li class='xr-var-item'><div class='xr-var-name'><span>gauge_precip</span></div><div class='xr-var-dims'>(time, location)</div><div class='xr-var-dtype'>float64</div><div class='xr-var-preview xr-preview'>...</div><input id='attrs-6b61fb53-ef43-411a-b6d8-1f1c85d81dd1' class='xr-var-attrs-in' type='checkbox' disabled><label for='attrs-6b61fb53-ef43-411a-b6d8-1f1c85d81dd1' title='Show/Hide attributes'><svg class='icon xr-icon-file-text2'><use xlink:href='#icon-file-text2'></use></svg></label><input id='data-d6da6fa9-d579-42ec-96ee-1b46201bf369' class='xr-var-data-in' type='checkbox'><label for='data-d6da6fa9-d579-42ec-96ee-1b46201bf369' title='Show/Hide data repr'><svg class='icon xr-icon-database'><use xlink:href='#icon-database'></use></svg></label><div class='xr-var-attrs'><dl class='xr-attrs'></dl></div><div class='xr-var-data'><pre>[449442 values with dtype=float64]</pre></div></li></ul></div></li><li class='xr-section-item'><input id='section-bc64b795-c768-475a-a0fc-637872ecf9c6' class='xr-section-summary-in' type='checkbox' disabled ><label for='section-bc64b795-c768-475a-a0fc-637872ecf9c6' class='xr-section-summary'  title='Expand/collapse section'>Attributes: <span>(0)</span></label><div class='xr-section-inline-details'></div><div class='xr-section-details'><dl class='xr-attrs'></dl></div></li></ul></div></div>"
      ],
      "text/plain": [
       "<xarray.Dataset>\n",
       "Dimensions:                  (location: 609, time: 738)\n",
       "Coordinates:\n",
       "  * location                 (location) int64 0 1 2 3 4 ... 604 605 606 607 608\n",
       "  * time                     (time) datetime64[ns] 2020-12-01T01:00:00 ... 20...\n",
       "Data variables:\n",
       "    xception_posterior_mean  (time, location) float32 ...\n",
       "    xception_Q0.95           (time, location) float32 ...\n",
       "    xception_Q0.99           (time, location) float32 ...\n",
       "    mlp_posterior_mean       (time, location) float32 ...\n",
       "    mlp_Q0.95                (time, location) float32 ...\n",
       "    mlp_Q0.99                (time, location) float32 ...\n",
       "    HE_precip                (time, location) float64 ...\n",
       "    gauge_precip             (time, location) float64 ..."
      ]
     },
     "execution_count": 8,
     "metadata": {},
     "output_type": "execute_result"
    }
   ],
   "source": [
    "combined"
   ]
  },
  {
   "cell_type": "code",
   "execution_count": 7,
   "id": "roman-voluntary",
   "metadata": {},
   "outputs": [
    {
     "name": "stdout",
     "output_type": "stream",
     "text": [
      "391\n"
     ]
    },
    {
     "data": {
      "text/plain": [
       "<matplotlib.legend.Legend at 0x7ff537267a00>"
      ]
     },
     "execution_count": 7,
     "metadata": {},
     "output_type": "execute_result"
    },
    {
     "data": {
      "image/png": "[encoded data removed]",
      "text/plain": [
       "<Figure size 1152x576 with 1 Axes>"
      ]
     },
     "metadata": {},
     "output_type": "display_data"
    }
   ],
   "source": [
    "sns.set_style('whitegrid')\n",
    "ind = 391 \n",
    "print(ind)\n",
    "\n",
    "fig, ax = plt.subplots(figsize=(16,8))\n",
    "plt.plot(combined.time, combined.mlp_posterior_mean[:, ind], label='mlp')\n",
    "plt.plot(combined.time, combined.xception_posterior_mean[:, ind], label='cnn')\n",
    "plt.plot(combined.time, combined.HE_precip[:, ind], label='HE')\n",
    "plt.plot(combined.time, combined.gauge_precip[:, ind], label='gauge')\n",
    "\n",
    "ax.set_ylabel('rain (mm)')\n",
    "ax.set_xlabel('datetime (hour)')\n",
    "ax.legend()"
   ]
  },
  {
   "cell_type": "code",
   "execution_count": 21,
   "id": "sensitive-transcript",
   "metadata": {},
   "outputs": [
    {
     "data": {
      "text/plain": [
       "-0.10395083635324988"
      ]
     },
     "execution_count": 21,
     "metadata": {},
     "output_type": "execute_result"
    }
   ],
   "source": [
    "np.nanmean(combined.gauge_precip-combined.HE_precip)"
   ]
  },
  {
   "cell_type": "code",
   "execution_count": 23,
   "id": "spatial-collection",
   "metadata": {},
   "outputs": [
    {
     "data": {
      "text/plain": [
       "-0.004699792821834452"
      ]
     },
     "execution_count": 23,
     "metadata": {},
     "output_type": "execute_result"
    }
   ],
   "source": [
    "np.nanmean(combined.gauge_precip-combined.xception_posterior_mean)"
   ]
  },
  {
   "cell_type": "code",
   "execution_count": 24,
   "id": "satellite-convertible",
   "metadata": {},
   "outputs": [
    {
     "data": {
      "text/plain": [
       "0.020730019446901584"
      ]
     },
     "execution_count": 24,
     "metadata": {},
     "output_type": "execute_result"
    }
   ],
   "source": [
    "np.nanmean(combined.gauge_precip-combined.mlp_posterior_mean)"
   ]
  },
  {
   "cell_type": "code",
   "execution_count": 33,
   "id": "forward-router",
   "metadata": {},
   "outputs": [
    {
     "data": {
      "text/plain": [
       "3.940874754925588"
      ]
     },
     "execution_count": 33,
     "metadata": {},
     "output_type": "execute_result"
    }
   ],
   "source": [
    "np.nanmean(np.square(np.subtract(combined.gauge_precip.values, combined.HE_precip.values)))"
   ]
  },
  {
   "cell_type": "code",
   "execution_count": 36,
   "id": "alike-seventh",
   "metadata": {},
   "outputs": [
    {
     "data": {
      "text/plain": [
       "1.7017950619618278"
      ]
     },
     "execution_count": 36,
     "metadata": {},
     "output_type": "execute_result"
    }
   ],
   "source": [
    "np.nanmean(np.square(np.subtract(combined.gauge_precip.values, combined.xception_posterior_mean.values)))"
   ]
  },
  {
   "cell_type": "code",
   "execution_count": 35,
   "id": "nuclear-destination",
   "metadata": {},
   "outputs": [
    {
     "data": {
      "text/plain": [
       "2.04128937113025"
      ]
     },
     "execution_count": 35,
     "metadata": {},
     "output_type": "execute_result"
    }
   ],
   "source": [
    "np.nanmean(np.square(np.subtract(combined.gauge_precip.values, combined.mlp_posterior_mean.values)))"
   ]
  },
  {
   "cell_type": "code",
   "execution_count": 40,
   "id": "dying-signature",
   "metadata": {},
   "outputs": [
    {
     "data": {
      "text/plain": [
       "(array([4.18207e+05, 8.09400e+03, 4.64500e+03, 2.93500e+03, 2.11300e+03,\n",
       "        1.57500e+03, 1.18100e+03, 9.28000e+02, 6.47000e+02, 5.59000e+02,\n",
       "        4.60000e+02, 3.89000e+02, 3.03000e+02, 2.70000e+02, 1.94000e+02,\n",
       "        1.40000e+02, 1.47000e+02, 1.13000e+02, 8.50000e+01, 6.30000e+01,\n",
       "        5.30000e+01, 4.10000e+01, 4.20000e+01, 3.30000e+01, 2.70000e+01,\n",
       "        3.00000e+01, 2.00000e+01, 1.50000e+01, 1.20000e+01, 7.00000e+00,\n",
       "        9.00000e+00, 3.00000e+00, 4.00000e+00, 2.00000e+00, 2.00000e+00,\n",
       "        1.00000e+00, 0.00000e+00, 0.00000e+00, 0.00000e+00, 0.00000e+00,\n",
       "        1.00000e+00, 0.00000e+00, 1.00000e+00, 0.00000e+00, 0.00000e+00,\n",
       "        0.00000e+00, 0.00000e+00, 0.00000e+00, 0.00000e+00, 1.00000e+00]),\n",
       " array([ 0.   ,  1.168,  2.336,  3.504,  4.672,  5.84 ,  7.008,  8.176,\n",
       "         9.344, 10.512, 11.68 , 12.848, 14.016, 15.184, 16.352, 17.52 ,\n",
       "        18.688, 19.856, 21.024, 22.192, 23.36 , 24.528, 25.696, 26.864,\n",
       "        28.032, 29.2  , 30.368, 31.536, 32.704, 33.872, 35.04 , 36.208,\n",
       "        37.376, 38.544, 39.712, 40.88 , 42.048, 43.216, 44.384, 45.552,\n",
       "        46.72 , 47.888, 49.056, 50.224, 51.392, 52.56 , 53.728, 54.896,\n",
       "        56.064, 57.232, 58.4  ]),\n",
       " <BarContainer object of 50 artists>)"
      ]
     },
     "execution_count": 40,
     "metadata": {},
     "output_type": "execute_result"
    },
    {
     "data": {
      "image/png": "[encoded data removed]",
      "text/plain": [
       "<Figure size 432x288 with 1 Axes>"
      ]
     },
     "metadata": {},
     "output_type": "display_data"
    }
   ],
   "source": [
    "plt.hist(combined.HE_precip.values.flatten(), bins=50)"
   ]
  },
  {
   "cell_type": "code",
   "execution_count": 42,
   "id": "competitive-special",
   "metadata": {},
   "outputs": [
    {
     "data": {
      "text/plain": [
       "(array([4.15904e+05, 1.17900e+04, 6.14800e+03, 3.88700e+03, 2.59400e+03,\n",
       "        1.88800e+03, 1.34300e+03, 9.98000e+02, 7.18000e+02, 5.50000e+02,\n",
       "        4.18000e+02, 3.05000e+02, 2.14000e+02, 1.63000e+02, 1.61000e+02,\n",
       "        1.17000e+02, 1.01000e+02, 7.80000e+01, 4.70000e+01, 4.10000e+01,\n",
       "        3.20000e+01, 3.60000e+01, 2.50000e+01, 2.70000e+01, 1.10000e+01,\n",
       "        1.10000e+01, 1.40000e+01, 9.00000e+00, 1.40000e+01, 4.00000e+00,\n",
       "        5.00000e+00, 7.00000e+00, 4.00000e+00, 4.00000e+00, 1.00000e+00,\n",
       "        0.00000e+00, 1.00000e+00, 1.00000e+00, 3.00000e+00, 3.00000e+00,\n",
       "        1.00000e+00, 1.00000e+00, 0.00000e+00, 2.00000e+00, 0.00000e+00,\n",
       "        0.00000e+00, 0.00000e+00, 0.00000e+00, 0.00000e+00, 2.00000e+00]),\n",
       " array([3.3542429e-04, 6.2855339e-01, 1.2567713e+00, 1.8849894e+00,\n",
       "        2.5132072e+00, 3.1414254e+00, 3.7696433e+00, 4.3978610e+00,\n",
       "        5.0260792e+00, 5.6542974e+00, 6.2825150e+00, 6.9107332e+00,\n",
       "        7.5389509e+00, 8.1671686e+00, 8.7953873e+00, 9.4236050e+00,\n",
       "        1.0051823e+01, 1.0680041e+01, 1.1308259e+01, 1.1936477e+01,\n",
       "        1.2564694e+01, 1.3192913e+01, 1.3821131e+01, 1.4449348e+01,\n",
       "        1.5077567e+01, 1.5705785e+01, 1.6334003e+01, 1.6962221e+01,\n",
       "        1.7590439e+01, 1.8218657e+01, 1.8846874e+01, 1.9475092e+01,\n",
       "        2.0103310e+01, 2.0731529e+01, 2.1359747e+01, 2.1987965e+01,\n",
       "        2.2616182e+01, 2.3244400e+01, 2.3872618e+01, 2.4500835e+01,\n",
       "        2.5129055e+01, 2.5757273e+01, 2.6385490e+01, 2.7013708e+01,\n",
       "        2.7641926e+01, 2.8270144e+01, 2.8898361e+01, 2.9526581e+01,\n",
       "        3.0154799e+01, 3.0783016e+01, 3.1411234e+01], dtype=float32),\n",
       " <BarContainer object of 50 artists>)"
      ]
     },
     "execution_count": 42,
     "metadata": {},
     "output_type": "execute_result"
    },
    {
     "data": {
      "image/png": "[encoded data removed]",
      "text/plain": [
       "<Figure size 432x288 with 1 Axes>"
      ]
     },
     "metadata": {},
     "output_type": "display_data"
    }
   ],
   "source": [
    "plt.hist(combined.xception_posterior_mean.values.flatten(), bins=50)"
   ]
  },
  {
   "cell_type": "code",
   "execution_count": 43,
   "id": "southeast-stroke",
   "metadata": {},
   "outputs": [
    {
     "data": {
      "text/plain": [
       "(array([3.86341e+05, 2.60590e+04, 1.30700e+04, 7.63000e+03, 4.95500e+03,\n",
       "        3.24000e+03, 2.01200e+03, 1.29200e+03, 8.15000e+02, 5.21000e+02,\n",
       "        3.78000e+02, 2.88000e+02, 2.02000e+02, 1.78000e+02, 1.25000e+02,\n",
       "        9.00000e+01, 7.60000e+01, 6.00000e+01, 5.40000e+01, 4.80000e+01,\n",
       "        3.80000e+01, 3.30000e+01, 2.60000e+01, 1.80000e+01, 1.60000e+01,\n",
       "        1.80000e+01, 1.20000e+01, 9.00000e+00, 1.20000e+01, 1.20000e+01,\n",
       "        1.40000e+01, 3.00000e+00, 1.00000e+00, 3.00000e+00, 3.00000e+00,\n",
       "        4.00000e+00, 5.00000e+00, 5.00000e+00, 5.00000e+00, 3.00000e+00,\n",
       "        1.00000e+00, 2.00000e+00, 1.00000e+00, 1.00000e+00, 1.00000e+00,\n",
       "        0.00000e+00, 0.00000e+00, 2.00000e+00, 0.00000e+00, 1.00000e+00]),\n",
       " array([-1.04688974e-02,  3.22379708e-01,  6.55228317e-01,  9.88076925e-01,\n",
       "         1.32092559e+00,  1.65377414e+00,  1.98662281e+00,  2.31947136e+00,\n",
       "         2.65231991e+00,  2.98516870e+00,  3.31801724e+00,  3.65086579e+00,\n",
       "         3.98371458e+00,  4.31656313e+00,  4.64941168e+00,  4.98226023e+00,\n",
       "         5.31510878e+00,  5.64795732e+00,  5.98080635e+00,  6.31365490e+00,\n",
       "         6.64650345e+00,  6.97935200e+00,  7.31220055e+00,  7.64504910e+00,\n",
       "         7.97789764e+00,  8.31074619e+00,  8.64359474e+00,  8.97644329e+00,\n",
       "         9.30929184e+00,  9.64214134e+00,  9.97498989e+00,  1.03078384e+01,\n",
       "         1.06406870e+01,  1.09735355e+01,  1.13063841e+01,  1.16392326e+01,\n",
       "         1.19720812e+01,  1.23049297e+01,  1.26377783e+01,  1.29706268e+01,\n",
       "         1.33034754e+01,  1.36363239e+01,  1.39691725e+01,  1.43020220e+01,\n",
       "         1.46348705e+01,  1.49677191e+01,  1.53005676e+01,  1.56334162e+01,\n",
       "         1.59662647e+01,  1.62991123e+01,  1.66319618e+01], dtype=float32),\n",
       " <BarContainer object of 50 artists>)"
      ]
     },
     "execution_count": 43,
     "metadata": {},
     "output_type": "execute_result"
    },
    {
     "data": {
      "image/png": "[encoded data removed]",
      "text/plain": [
       "<Figure size 432x288 with 1 Axes>"
      ]
     },
     "metadata": {},
     "output_type": "display_data"
    }
   ],
   "source": [
    "plt.hist(combined.mlp_posterior_mean.values.flatten(), bins=50)"
   ]
  }
 ],
 "metadata": {
  "kernelspec": {
   "display_name": "Python 3",
   "language": "python",
   "name": "python3"
  },
  "language_info": {
   "codemirror_mode": {
    "name": "ipython",
    "version": 3
   },
   "file_extension": ".py",
   "mimetype": "text/x-python",
   "name": "python",
   "nbconvert_exporter": "python",
   "pygments_lexer": "ipython3",
   "version": "3.8.5"
  }
 },
 "nbformat": 4,
 "nbformat_minor": 5
}

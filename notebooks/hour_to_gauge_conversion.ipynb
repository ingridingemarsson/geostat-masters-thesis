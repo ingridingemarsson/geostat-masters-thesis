{
 "cells": [
  {
   "cell_type": "code",
   "execution_count": 27,
   "id": "numeric-virtue",
   "metadata": {},
   "outputs": [],
   "source": [
    "import numpy as np\n",
    "import matplotlib.pyplot as plt\n",
    "from matplotlib.colors import LogNorm\n",
    "import torch\n",
    "import xarray as xr\n",
    "import pandas as pd\n",
    "import os\n",
    "import datetime\n",
    "\n",
    "\n",
    "import cartopy\n",
    "import cartopy.crs as ccrs\n",
    "from pyresample import load_area, geometry\n",
    "\n",
    "import quantnn"
   ]
  },
  {
   "cell_type": "code",
   "execution_count": 104,
   "id": "grateful-sixth",
   "metadata": {},
   "outputs": [],
   "source": [
    "path_to_rain_gauge_data = '../reference/'\n",
    "area_path='../dataset/downloads/files/areas.yaml'\n",
    "area_def = load_area(area_path, 'full_disk')\n",
    "\n",
    "def get_gauge_locations():\n",
    "    lonlats = pd.read_pickle(os.path.join(path_to_rain_gauge_data,'rain_gauge_locs.pckl'))\n",
    "    colrows = []\n",
    "    for lon, lat in zip(lonlats['lon'], lonlats['lat']):\n",
    "        col, row = area_def.lonlat2colrow(lon, lat)\n",
    "        colrows.append((col, row))\n",
    "\n",
    "    colrows = pd.DataFrame(colrows, columns = ['cols', 'rows'])\n",
    "\n",
    "    return(colrows)\n"
   ]
  },
  {
   "cell_type": "code",
   "execution_count": 128,
   "id": "white-score",
   "metadata": {},
   "outputs": [],
   "source": [
    "gauge_locs = get_gauge_locations()"
   ]
  },
  {
   "cell_type": "code",
   "execution_count": 145,
   "id": "silent-lighter",
   "metadata": {},
   "outputs": [],
   "source": [
    "def preprocess_colrow(ds, col, row):\n",
    "    dsnew = ds.copy()\n",
    "    region_corners_idx_low, __, __, region_corners_idy_low = dsnew.ind_extent\n",
    "    dsnew = dsnew[dict(y=row-region_corners_idy_low,x=col-region_corners_idx_low)]\n",
    "    t = datetime.datetime.strptime(dsnew.attrs['end'], '%Y-%m-%d %H:%M:%S')\n",
    "    dsnew = dsnew.assign_coords(time=t)\n",
    "    dsnew = dsnew.expand_dims('time').set_coords('time')\n",
    "    dsnew.attrs['start'] = ''\n",
    "    dsnew.attrs['end'] = ''\n",
    "    dsnew.attrs['datetimes'] = ''\n",
    "    return(dsnew)"
   ]
  },
  {
   "cell_type": "code",
   "execution_count": 152,
   "id": "following-photograph",
   "metadata": {},
   "outputs": [],
   "source": [
    "filepath = '../reference/rain_gauge_preds/'\n",
    "for i in range(len(gauge_locs))[:3]:\n",
    "    c = gauge_locs.cols[i]\n",
    "    r = gauge_locs.rows[i]\n",
    "    combined = xr.open_mfdataset(filepath+'2*.nc', combine='by_coords',\n",
    "                        concat_dim='time', preprocess=lambda ds: preprocess_colrow(ds, c, r))\n",
    "    combined.to_netcdf(os.path.join(filepath,'pred_c'+str(c)+'r'+str(r)+'.nc'))"
   ]
  },
  {
   "cell_type": "code",
   "execution_count": 153,
   "id": "postal-hotel",
   "metadata": {},
   "outputs": [
    {
     "data": {
      "text/plain": [
       "[<matplotlib.lines.Line2D at 0x7f94354bb8e0>]"
      ]
     },
     "execution_count": 153,
     "metadata": {},
     "output_type": "execute_result"
    },
    {
     "data": {
      "image/png": "[encoded data removed]",
      "text/plain": [
       "<Figure size 432x288 with 1 Axes>"
      ]
     },
     "metadata": {
      "needs_background": "light"
     },
     "output_type": "display_data"
    }
   ],
   "source": [
    "plt.plot(combined.xception_posterior_mean.values)"
   ]
  }
 ],
 "metadata": {
  "kernelspec": {
   "display_name": "Python 3",
   "language": "python",
   "name": "python3"
  },
  "language_info": {
   "codemirror_mode": {
    "name": "ipython",
    "version": 3
   },
   "file_extension": ".py",
   "mimetype": "text/x-python",
   "name": "python",
   "nbconvert_exporter": "python",
   "pygments_lexer": "ipython3",
   "version": "3.8.5"
  }
 },
 "nbformat": 4,
 "nbformat_minor": 5
}

{
 "cells": [
  {
   "cell_type": "code",
   "execution_count": 1,
   "id": "numeric-virtue",
   "metadata": {},
   "outputs": [],
   "source": [
    "import numpy as np\n",
    "import matplotlib.pyplot as plt\n",
    "from matplotlib.colors import LogNorm\n",
    "import torch\n",
    "import xarray as xr\n",
    "import pandas as pd\n",
    "import os\n",
    "import datetime\n",
    "\n",
    "\n",
    "import cartopy\n",
    "import cartopy.crs as ccrs\n",
    "from pyresample import load_area, geometry\n",
    "\n",
    "import quantnn"
   ]
  },
  {
   "cell_type": "code",
   "execution_count": 2,
   "id": "correct-nepal",
   "metadata": {},
   "outputs": [],
   "source": [
    "f = open('../path_to_data.txt', \"r\")\n",
    "path_to_dataset = os.path.join(f.read())\n",
    "f.close() "
   ]
  },
  {
   "cell_type": "code",
   "execution_count": 3,
   "id": "grateful-sixth",
   "metadata": {},
   "outputs": [],
   "source": [
    "path_to_rain_gauge_data = '../reference/'\n",
    "area_path='../dataset/downloads/files/areas.yaml'\n",
    "area_def = load_area(area_path, 'full_disk')\n",
    "\n",
    "def get_gauge_locations():\n",
    "    locs = pd.read_pickle(os.path.join(path_to_rain_gauge_data,'rain_gauge_locs.pckl'))\n",
    "    colrows = []\n",
    "    for lon, lat in zip(locs['lon'], locs['lat']):\n",
    "        col, row = area_def.lonlat2colrow(lon, lat) #columns and rows in area_def grid coords \n",
    "        colrows.append((col, row))\n",
    "\n",
    "    locs['cols'] = np.array(colrows)[:,0]\n",
    "    locs['rows'] = np.array(colrows)[:,1]\n",
    "    return(locs)\n"
   ]
  },
  {
   "cell_type": "code",
   "execution_count": 4,
   "id": "white-score",
   "metadata": {},
   "outputs": [
    {
     "name": "stderr",
     "output_type": "stream",
     "text": [
      "/home/ingrid/anaconda/envs/geostat/lib/python3.8/site-packages/pyproj/crs/crs.py:543: UserWarning: You will likely lose important projection information when converting to a PROJ string from another format. See: https://proj.org/faq.html#what-is-the-best-format-for-describing-coordinate-reference-systems\n",
      "  proj_string = self.to_proj4()\n"
     ]
    }
   ],
   "source": [
    "gauge_locs = get_gauge_locations()"
   ]
  },
  {
   "cell_type": "code",
   "execution_count": 5,
   "id": "elementary-valuable",
   "metadata": {},
   "outputs": [
    {
     "data": {
      "text/html": [
       "<div>\n",
       "<style scoped>\n",
       "    .dataframe tbody tr th:only-of-type {\n",
       "        vertical-align: middle;\n",
       "    }\n",
       "\n",
       "    .dataframe tbody tr th {\n",
       "        vertical-align: top;\n",
       "    }\n",
       "\n",
       "    .dataframe thead th {\n",
       "        text-align: right;\n",
       "    }\n",
       "</style>\n",
       "<table border=\"1\" class=\"dataframe\">\n",
       "  <thead>\n",
       "    <tr style=\"text-align: right;\">\n",
       "      <th></th>\n",
       "      <th>lon</th>\n",
       "      <th>lat</th>\n",
       "      <th>cols</th>\n",
       "      <th>rows</th>\n",
       "    </tr>\n",
       "  </thead>\n",
       "  <tbody>\n",
       "    <tr>\n",
       "      <th>0</th>\n",
       "      <td>-56.437222</td>\n",
       "      <td>-30.368611</td>\n",
       "      <td>1777</td>\n",
       "      <td>2128</td>\n",
       "    </tr>\n",
       "    <tr>\n",
       "      <th>1</th>\n",
       "      <td>-46.027500</td>\n",
       "      <td>-7.455278</td>\n",
       "      <td>2100</td>\n",
       "      <td>1556</td>\n",
       "    </tr>\n",
       "    <tr>\n",
       "      <th>2</th>\n",
       "      <td>-45.372778</td>\n",
       "      <td>-1.661667</td>\n",
       "      <td>2122</td>\n",
       "      <td>1400</td>\n",
       "    </tr>\n",
       "    <tr>\n",
       "      <th>3</th>\n",
       "      <td>-57.526667</td>\n",
       "      <td>-11.280278</td>\n",
       "      <td>1818</td>\n",
       "      <td>1661</td>\n",
       "    </tr>\n",
       "    <tr>\n",
       "      <th>4</th>\n",
       "      <td>-43.864722</td>\n",
       "      <td>-8.443056</td>\n",
       "      <td>2145</td>\n",
       "      <td>1581</td>\n",
       "    </tr>\n",
       "    <tr>\n",
       "      <th>...</th>\n",
       "      <td>...</td>\n",
       "      <td>...</td>\n",
       "      <td>...</td>\n",
       "      <td>...</td>\n",
       "    </tr>\n",
       "    <tr>\n",
       "      <th>604</th>\n",
       "      <td>-43.184167</td>\n",
       "      <td>-13.416667</td>\n",
       "      <td>2145</td>\n",
       "      <td>1711</td>\n",
       "    </tr>\n",
       "    <tr>\n",
       "      <th>605</th>\n",
       "      <td>-41.106944</td>\n",
       "      <td>-20.104167</td>\n",
       "      <td>2154</td>\n",
       "      <td>1878</td>\n",
       "    </tr>\n",
       "    <tr>\n",
       "      <th>606</th>\n",
       "      <td>-50.425278</td>\n",
       "      <td>-16.945833</td>\n",
       "      <td>1973</td>\n",
       "      <td>1806</td>\n",
       "    </tr>\n",
       "    <tr>\n",
       "      <th>607</th>\n",
       "      <td>-49.274167</td>\n",
       "      <td>-8.259167</td>\n",
       "      <td>2025</td>\n",
       "      <td>1578</td>\n",
       "    </tr>\n",
       "    <tr>\n",
       "      <th>608</th>\n",
       "      <td>-54.381111</td>\n",
       "      <td>-15.580000</td>\n",
       "      <td>1885</td>\n",
       "      <td>1773</td>\n",
       "    </tr>\n",
       "  </tbody>\n",
       "</table>\n",
       "<p>609 rows × 4 columns</p>\n",
       "</div>"
      ],
      "text/plain": [
       "           lon        lat  cols  rows\n",
       "0   -56.437222 -30.368611  1777  2128\n",
       "1   -46.027500  -7.455278  2100  1556\n",
       "2   -45.372778  -1.661667  2122  1400\n",
       "3   -57.526667 -11.280278  1818  1661\n",
       "4   -43.864722  -8.443056  2145  1581\n",
       "..         ...        ...   ...   ...\n",
       "604 -43.184167 -13.416667  2145  1711\n",
       "605 -41.106944 -20.104167  2154  1878\n",
       "606 -50.425278 -16.945833  1973  1806\n",
       "607 -49.274167  -8.259167  2025  1578\n",
       "608 -54.381111 -15.580000  1885  1773\n",
       "\n",
       "[609 rows x 4 columns]"
      ]
     },
     "execution_count": 5,
     "metadata": {},
     "output_type": "execute_result"
    }
   ],
   "source": [
    "gauge_locs"
   ]
  },
  {
   "cell_type": "code",
   "execution_count": 6,
   "id": "silent-lighter",
   "metadata": {},
   "outputs": [],
   "source": [
    "def preprocess_colrow(ds, col, row):\n",
    "    region_corners_idx_low, __, __, region_corners_idy_low = ds.ind_extent\n",
    "    \n",
    "    values_list = []\n",
    "    for k in list(ds.data_vars.keys()):\n",
    "        newvals = np.stack([ds[k].isel(y=r, x=c).values \n",
    "                            for r,c in zip(row-region_corners_idy_low, col-region_corners_idx_low)])\n",
    "        values_list.append(([\"location\"], newvals))\n",
    "    \n",
    "    data_vars_dict = dict(zip(list(ds.data_vars.keys()), values_list))\n",
    "\n",
    "    da = xr.Dataset(data_vars = data_vars_dict, coords=dict([(\"location\", list(range(newvals.shape[0])))])) #(\"time\", t)\n",
    " \n",
    "    t = datetime.datetime.strptime(ds.attrs['end'], '%Y-%m-%d %H:%M:%S')\n",
    "    print(t)\n",
    "    da = da.assign_coords(dict(time=t))\n",
    "    da = da.expand_dims('time').set_coords('time')\n",
    "\n",
    "    return(da)"
   ]
  },
  {
   "cell_type": "code",
   "execution_count": 7,
   "id": "received-december",
   "metadata": {},
   "outputs": [
    {
     "name": "stdout",
     "output_type": "stream",
     "text": [
      "/home/ingrid/Dendrite/UserAreas/Ingrid/rain_gauge_preds/1\n",
      "2020-12-01 01:00:00\n",
      "2020-12-01 02:00:00\n",
      "2020-12-01 03:00:00\n",
      "2020-12-01 04:00:00\n",
      "2020-12-01 05:00:00\n",
      "2020-12-01 06:00:00\n",
      "2020-12-01 07:00:00\n",
      "2020-12-01 08:00:00\n",
      "2020-12-01 09:00:00\n",
      "2020-12-01 10:00:00\n",
      "2020-12-01 11:00:00\n",
      "2020-12-01 12:00:00\n",
      "2020-12-01 13:00:00\n",
      "2020-12-01 14:00:00\n",
      "2020-12-01 15:00:00\n",
      "2020-12-01 16:00:00\n",
      "2020-12-01 17:00:00\n",
      "2020-12-01 18:00:00\n",
      "2020-12-01 19:00:00\n",
      "2020-12-01 20:00:00\n",
      "2020-12-01 21:00:00\n",
      "2020-12-01 22:00:00\n",
      "2020-12-01 23:00:00\n"
     ]
    }
   ],
   "source": [
    "filepath = os.path.join(path_to_dataset, 'rain_gauge_preds', '1')\n",
    "print(filepath)\n",
    "c = gauge_locs.cols\n",
    "r = gauge_locs.rows\n",
    "combined = xr.open_mfdataset(filepath+'/*.nc', combine='by_coords',\n",
    "                    concat_dim='time', preprocess=lambda ds: preprocess_colrow(ds, c, r))"
   ]
  },
  {
   "cell_type": "code",
   "execution_count": 8,
   "id": "hydraulic-kinase",
   "metadata": {},
   "outputs": [],
   "source": [
    "#combined.to_netcdf(os.path.join(path_to_dataset,'aggregated_rain_gauge_preds','pred_c'+str(1)+'.nc'))"
   ]
  },
  {
   "cell_type": "code",
   "execution_count": 9,
   "id": "pointed-moral",
   "metadata": {},
   "outputs": [],
   "source": [
    "real = pd.read_pickle(os.path.join(path_to_dataset,'real_rain_gauge_data', 'rain_gauges.pckl'))"
   ]
  },
  {
   "cell_type": "code",
   "execution_count": 42,
   "id": "postal-hotel",
   "metadata": {},
   "outputs": [
    {
     "name": "stdout",
     "output_type": "stream",
     "text": [
      "391\n",
      "0      0.0\n",
      "1      0.0\n",
      "2      0.0\n",
      "3      0.0\n",
      "4      0.0\n",
      "      ... \n",
      "739    0.0\n",
      "740    0.0\n",
      "741    0.0\n",
      "742    0.0\n",
      "743    0.0\n",
      "Name: 391, Length: 744, dtype: float64\n"
     ]
    },
    {
     "data": {
      "text/plain": [
       "<matplotlib.legend.Legend at 0x7f6811ef9d90>"
      ]
     },
     "execution_count": 42,
     "metadata": {},
     "output_type": "execute_result"
    },
    {
     "data": {
      "image/png": "[encoded data removed]",
      "text/plain": [
       "<Figure size 1008x576 with 1 Axes>"
      ]
     },
     "metadata": {
      "needs_background": "light"
     },
     "output_type": "display_data"
    }
   ],
   "source": [
    "N=25\n",
    "ind = 391 #308#4#np.random.randint(609)\n",
    "print(ind)\n",
    "v = combined.mlp_posterior_mean[:, ind].values\n",
    "w = combined.xception_posterior_mean[:, ind].values\n",
    "u = combined['xception_Q0.95'][:, ind].values\n",
    "\n",
    "fig, ax = plt.subplots(figsize=(14,8))\n",
    "plt.plot(combined.time, v, label='mlp')\n",
    "plt.plot(combined.time, w, label='cnn')\n",
    "plt.plot(combined.time, u, label='cnn 95')\n",
    "print(real[str(ind)])\n",
    "realt = [time.to_pydatetime() for time in real['timestamp']]\n",
    "#print(combined.time)\n",
    "#print(realt[:23])\n",
    "plt.plot(realt[:N], real[str(ind)][:N], label='gauge')\n",
    "ax.set_ylabel('rain (mm)')\n",
    "ax.set_xlabel('datetime (hour)')\n",
    "ax.legend()"
   ]
  },
  {
   "cell_type": "code",
   "execution_count": null,
   "id": "whole-translator",
   "metadata": {},
   "outputs": [],
   "source": []
  }
 ],
 "metadata": {
  "kernelspec": {
   "display_name": "Python 3",
   "language": "python",
   "name": "python3"
  },
  "language_info": {
   "codemirror_mode": {
    "name": "ipython",
    "version": 3
   },
   "file_extension": ".py",
   "mimetype": "text/x-python",
   "name": "python",
   "nbconvert_exporter": "python",
   "pygments_lexer": "ipython3",
   "version": "3.8.5"
  }
 },
 "nbformat": 4,
 "nbformat_minor": 5
}

{
 "cells": [
  {
   "cell_type": "code",
   "execution_count": 17,
   "id": "dominant-onion",
   "metadata": {},
   "outputs": [],
   "source": [
    "import os\n",
    "import torch\n",
    "from torch.utils.data import Dataset, DataLoader\n",
    "from torchvision import transforms, utils\n",
    "\n",
    "from quantnn.qrnn import QRNN\n",
    "from quantnn.models.pytorch.xception import XceptionFpn\n",
    "\n",
    "import sys\n",
    "sys.path.append('../src/')\n",
    "from load_data import GOESRETRIEVALSDataset, Mask, RandomSmallVals, RandomCrop, Standardize, ToTensor"
   ]
  },
  {
   "cell_type": "code",
   "execution_count": 13,
   "id": "imposed-satin",
   "metadata": {},
   "outputs": [],
   "source": [
    "f = open('../path_to_data.txt', \"r\")\n",
    "path_to_data = os.path.join(f.read(),'data')\n",
    "f.close() "
   ]
  },
  {
   "cell_type": "code",
   "execution_count": 18,
   "id": "outdoor-frank",
   "metadata": {},
   "outputs": [],
   "source": [
    "xception = QRNN.load('../results/xception64_[100]_0.01__boxes_100_0.01_0_t5412_v1354[0, 1, 2, 3, 4, 5, 6, 7]_Adam_1622288705.386947.pckl') #xception.pckl')"
   ]
  },
  {
   "cell_type": "code",
   "execution_count": 12,
   "id": "objective-captain",
   "metadata": {},
   "outputs": [],
   "source": [
    "def importData(BATCH_SIZE, path_to_data, path_to_stats, channel_inds, isTrain=False):\n",
    "\n",
    "    transforms_list = [Mask(), RandomSmallVals()]\n",
    "    if isTrain:\n",
    "        transforms_list.append(RandomCrop(128))\n",
    "    transforms_list.extend([Standardize(path_to_stats, channel_inds), ToTensor()])\n",
    "\n",
    "    dataset = GOESRETRIEVALSDataset(\n",
    "        path_to_data=path_to_data, \n",
    "        channel_inds=channel_inds,\n",
    "        transform=transforms.Compose(transforms_list))\n",
    "    print('number of samples:', len(dataset))\n",
    "\n",
    "    dataloader = DataLoader(dataset, batch_size=BATCH_SIZE, shuffle=True, num_workers=1)\n",
    "    return(dataset, dataloader)"
   ]
  },
  {
   "cell_type": "code",
   "execution_count": 15,
   "id": "governing-collection",
   "metadata": {},
   "outputs": [
    {
     "name": "stdout",
     "output_type": "stream",
     "text": [
      "number of samples: 2928\n"
     ]
    }
   ],
   "source": [
    "BATCH_SIZE = 64\n",
    "channel_inds = list(range(0,8))\n",
    "\n",
    "keys=(\"box\", \"label\")\n",
    "\n",
    "path_to_stats = os.path.join(path_to_data, 'stats.npy')\n",
    "path_to_test_data_files = os.path.join(path_to_data,'dataset-boxes', 'test', 'npy_files')\n",
    "\n",
    "test_dataset, test_data = importData(BATCH_SIZE, path_to_test_data_files, path_to_stats, channel_inds)\n"
   ]
  },
  {
   "cell_type": "code",
   "execution_count": null,
   "id": "molecular-watershed",
   "metadata": {},
   "outputs": [],
   "source": [
    "# HOW TO DO THE TESTING?"
   ]
  }
 ],
 "metadata": {
  "kernelspec": {
   "display_name": "Python 3",
   "language": "python",
   "name": "python3"
  },
  "language_info": {
   "codemirror_mode": {
    "name": "ipython",
    "version": 3
   },
   "file_extension": ".py",
   "mimetype": "text/x-python",
   "name": "python",
   "nbconvert_exporter": "python",
   "pygments_lexer": "ipython3",
   "version": "3.8.5"
  }
 },
 "nbformat": 4,
 "nbformat_minor": 5
}

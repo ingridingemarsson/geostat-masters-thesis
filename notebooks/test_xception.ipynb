{
 "cells": [
  {
   "cell_type": "code",
   "execution_count": 1,
   "id": "dominant-onion",
   "metadata": {},
   "outputs": [],
   "source": [
    "import numpy as np\n",
    "import os\n",
    "import torch\n",
    "from torch.utils.data import Dataset, DataLoader\n",
    "from torchvision import transforms, utils\n",
    "import time\n",
    "\n",
    "from quantnn.qrnn import QRNN\n",
    "from quantnn.models.pytorch.xception import XceptionFpn\n",
    "\n",
    "import sys\n",
    "sys.path.append('../src/')\n",
    "from load_data import GOESRETRIEVALSDataset, Mask, RandomSmallVals, RandomCrop, Standardize, ToTensor"
   ]
  },
  {
   "cell_type": "code",
   "execution_count": 2,
   "id": "imposed-satin",
   "metadata": {},
   "outputs": [],
   "source": [
    "f = open('../path_to_data.txt', \"r\")\n",
    "path_to_data = os.path.join(f.readline().rstrip(\"\\n\"),'data')\n",
    "f.close() "
   ]
  },
  {
   "cell_type": "code",
   "execution_count": 3,
   "id": "outdoor-frank",
   "metadata": {},
   "outputs": [],
   "source": [
    "xception = QRNN.load('../results/xception64_[100]_0.01__boxes_100_0.01_0_t5412_v1354[0, 1, 2, 3, 4, 5, 6, 7]_Adam_1622288705.386947.pckl') #xception.pckl')"
   ]
  },
  {
   "cell_type": "code",
   "execution_count": 4,
   "id": "objective-captain",
   "metadata": {},
   "outputs": [],
   "source": [
    "def importData(BATCH_SIZE, path_to_data, path_to_stats, channel_inds, isTrain=False):\n",
    "\n",
    "    transforms_list = [Mask(), RandomSmallVals()]\n",
    "    if isTrain:\n",
    "        transforms_list.append(RandomCrop(128))\n",
    "    transforms_list.extend([Standardize(path_to_stats, channel_inds), ToTensor()])\n",
    "\n",
    "    dataset = GOESRETRIEVALSDataset(\n",
    "        path_to_data=path_to_data, \n",
    "        channel_inds=channel_inds,\n",
    "        transform=transforms.Compose(transforms_list))\n",
    "    print('number of samples:', len(dataset))\n",
    "\n",
    "    dataloader = DataLoader(dataset, batch_size=BATCH_SIZE, shuffle=True, num_workers=0)\n",
    "    return(dataset, dataloader)"
   ]
  },
  {
   "cell_type": "code",
   "execution_count": 5,
   "id": "geological-kazakhstan",
   "metadata": {},
   "outputs": [],
   "source": [
    "BATCH_SIZE = 64 "
   ]
  },
  {
   "cell_type": "code",
   "execution_count": 6,
   "id": "governing-collection",
   "metadata": {},
   "outputs": [
    {
     "name": "stdout",
     "output_type": "stream",
     "text": [
      "number of samples: 2928\n"
     ]
    }
   ],
   "source": [
    "channel_inds = list(range(0,8))\n",
    "\n",
    "keys=(\"box\", \"label\")\n",
    "\n",
    "path_to_stats = os.path.join(path_to_data, 'stats.npy')\n",
    "path_to_test_data_files = os.path.join(path_to_data,'dataset-boxes', 'test', 'npy_files')\n",
    "\n",
    "test_dataset, test_data = importData(BATCH_SIZE, path_to_test_data_files, path_to_stats, channel_inds)\n"
   ]
  },
  {
   "cell_type": "code",
   "execution_count": 7,
   "id": "molecular-watershed",
   "metadata": {},
   "outputs": [
    {
     "name": "stdout",
     "output_type": "stream",
     "text": [
      "0\n"
     ]
    },
    {
     "name": "stderr",
     "output_type": "stream",
     "text": [
      "/export/home/ingrid/anaconda3/envs/geo/lib/python3.8/site-packages/torch/nn/functional.py:3060: UserWarning: Default upsampling behavior when mode=bilinear is changed to align_corners=False since 0.4.0. Please specify align_corners=True if the old behavior is desired. See the documentation of nn.Upsample for details.\n",
      "  warnings.warn(\"Default upsampling behavior when mode={} is changed \"\n"
     ]
    },
    {
     "name": "stdout",
     "output_type": "stream",
     "text": [
      "1\n",
      "2\n",
      "3\n",
      "4\n",
      "5\n",
      "6\n",
      "7\n",
      "8\n",
      "9\n",
      "10\n",
      "11\n",
      "12\n",
      "13\n",
      "14\n",
      "15\n",
      "16\n",
      "17\n",
      "18\n",
      "19\n",
      "20\n",
      "21\n",
      "22\n",
      "23\n",
      "24\n",
      "25\n",
      "26\n",
      "27\n",
      "28\n",
      "29\n",
      "30\n",
      "31\n",
      "32\n",
      "33\n",
      "34\n",
      "35\n",
      "36\n",
      "37\n",
      "38\n",
      "39\n",
      "40\n",
      "41\n",
      "42\n",
      "43\n",
      "44\n",
      "45\n",
      "time: 5661.7409682273865\n"
     ]
    }
   ],
   "source": [
    "start = time.time()\n",
    "\n",
    "y_true_tot = []\n",
    "y_pred_tot = []\n",
    "crps_tot = []\n",
    "\n",
    "with torch.no_grad():\n",
    "    for batch_index, batch_data in enumerate(test_data):\n",
    "        print(batch_index)\n",
    "        \n",
    "        boxes = batch_data['box']\n",
    "        y_true = batch_data['label']\n",
    "        \n",
    "        mask = (torch.less(y_true, 0))\n",
    "        \n",
    "        y_pred = xception.posterior_mean(boxes)\n",
    "        crps = xception.crps(x=boxes, y_true=y_true)\n",
    "        \n",
    "        y_true_tot += [y_true[~mask].detach().numpy()]\n",
    "        y_pred_tot += [y_pred[~mask].detach().numpy()]\n",
    "        crps_tot += [crps[~mask].detach().numpy()]\n",
    "        \n",
    "end = time.time()\n",
    "print('time:', end-start)"
   ]
  },
  {
   "cell_type": "code",
   "execution_count": null,
   "id": "offensive-birmingham",
   "metadata": {},
   "outputs": [],
   "source": [
    "y_true_tot_c = np.concatenate(y_true_tot, axis=0)\n",
    "y_pred_tot_c = np.concatenate(y_pred_tot, axis=0)\n",
    "crps_tot_c = np.concatenate(crps_tot, axis=0)"
   ]
  },
  {
   "cell_type": "code",
   "execution_count": 14,
   "id": "canadian-college",
   "metadata": {},
   "outputs": [],
   "source": [
    "bins = np.logspace(-2, 2, 81)\n",
    "freqs, _, _ = np.histogram2d(y_true_tot_c, y_pred_tot_c, bins=bins)"
   ]
  },
  {
   "cell_type": "code",
   "execution_count": 15,
   "id": "surprising-fellowship",
   "metadata": {},
   "outputs": [
    {
     "data": {
      "image/png": "[encoded data removed]",
      "text/plain": [
       "<Figure size 720x360 with 2 Axes>"
      ]
     },
     "metadata": {
      "needs_background": "light"
     },
     "output_type": "display_data"
    }
   ],
   "source": [
    "import matplotlib.pyplot as plt\n",
    "from matplotlib.colors import Normalize\n",
    "#norm = Normalize(0, 400)\n",
    "\n",
    "f, axs = plt.subplots(1, 2, figsize=(10, 5))\n",
    "\n",
    "ax = axs[0]\n",
    "ax.pcolormesh(bins, bins, freqs.T)#, norm=norm)\n",
    "ax.set_xlim([1e-2, 1e2])\n",
    "ax.set_ylim([1e-2, 1e2])\n",
    "ax.set_xscale(\"log\")\n",
    "ax.set_yscale(\"log\")\n",
    "ax.set_xlabel(\"Reference rain rate [mm / h]\")\n",
    "ax.set_ylabel(\"Predicted rain rate [mm / h]\")\n",
    "ax.set_title(\"(a) Fully-connected\", loc=\"left\")\n",
    "ax.plot(bins, bins, c=\"grey\", ls=\"--\")\n",
    "ax.set_aspect(1.0)\n",
    "\n",
    "plt.tight_layout()"
   ]
  },
  {
   "cell_type": "code",
   "execution_count": null,
   "id": "bearing-running",
   "metadata": {},
   "outputs": [],
   "source": []
  }
 ],
 "metadata": {
  "kernelspec": {
   "display_name": "Python 3",
   "language": "python",
   "name": "python3"
  },
  "language_info": {
   "codemirror_mode": {
    "name": "ipython",
    "version": 3
   },
   "file_extension": ".py",
   "mimetype": "text/x-python",
   "name": "python",
   "nbconvert_exporter": "python",
   "pygments_lexer": "ipython3",
   "version": "3.8.5"
  }
 },
 "nbformat": 4,
 "nbformat_minor": 5
}

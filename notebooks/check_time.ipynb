{
 "cells": [
  {
   "cell_type": "code",
   "execution_count": 1,
   "id": "sexual-cartridge",
   "metadata": {},
   "outputs": [],
   "source": [
    "import numpy as np\n",
    "import os\n",
    "import datetime\n",
    "import matplotlib.pyplot as plt\n",
    "\n",
    "import xarray as xr\n",
    "import sys\n",
    "sys.path.append('../dataset')\n",
    "from data.common import  CreateListOfLinkfilesInSpan"
   ]
  },
  {
   "cell_type": "code",
   "execution_count": 2,
   "id": "blank-convenience",
   "metadata": {},
   "outputs": [],
   "source": [
    "def extractGPMtime(dataset, attrstr):\n",
    "    t_str = dataset.attrs['gpm_time_'+attrstr]\n",
    "    t_dt = datetime.datetime.strptime(t_str if len(t_str)==26 else t_str+'.000000', '%Y-%m-%d %H:%M:%S.%f')\n",
    "    \n",
    "    return(t_dt)\n",
    "\n",
    "def extractGOEStime(dataset, attrstr, ind):\n",
    "    t_str = dataset.attrs['goes_time_'+attrstr][ind]\n",
    "    t_dt = datetime.datetime.strptime(t_str if len(t_str)==26 else t_str+'.000000', '%Y-%m-%d %H:%M:%S.%f')\n",
    "    \n",
    "    return(t_dt)\n",
    "\n",
    "def midTime(t_in, t_out):\n",
    "    mid = t_in + datetime.timedelta(seconds=(t_out-t_in).total_seconds()/2)\n",
    "    return(mid)\n",
    "\n",
    "def timeDiff(t2, t1):\n",
    "    time_diff = (t2-t1).total_seconds()\n",
    "    return(time_diff)"
   ]
  },
  {
   "cell_type": "code",
   "execution_count": 3,
   "id": "binary-trick",
   "metadata": {},
   "outputs": [],
   "source": [
    "num_goes = 8"
   ]
  },
  {
   "cell_type": "code",
   "execution_count": 12,
   "id": "verified-future",
   "metadata": {},
   "outputs": [],
   "source": [
    "f = open('../path_to_data.txt', \"r\")\n",
    "path_to_dataset = f.read()\n",
    "f.close() "
   ]
  },
  {
   "cell_type": "code",
   "execution_count": 15,
   "id": "supported-region",
   "metadata": {},
   "outputs": [],
   "source": [
    "data_loc = os.path.join(path_to_dataset,'origin/')\n",
    "linkdirs = CreateListOfLinkfilesInSpan(17, 12, 21, 3)\n",
    "parentdirs = [data_loc + linkdir + '/' for linkdir in linkdirs]"
   ]
  },
  {
   "cell_type": "code",
   "execution_count": 16,
   "id": "celtic-horse",
   "metadata": {},
   "outputs": [
    {
     "name": "stdout",
     "output_type": "stream",
     "text": [
      "/home/ingrid/Dendrite/UserAreas/Ingrid/origin/linkfile2017-12/\n",
      "/home/ingrid/Dendrite/UserAreas/Ingrid/origin/linkfile2018-01/\n",
      "/home/ingrid/Dendrite/UserAreas/Ingrid/origin/linkfile2018-02/\n",
      "/home/ingrid/Dendrite/UserAreas/Ingrid/origin/linkfile2018-03/\n",
      "/home/ingrid/Dendrite/UserAreas/Ingrid/origin/linkfile2018-04/\n",
      "/home/ingrid/Dendrite/UserAreas/Ingrid/origin/linkfile2018-05/\n",
      "/home/ingrid/Dendrite/UserAreas/Ingrid/origin/linkfile2018-06/\n",
      "/home/ingrid/Dendrite/UserAreas/Ingrid/origin/linkfile2018-07/\n",
      "/home/ingrid/Dendrite/UserAreas/Ingrid/origin/linkfile2018-08/\n",
      "/home/ingrid/Dendrite/UserAreas/Ingrid/origin/linkfile2018-09/\n",
      "/home/ingrid/Dendrite/UserAreas/Ingrid/origin/linkfile2018-10/\n",
      "/home/ingrid/Dendrite/UserAreas/Ingrid/origin/linkfile2018-11/\n",
      "/home/ingrid/Dendrite/UserAreas/Ingrid/origin/linkfile2018-12/\n",
      "/home/ingrid/Dendrite/UserAreas/Ingrid/origin/linkfile2019-01/\n",
      "/home/ingrid/Dendrite/UserAreas/Ingrid/origin/linkfile2019-02/\n",
      "/home/ingrid/Dendrite/UserAreas/Ingrid/origin/linkfile2019-03/\n",
      "/home/ingrid/Dendrite/UserAreas/Ingrid/origin/linkfile2019-04/\n",
      "/home/ingrid/Dendrite/UserAreas/Ingrid/origin/linkfile2019-05/\n",
      "/home/ingrid/Dendrite/UserAreas/Ingrid/origin/linkfile2019-06/\n",
      "/home/ingrid/Dendrite/UserAreas/Ingrid/origin/linkfile2019-07/\n",
      "/home/ingrid/Dendrite/UserAreas/Ingrid/origin/linkfile2019-08/\n",
      "/home/ingrid/Dendrite/UserAreas/Ingrid/origin/linkfile2019-09/\n",
      "/home/ingrid/Dendrite/UserAreas/Ingrid/origin/linkfile2019-10/\n",
      "/home/ingrid/Dendrite/UserAreas/Ingrid/origin/linkfile2019-11/\n",
      "/home/ingrid/Dendrite/UserAreas/Ingrid/origin/linkfile2019-12/\n",
      "/home/ingrid/Dendrite/UserAreas/Ingrid/origin/linkfile2020-01/\n",
      "/home/ingrid/Dendrite/UserAreas/Ingrid/origin/linkfile2020-02/\n",
      "/home/ingrid/Dendrite/UserAreas/Ingrid/origin/linkfile2020-03/\n",
      "/home/ingrid/Dendrite/UserAreas/Ingrid/origin/linkfile2020-04/\n",
      "/home/ingrid/Dendrite/UserAreas/Ingrid/origin/linkfile2020-05/\n",
      "/home/ingrid/Dendrite/UserAreas/Ingrid/origin/linkfile2020-06/\n",
      "/home/ingrid/Dendrite/UserAreas/Ingrid/origin/linkfile2020-07/\n",
      "/home/ingrid/Dendrite/UserAreas/Ingrid/origin/linkfile2020-08/\n",
      "/home/ingrid/Dendrite/UserAreas/Ingrid/origin/linkfile2020-09/\n",
      "/home/ingrid/Dendrite/UserAreas/Ingrid/origin/linkfile2020-10/\n",
      "/home/ingrid/Dendrite/UserAreas/Ingrid/origin/linkfile2020-11/\n",
      "/home/ingrid/Dendrite/UserAreas/Ingrid/origin/linkfile2020-12/\n",
      "/home/ingrid/Dendrite/UserAreas/Ingrid/origin/linkfile2021-01/\n",
      "/home/ingrid/Dendrite/UserAreas/Ingrid/origin/linkfile2021-02/\n",
      "/home/ingrid/Dendrite/UserAreas/Ingrid/origin/linkfile2021-03/\n"
     ]
    }
   ],
   "source": [
    "file_list = []\n",
    "gpm_len = []\n",
    "goes_len_mean = []\n",
    "goes_len_std = []\n",
    "max_time_diffs = []\n",
    "\n",
    "for parentdir in parentdirs:\n",
    "    print(parentdir)\n",
    "    for path, subdir, files in os.walk(parentdir):\n",
    "        for file in files:    \n",
    "            if file.endswith('.nc'):\n",
    "                file_list.append(os.path.join(path,file))\n",
    "                dataset = xr.open_dataset(os.path.join(path,file))\n",
    "                dataset.close()\n",
    "\n",
    "                gpm_in = extractGPMtime(dataset, 'in')\n",
    "                gpm_out = extractGPMtime(dataset, 'out')\n",
    "\n",
    "                goes_ins = [extractGOEStime(dataset, 'in', i) for i in range(num_goes)]\n",
    "                goes_outs = [extractGOEStime(dataset, 'out', i) for i in range(num_goes)]\n",
    "\n",
    "                gpm_len.append(timeDiff(gpm_out,gpm_in))\n",
    "                goes_diff = [timeDiff(goes_out,goes_in) for goes_in, goes_out in zip(goes_ins, goes_outs)]\n",
    "                goes_len_mean.append(np.mean(goes_diff))\n",
    "                goes_len_std.append(np.std(goes_diff))\n",
    "\n",
    "                gpm_mid = midTime(gpm_in, gpm_out)\n",
    "                goes_mids = [midTime(goes_in, goes_out) for goes_in, goes_out in zip(goes_ins, goes_outs)]\n",
    "\n",
    "                time_diff = [timeDiff(gpm_mid, goes_mid) for goes_mid in goes_mids]\n",
    "                maxabsind = np.argmax(np.abs(np.array(time_diff)))\n",
    "                max_time_diffs.append(time_diff[maxabsind])\n"
   ]
  },
  {
   "cell_type": "code",
   "execution_count": 6,
   "id": "jewish-career",
   "metadata": {},
   "outputs": [
    {
     "name": "stdout",
     "output_type": "stream",
     "text": [
      "number of samples:  9694\n"
     ]
    }
   ],
   "source": [
    "print('number of samples: ', len(file_list))"
   ]
  },
  {
   "cell_type": "code",
   "execution_count": 7,
   "id": "accessory-phoenix",
   "metadata": {},
   "outputs": [
    {
     "name": "stdout",
     "output_type": "stream",
     "text": [
      "min 2.8583333166666667\n",
      "max 3.978333333333333\n"
     ]
    },
    {
     "data": {
      "image/png": "[encoded data removed]",
      "text/plain": [
       "<Figure size 576x576 with 1 Axes>"
      ]
     },
     "metadata": {
      "needs_background": "light"
     },
     "output_type": "display_data"
    }
   ],
   "source": [
    "gpm_len_arr = np.array(gpm_len)/60\n",
    "print('min', min(gpm_len_arr))\n",
    "print('max', max(gpm_len_arr))\n",
    "fig, ax = plt.subplots(figsize=(8,8))\n",
    "ax.hist(gpm_len_arr, bins=10)\n",
    "ax.set_xlabel('minutes')\n",
    "plt.show()"
   ]
  },
  {
   "cell_type": "code",
   "execution_count": 8,
   "id": "backed-diameter",
   "metadata": {},
   "outputs": [
    {
     "name": "stdout",
     "output_type": "stream",
     "text": [
      "min 4.678541666666666\n",
      "max 10.623333333333335\n"
     ]
    },
    {
     "data": {
      "image/png": "[encoded data removed]",
      "text/plain": [
       "<Figure size 576x576 with 1 Axes>"
      ]
     },
     "metadata": {
      "needs_background": "light"
     },
     "output_type": "display_data"
    }
   ],
   "source": [
    "goes_len_arr = np.array(goes_len_mean)/60\n",
    "print('min', min(goes_len_arr))\n",
    "print('max', max(goes_len_arr))\n",
    "fig, ax = plt.subplots(figsize=(8,8))\n",
    "ax.hist(goes_len_arr, bins=10)\n",
    "ax.set_xlabel('minutes')\n",
    "plt.show()"
   ]
  },
  {
   "cell_type": "code",
   "execution_count": 9,
   "id": "close-moses",
   "metadata": {},
   "outputs": [
    {
     "name": "stdout",
     "output_type": "stream",
     "text": [
      "min 0.4330127018922193\n",
      "max 0.5655473012932115\n"
     ]
    },
    {
     "data": {
      "image/png": "[encoded data removed]",
      "text/plain": [
       "<Figure size 576x576 with 1 Axes>"
      ]
     },
     "metadata": {
      "needs_background": "light"
     },
     "output_type": "display_data"
    }
   ],
   "source": [
    "goes_len_std_arr = np.array(goes_len_std)\n",
    "print('min', min(goes_len_std_arr))\n",
    "print('max', max(goes_len_std_arr))\n",
    "fig, ax = plt.subplots(figsize=(8,8))\n",
    "ax.hist(goes_len_std_arr, bins=10)\n",
    "ax.set_xlabel('seconds')\n",
    "plt.show()"
   ]
  },
  {
   "cell_type": "code",
   "execution_count": 10,
   "id": "meaningful-soviet",
   "metadata": {},
   "outputs": [
    {
     "name": "stdout",
     "output_type": "stream",
     "text": [
      "[-9. -8. -7. -6. -5. -4. -3. -2. -1.  0.  1.  2.  3.  4.  5.  6.  7.  8.\n",
      "  9. 10.]\n",
      "min -7.066050000000001\n",
      "max 8.003616666666666\n"
     ]
    },
    {
     "data": {
      "image/png": "[encoded data removed]",
      "text/plain": [
       "<Figure size 576x576 with 1 Axes>"
      ]
     },
     "metadata": {
      "needs_background": "light"
     },
     "output_type": "display_data"
    }
   ],
   "source": [
    "bins = np.linspace(-9,10,20)\n",
    "print(bins)\n",
    "max_time_diff_arr = np.array(max_time_diffs)/60\n",
    "print('min', min(max_time_diff_arr))\n",
    "print('max', max(max_time_diff_arr))\n",
    "fig, ax = plt.subplots(figsize=(8,8))\n",
    "ax.hist(max_time_diff_arr, bins=bins)\n",
    "ax.set_title('Greatest time difference between gpm and goes time stamps in sample')\n",
    "ax.set_ylabel('sample count')\n",
    "ax.set_xlabel('time difference (minutes)')\n",
    "ax.set_xticks(bins)\n",
    "plt.show()"
   ]
  },
  {
   "cell_type": "code",
   "execution_count": 11,
   "id": "outer-azerbaijan",
   "metadata": {},
   "outputs": [
    {
     "data": {
      "text/plain": [
       "8440"
      ]
     },
     "execution_count": 11,
     "metadata": {},
     "output_type": "execute_result"
    }
   ],
   "source": [
    "inds = [(td < 5) and (td > -5) for td in max_time_diff_arr]\n",
    "len(max_time_diff_arr[inds])"
   ]
  }
 ],
 "metadata": {
  "kernelspec": {
   "display_name": "Python 3",
   "language": "python",
   "name": "python3"
  },
  "language_info": {
   "codemirror_mode": {
    "name": "ipython",
    "version": 3
   },
   "file_extension": ".py",
   "mimetype": "text/x-python",
   "name": "python",
   "nbconvert_exporter": "python",
   "pygments_lexer": "ipython3",
   "version": "3.8.5"
  }
 },
 "nbformat": 4,
 "nbformat_minor": 5
}

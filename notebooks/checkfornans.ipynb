{
 "cells": [
  {
   "cell_type": "code",
   "execution_count": 1,
   "id": "plastic-apollo",
   "metadata": {},
   "outputs": [],
   "source": [
    "import numpy as np\n",
    "import os\n",
    "\n",
    "import xarray as xr"
   ]
  },
  {
   "cell_type": "code",
   "execution_count": 2,
   "id": "directed-value",
   "metadata": {},
   "outputs": [],
   "source": [
    "mydir = '/home/ingrid/Documents/Exjobb/Dendrite/UserAreas/Ingrid/Dataset/'"
   ]
  },
  {
   "cell_type": "code",
   "execution_count": 3,
   "id": "compound-creator",
   "metadata": {},
   "outputs": [],
   "source": [
    "#os.listdir(mydir)"
   ]
  },
  {
   "cell_type": "code",
   "execution_count": 4,
   "id": "editorial-revelation",
   "metadata": {},
   "outputs": [
    {
     "name": "stdout",
     "output_type": "stream",
     "text": [
      "True\n",
      "True\n",
      "True\n",
      "True\n",
      "True\n",
      "True\n",
      "True\n",
      "True\n",
      "True\n",
      "True\n",
      "True\n",
      "True\n",
      "True\n",
      "True\n",
      "True\n",
      "True\n",
      "True\n",
      "True\n"
     ]
    }
   ],
   "source": [
    "files_with_nan = []\n",
    "for root, dirs, files in os.walk(mydir):\n",
    "    for name in files:\n",
    "        dataset = xr.open_dataset(os.path.join(root, name))\n",
    "        dataset.close()\n",
    "        nanbool = np.isnan(np.stack([dataset.data_vars[k].values for k in list(dataset.keys())[:-1]])).any()\n",
    "        if nanbool:\n",
    "            print(nanbool)\n",
    "            files_with_nan.append(os.path.join(root, name))"
   ]
  },
  {
   "cell_type": "code",
   "execution_count": 5,
   "id": "another-toyota",
   "metadata": {},
   "outputs": [
    {
     "data": {
      "text/plain": [
       "['/home/ingrid/Documents/Exjobb/Dendrite/UserAreas/Ingrid/Dataset/linkfile2021-02/GPMGOES-oS2021-02-28T04:17:44-c[8,9,10,11,13,14,15,16]-p256/GPMGOES-oS2021-02-28T04:17:44-c[8,9,10,11,13,14,15,16]-p256-b1.nc',\n",
       " '/home/ingrid/Documents/Exjobb/Dendrite/UserAreas/Ingrid/Dataset/linkfile2021-03/GPMGOES-oS2021-03-02T14:55:37-c[8,9,10,11,13,14,15,16]-p256/GPMGOES-oS2021-03-02T14:55:37-c[8,9,10,11,13,14,15,16]-p256-b0.nc',\n",
       " '/home/ingrid/Documents/Exjobb/Dendrite/UserAreas/Ingrid/Dataset/linkfile2021-03/GPMGOES-oS2021-03-02T14:55:37-c[8,9,10,11,13,14,15,16]-p256/GPMGOES-oS2021-03-02T14:55:37-c[8,9,10,11,13,14,15,16]-p256-b1.nc',\n",
       " '/home/ingrid/Documents/Exjobb/Dendrite/UserAreas/Ingrid/Dataset/linkfile2021-03/GPMGOES-oS2021-03-02T04:07:35-c[8,9,10,11,13,14,15,16]-p256/GPMGOES-oS2021-03-02T04:07:35-c[8,9,10,11,13,14,15,16]-p256-b1.nc',\n",
       " '/home/ingrid/Documents/Exjobb/Dendrite/UserAreas/Ingrid/Dataset/linkfile2018-05/GPMGOES-oS2018-05-24T11:25:56-c[8,9,10,11,13,14,15,16]-p256/GPMGOES-oS2018-05-24T11:25:56-c[8,9,10,11,13,14,15,16]-p256-b1.nc',\n",
       " '/home/ingrid/Documents/Exjobb/Dendrite/UserAreas/Ingrid/Dataset/linkfile2020-04/GPMGOES-oS2020-04-13T03:19:39-c[8,9,10,11,13,14,15,16]-p256/GPMGOES-oS2020-04-13T03:19:39-c[8,9,10,11,13,14,15,16]-p256-b0.nc',\n",
       " '/home/ingrid/Documents/Exjobb/Dendrite/UserAreas/Ingrid/Dataset/linkfile2019-05/GPMGOES-oS2019-05-08T17:57:11-c[8,9,10,11,13,14,15,16]-p256/GPMGOES-oS2019-05-08T17:57:11-c[8,9,10,11,13,14,15,16]-p256-b-1.nc',\n",
       " '/home/ingrid/Documents/Exjobb/Dendrite/UserAreas/Ingrid/Dataset/linkfile2020-05/GPMGOES-oS2020-05-18T16:27:31-c[8,9,10,11,13,14,15,16]-p256/GPMGOES-oS2020-05-18T16:27:31-c[8,9,10,11,13,14,15,16]-p256-b0.nc',\n",
       " '/home/ingrid/Documents/Exjobb/Dendrite/UserAreas/Ingrid/Dataset/linkfile2020-05/GPMGOES-oS2020-05-18T16:27:31-c[8,9,10,11,13,14,15,16]-p256/GPMGOES-oS2020-05-18T16:27:31-c[8,9,10,11,13,14,15,16]-p256-b1.nc',\n",
       " '/home/ingrid/Documents/Exjobb/Dendrite/UserAreas/Ingrid/Dataset/linkfile2018-10/GPMGOES-oS2018-10-14T17:02:24-c[8,9,10,11,13,14,15,16]-p256/GPMGOES-oS2018-10-14T17:02:24-c[8,9,10,11,13,14,15,16]-p256-b0.nc',\n",
       " '/home/ingrid/Documents/Exjobb/Dendrite/UserAreas/Ingrid/Dataset/linkfile2018-10/GPMGOES-oS2018-10-14T06:14:20-c[8,9,10,11,13,14,15,16]-p256/GPMGOES-oS2018-10-14T06:14:20-c[8,9,10,11,13,14,15,16]-p256-b-1.nc',\n",
       " '/home/ingrid/Documents/Exjobb/Dendrite/UserAreas/Ingrid/Dataset/linkfile2018-10/GPMGOES-oS2018-10-14T06:14:20-c[8,9,10,11,13,14,15,16]-p256/GPMGOES-oS2018-10-14T06:14:20-c[8,9,10,11,13,14,15,16]-p256-b0.nc',\n",
       " '/home/ingrid/Documents/Exjobb/Dendrite/UserAreas/Ingrid/Dataset/linkfile2020-09/GPMGOES-oS2020-09-22T03:23:17-c[8,9,10,11,13,14,15,16]-p256/GPMGOES-oS2020-09-22T03:23:17-c[8,9,10,11,13,14,15,16]-p256-b0.nc',\n",
       " '/home/ingrid/Documents/Exjobb/Dendrite/UserAreas/Ingrid/Dataset/linkfile2018-11/GPMGOES-oS2018-11-27T17:54:44-c[8,9,10,11,13,14,15,16]-p256/GPMGOES-oS2018-11-27T17:54:44-c[8,9,10,11,13,14,15,16]-p256-b0.nc',\n",
       " '/home/ingrid/Documents/Exjobb/Dendrite/UserAreas/Ingrid/Dataset/linkfile2018-11/GPMGOES-oS2018-11-27T17:54:44-c[8,9,10,11,13,14,15,16]-p256/GPMGOES-oS2018-11-27T17:54:44-c[8,9,10,11,13,14,15,16]-p256-b1.nc',\n",
       " '/home/ingrid/Documents/Exjobb/Dendrite/UserAreas/Ingrid/Dataset/linkfile2020-10/GPMGOES-oS2020-10-20T19:26:21-c[8,9,10,11,13,14,15,16]-p256/GPMGOES-oS2020-10-20T19:26:21-c[8,9,10,11,13,14,15,16]-p256-b0.nc',\n",
       " '/home/ingrid/Documents/Exjobb/Dendrite/UserAreas/Ingrid/Dataset/linkfile2020-10/GPMGOES-oS2020-10-07T22:55:26-c[8,9,10,11,13,14,15,16]-p256/GPMGOES-oS2020-10-07T22:55:26-c[8,9,10,11,13,14,15,16]-p256-b-1.nc',\n",
       " '/home/ingrid/Documents/Exjobb/Dendrite/UserAreas/Ingrid/Dataset/linkfile2020-10/GPMGOES-oS2020-10-07T22:55:26-c[8,9,10,11,13,14,15,16]-p256/GPMGOES-oS2020-10-07T22:55:26-c[8,9,10,11,13,14,15,16]-p256-b0.nc']"
      ]
     },
     "execution_count": 5,
     "metadata": {},
     "output_type": "execute_result"
    }
   ],
   "source": [
    "files_with_nan"
   ]
  },
  {
   "cell_type": "code",
   "execution_count": 7,
   "id": "confident-uncle",
   "metadata": {},
   "outputs": [
    {
     "data": {
      "text/plain": [
       "18"
      ]
     },
     "execution_count": 7,
     "metadata": {},
     "output_type": "execute_result"
    }
   ],
   "source": [
    "len(files_with_nan)"
   ]
  },
  {
   "cell_type": "code",
   "execution_count": null,
   "id": "toxic-compatibility",
   "metadata": {},
   "outputs": [],
   "source": []
  }
 ],
 "metadata": {
  "kernelspec": {
   "display_name": "Python 3",
   "language": "python",
   "name": "python3"
  },
  "language_info": {
   "codemirror_mode": {
    "name": "ipython",
    "version": 3
   },
   "file_extension": ".py",
   "mimetype": "text/x-python",
   "name": "python",
   "nbconvert_exporter": "python",
   "pygments_lexer": "ipython3",
   "version": "3.8.5"
  }
 },
 "nbformat": 4,
 "nbformat_minor": 5
}

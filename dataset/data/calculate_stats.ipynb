{
 "cells": [
  {
   "cell_type": "code",
   "execution_count": 1,
   "id": "meaningful-branch",
   "metadata": {},
   "outputs": [],
   "source": [
    "import numpy as np\n",
    "import os\n",
    "from pathlib import Path"
   ]
  },
  {
   "cell_type": "code",
   "execution_count": 16,
   "id": "danish-horizontal",
   "metadata": {},
   "outputs": [],
   "source": [
    "f = open('../../path_to_data.txt', \"r\")\n",
    "path_to_data = os.path.join(f.read(), 'data')\n",
    "f.close() \n",
    "subfolder = 'npy_files/'\n",
    "path_to_stats = os.path.join(path_to_data)"
   ]
  },
  {
   "cell_type": "code",
   "execution_count": 19,
   "id": "postal-gentleman",
   "metadata": {},
   "outputs": [],
   "source": [
    "def ComputeStats(path_to_stats, path_to_data):\n",
    "    a = np.load(os.path.join(path_to_data, 'dataset-singles', 'train', 'X.npy'))\n",
    "    mu = a.mean(axis=0)\n",
    "    sigma = a.std(axis=0)\n",
    "    \n",
    "    stats = np.stack([mu, sigma])\n",
    "    \n",
    "    if not np.isnan(np.sum(stats)):\n",
    "        np.save(os.path.join(path_to_stats,'stats.npy'), stats)\n",
    "    else:\n",
    "        print('Array contains NaN')\n",
    "        \n",
    "    return(stats)\n"
   ]
  },
  {
   "cell_type": "code",
   "execution_count": 18,
   "id": "outside-attachment",
   "metadata": {},
   "outputs": [],
   "source": [
    "#(83360758, 8)"
   ]
  },
  {
   "cell_type": "code",
   "execution_count": 12,
   "id": "elementary-snapshot",
   "metadata": {},
   "outputs": [],
   "source": [
    "#m = np.array([237.21362182, 245.45192957, 253.13629522, 274.36663974, 276.30547958, 275.06471849, 272.4538842 , 261.75157837])"
   ]
  },
  {
   "cell_type": "code",
   "execution_count": 13,
   "id": "linear-quarterly",
   "metadata": {},
   "outputs": [],
   "source": [
    "#s = np.array([9.38798579, 11.61106397, 13.47721821, 21.12596274, 22.1454853, 22.56711976, 22.09965367, 17.55496192])"
   ]
  },
  {
   "cell_type": "code",
   "execution_count": 14,
   "id": "changing-huntington",
   "metadata": {},
   "outputs": [],
   "source": [
    "#st = np.stack([m, s])"
   ]
  },
  {
   "cell_type": "code",
   "execution_count": 17,
   "id": "approximate-announcement",
   "metadata": {},
   "outputs": [],
   "source": [
    "#np.save(os.path.join(path_to_stats,'stats.npy'), st)"
   ]
  }
 ],
 "metadata": {
  "kernelspec": {
   "display_name": "Python 3",
   "language": "python",
   "name": "python3"
  },
  "language_info": {
   "codemirror_mode": {
    "name": "ipython",
    "version": 3
   },
   "file_extension": ".py",
   "mimetype": "text/x-python",
   "name": "python",
   "nbconvert_exporter": "python",
   "pygments_lexer": "ipython3",
   "version": "3.8.5"
  }
 },
 "nbformat": 4,
 "nbformat_minor": 5
}

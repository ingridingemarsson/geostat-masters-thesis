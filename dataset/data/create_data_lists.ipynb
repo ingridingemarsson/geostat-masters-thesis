{
 "cells": [
  {
   "cell_type": "code",
   "execution_count": 1,
   "id": "minute-convenience",
   "metadata": {},
   "outputs": [],
   "source": [
    "import numpy as np\n",
    "import os\n",
    "from pathlib import Path\n",
    "\n",
    "from common import CreateListOfLinkfilesInSpan\n",
    "from list_data import listData, createSplit"
   ]
  },
  {
   "cell_type": "code",
   "execution_count": 2,
   "id": "widespread-refrigerator",
   "metadata": {},
   "outputs": [],
   "source": [
    "path_to_data = '/home/ingrid/Dendrite/UserAreas/Ingrid/Dataset/'#'../../origin/'\n",
    "path_to_lists = 'lists/'\n",
    "\n",
    "if not Path.exists(Path(path_to_lists)):\n",
    "    os.makedirs(path_to_lists)"
   ]
  },
  {
   "cell_type": "markdown",
   "id": "shared-cattle",
   "metadata": {},
   "source": [
    "List all data files in time range for train/validation and for test"
   ]
  },
  {
   "cell_type": "code",
   "execution_count": 3,
   "id": "regular-deviation",
   "metadata": {},
   "outputs": [],
   "source": [
    "trainvaldirlist = CreateListOfLinkfilesInSpan(17, 12, 20, 3)\n",
    "trainvaldirlist = [path_to_data+elem for elem in trainvaldirlist]\n",
    "listData(trainvaldirlist, os.path.join(path_to_lists, 'trainvallist.txt'))"
   ]
  },
  {
   "cell_type": "code",
   "execution_count": 4,
   "id": "invisible-industry",
   "metadata": {},
   "outputs": [],
   "source": [
    "testdirlist = CreateListOfLinkfilesInSpan(20, 4, 21, 3)\n",
    "testdirlist = [path_to_data+elem for elem in testdirlist]\n",
    "listData(testdirlist, os.path.join(path_to_lists, 'testlist.txt'))"
   ]
  },
  {
   "cell_type": "markdown",
   "id": "operational-adventure",
   "metadata": {},
   "source": [
    "Create train/validation split"
   ]
  },
  {
   "cell_type": "code",
   "execution_count": 5,
   "id": "super-bridges",
   "metadata": {},
   "outputs": [],
   "source": [
    "createSplit(path_to_lists, 0.8, ['trainlist.txt', 'vallist.txt'])"
   ]
  }
 ],
 "metadata": {
  "kernelspec": {
   "display_name": "Python 3",
   "language": "python",
   "name": "python3"
  },
  "language_info": {
   "codemirror_mode": {
    "name": "ipython",
    "version": 3
   },
   "file_extension": ".py",
   "mimetype": "text/x-python",
   "name": "python",
   "nbconvert_exporter": "python",
   "pygments_lexer": "ipython3",
   "version": "3.8.5"
  }
 },
 "nbformat": 4,
 "nbformat_minor": 5
}
